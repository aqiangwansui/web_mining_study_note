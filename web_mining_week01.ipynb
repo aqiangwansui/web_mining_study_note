{
 "cells": [
  {
   "cell_type": "code",
   "execution_count": 25,
   "metadata": {},
   "outputs": [
    {
     "name": "stdout",
     "output_type": "stream",
     "text": [
      "职业名称: 城市规划设计师\n",
      "工作链接: {'https://www.liepin.com/job/1916763663.shtml'}\n",
      "职业名称: 资深设计师\n",
      "工作链接: {'https://www.liepin.com/job/1914610293.shtml'}\n",
      "职业名称: 资深主创设计师\n",
      "工作链接: {'https://www.liepin.com/job/1914347898.shtml'}\n",
      "职业名称: 水电设计师\n",
      "工作链接: {'https://www.liepin.com/job/1915222599.shtml'}\n",
      "职业名称: 洪评设计师\n",
      "工作链接: {'https://www.liepin.com/job/1914082921.shtml'}\n",
      "职业名称: 园林景观设计师\n",
      "工作链接: {'https://www.liepin.com/job/1911183001.shtml'}\n",
      "职业名称: 生态环境设计师\n",
      "工作链接: {'https://www.liepin.com/job/1911181813.shtml'}\n",
      "职业名称: 产品研发设计师\n",
      "工作链接: {'https://www.liepin.com/job/1924668345.shtml'}\n",
      "职业名称: 芯片后端版图设计师\n",
      "工作链接: {'https://www.liepin.com/job/1926686613.shtml'}\n",
      "职业名称: 施工图深化设计师\n",
      "工作链接: {'https://www.liepin.com/job/1926850247.shtml'}\n",
      "职业名称: 主设计师/设计总监\n",
      "工作链接: {'https://www.liepin.com/job/1926711403.shtml'}\n",
      "职业名称: 精装设计师\n",
      "工作链接: {'https://www.liepin.com/job/195004279.shtml'}\n",
      "职业名称: 幕墙设计师\n",
      "工作链接: {'https://www.liepin.com/job/1918072911.shtml'}\n",
      "职业名称: 主案设计师\n",
      "工作链接: {'https://www.liepin.com/job/1924489219.shtml'}\n",
      "职业名称: 硬装部设计师\n",
      "工作链接: {'https://www.liepin.com/job/1920626917.shtml'}\n",
      "职业名称: 硬装资深设计师\n",
      "工作链接: {'https://www.liepin.com/job/197517609.shtml'}\n",
      "职业名称: 互联网UI设计师\n",
      "工作链接: {'https://www.liepin.com/job/1926838067.shtml'}\n",
      "职业名称: 系统架构设计师\n",
      "工作链接: {'https://www.liepin.com/job/1926584507.shtml'}\n",
      "职业名称: 硬装主案设计师\n",
      "工作链接: {'https://www.liepin.com/job/1920626167.shtml'}\n",
      "职业名称: 硬装主案设计师\n",
      "工作链接: {'https://www.liepin.com/job/1918156755.shtml'}\n",
      "职业名称: 水利工程设计师\n",
      "工作链接: {'https://www.liepin.com/job/1911181491.shtml'}\n",
      "职业名称: 运营设计师\n",
      "工作链接: {'https://www.liepin.com/job/1926796175.shtml'}\n",
      "职业名称: 强电设计师\n",
      "工作链接: {'https://www.liepin.com/job/1925328227.shtml'}\n",
      "职业名称: UI/UX设计师\n",
      "工作链接: {'https://www.liepin.com/job/1925616223.shtml'}\n",
      "职业名称: 机电设计师\n",
      "工作链接: {'https://www.liepin.com/job/1920311093.shtml'}\n",
      "职业名称: 水利工程设计师（19年应届生可落户）\n",
      "工作链接: {'https://www.liepin.com/job/1919890563.shtml'}\n",
      "职业名称: 效果图设计师\n",
      "工作链接: {'https://www.liepin.com/job/1910014756.shtml'}\n",
      "职业名称: 驻店设计师\n",
      "工作链接: {'https://www.liepin.com/job/1922939973.shtml'}\n",
      "职业名称: 机电设计师/主管(002516)\n",
      "工作链接: {'https://www.liepin.com/job/1926660149.shtml'}\n",
      "职业名称: UI设计师\n",
      "工作链接: {'https://www.liepin.com/job/1926665549.shtml'}\n",
      "职业名称: 外贸女装设计师\n",
      "工作链接: {'https://www.liepin.com/job/1918420587.shtml'}\n",
      "职业名称: 全屋定制研发设计师\n",
      "工作链接: {'https://www.liepin.com/job/1923727897.shtml'}\n",
      "职业名称: 3d设计师\n",
      "工作链接: {'https://www.liepin.com/job/1920720001.shtml'}\n",
      "职业名称: 高级场景原画设计师【心动网络】\n",
      "工作链接: {'https://www.liepin.com/job/1926577857.shtml'}\n",
      "职业名称: 机械三维设计师\n",
      "工作链接: {'https://www.liepin.com/job/1918859943.shtml'}\n",
      "职业名称: UI设计师\n",
      "工作链接: {'https://www.liepin.com/job/1925700129.shtml'}\n",
      "职业名称: 景观方案主创设计师\n",
      "工作链接: {'https://www.liepin.com/job/1918868803.shtml'}\n",
      "职业名称: 服饰设计师\n",
      "工作链接: {'https://www.liepin.com/job/1926244327.shtml'}\n",
      "职业名称: 视频包装设计师\n",
      "工作链接: {'https://www.liepin.com/job/1925116929.shtml'}\n",
      "职业名称: UI设计师\n",
      "工作链接: {'https://www.liepin.com/job/1926090145.shtml'}\n"
     ]
    }
   ],
   "source": [
    "from requests_html import HTMLSession\n",
    "\n",
    "session = HTMLSession()\n",
    "\n",
    "r = session.get(\"https://www.liepin.com/zhaopin/?key=designer\")\n",
    "\n",
    "# 通过xpath找到工作标签\n",
    "news = r.html.xpath('//div[@class=\"job-info\"]/h3/a')\n",
    "# 得仔细，基本功很重要\n",
    "for new in news:\n",
    "    print(\"职业名称:\",new.text)  # 获得工作标题\n",
    "    print(\"工作链接:\",new.absolute_links)  # 获得工作链接"
   ]
  },
  {
   "cell_type": "code",
   "execution_count": 29,
   "metadata": {},
   "outputs": [
    {
     "name": "stdout",
     "output_type": "stream",
     "text": [
      "职业地区: 佛山-顺德区\n",
      "职业地区: 深圳\n",
      "职业地区: 南通-港闸区\n",
      "职业地区: 北京\n",
      "职业地区: 北京\n",
      "职业地区: 上海-普陀区\n",
      "职业地区: 广州\n",
      "职业地区: 上海-城隍庙\n",
      "职业地区: 广州\n",
      "职业地区: 广州\n",
      "职业地区: 北京-和平里\n",
      "职业地区: 苏州-常熟\n",
      "职业地区: 成都\n",
      "职业地区: 广州-白云区\n",
      "职业地区: 上海-天山路\n",
      "职业地区: 上海-浦东新区\n",
      "职业地区: 上海-浦东新区\n",
      "职业地区: 杭州\n",
      "职业地区: 徐州\n",
      "职业地区: 深圳-龙华区\n",
      "职业地区: 宁波-余姚\n",
      "职业地区: 佛山-南海区\n",
      "职业地区: 成都\n",
      "职业地区: 武汉\n",
      "职业地区: 广州-天河区\n",
      "职业地区: 广州-天河区\n",
      "职业地区: 广州-天河区\n",
      "职业地区: 上海\n",
      "职业地区: 广州-天河区\n",
      "职业地区: 上海-闵行区\n",
      "职业地区: 上海\n",
      "职业地区: 深圳\n",
      "职业地区: 西安\n",
      "职业地区: 上海-上海南站\n",
      "职业地区: 招聘信息\n"
     ]
    }
   ],
   "source": [
    "from requests_html import HTMLSession\n",
    "\n",
    "session = HTMLSession()\n",
    "\n",
    "r = session.get(\"https://www.liepin.com/zhaopin/?key=designer+广\")\n",
    "\n",
    "# 通过xpath找到工作标签\n",
    "news = r.html.xpath('//*[@id=\"sojob\"]//div/div[1]/p[1]/a')\n",
    "# 没有过硬的前端知识就像小白菜，一个一个删减找到最后所想要的答案\n",
    "\n",
    "for new in news:\n",
    "    print(\"职业地区:\",new.text)  # 获得工作标题\n",
    "    #　content：返回bytes类型的数据也就是二进制数据,text：返回的就是纯文本（Unicode类型的数据）"
   ]
  },
  {
   "cell_type": "code",
   "execution_count": 38,
   "metadata": {},
   "outputs": [
    {
     "name": "stdout",
     "output_type": "stream",
     "text": [
      "职业信息: 万 — 万 确定\n",
      "职业信息: 面议 深圳 本科及以上 5年以上\n",
      "职业信息: 面议 深圳 本科及以上 5年以上\n",
      "职业信息: 15-26k·13薪 上海 本科及以上 1年以上\n",
      "职业信息: 面议 成都 本科及以上 8年以上\n",
      "职业信息: 20-30k·12薪 上海-岳阳 本科及以上 经验不限\n",
      "职业信息: 8-10k·12薪 成都 大专及以上 1年以上\n",
      "职业信息: 面议 成都-中和 本科及以上 经验不限\n",
      "职业信息: 面议 上海 本科及以上 5年以上\n",
      "职业信息: 20-30k·13薪 成都-武侯区 统招本科 5年以上\n",
      "职业信息: 20-40k·12薪 深圳-南山区 学历不限 经验不限\n",
      "职业信息: 面议 北京 统招本科 经验不限\n",
      "职业信息: 面议 深圳 本科及以上 10年以上\n",
      "职业信息: 面议 深圳 本科及以上 3年以上\n",
      "职业信息: 面议 深圳 本科及以上 5年以上\n",
      "职业信息: 6-10k·12薪 成都-青羊区 本科及以上 经验不限\n",
      "职业信息: 15-25k·15薪 深圳-罗湖区 大专及以上 2年以上\n",
      "职业信息: 面议 成都 学历不限 5年以上\n",
      "职业信息: 面议 成都 本科及以上 经验不限\n",
      "职业信息: 15-25k·12薪 成都 大专及以上 5年以上\n",
      "职业信息: 7-14k·12薪 成都-草市街 大专及以上 2年以上\n",
      "职业信息: 8-10k·12薪 成都 大专及以上 经验不限\n",
      "职业信息: 面议 上海 学历不限 2年以上\n",
      "职业信息: 面议 深圳 本科及以上 8年以上\n",
      "职业信息: 面议 上海 本科及以上 8年以上\n",
      "职业信息: 面议 上海 本科及以上 5年以上\n",
      "职业信息: 面议 上海 本科及以上 5年以上\n",
      "职业信息: 面议 上海 本科及以上 4年以上\n",
      "职业信息: 面议 上海 本科及以上 5年以上\n",
      "职业信息: 4-6k·12薪 成都 学历不限 1年以上\n",
      "职业信息: 6-10k·12薪 成都 学历不限 5年以上\n",
      "职业信息: 15-35k·12薪 上海-漕河泾 大专及以上 5年以上\n",
      "职业信息: 面议 上海 大专及以上 经验不限\n",
      "职业信息: 8-10k·14薪 成都 学历不限 3年以上\n",
      "职业信息: 10-15k·12薪 成都 本科及以上 3年以上\n",
      "职业信息: 6-10k·13薪 成都 学历不限 2年以上\n",
      "职业信息: 8-15k·13薪 成都 大专及以上 3年以上\n",
      "职业信息: 面议 上海 本科及以上 2年以上\n",
      "职业信息: 25-50k·12薪 上海 统招本科 3年以上\n",
      "职业信息: 面议 上海 本科及以上 1年以上\n",
      "职业信息: 面议 上海-静安区 统招本科 3年以上\n",
      "职业信息: 招聘信息\n"
     ]
    }
   ],
   "source": [
    "from requests_html import HTMLSession\n",
    "\n",
    "session = HTMLSession()\n",
    "\n",
    "r = session.get(\"https://www.liepin.com/zhaopin/?key=game+designer\")\n",
    "\n",
    "# 通过xpath找到工作标签\n",
    "news = r.html.xpath('//*[@id=\"sojob\"]//div[1]/p[1]')\n",
    "\n",
    "for new in news:\n",
    "    print(\"职业信息:\",new.text)  # 获得工作标题\n"
   ]
  },
  {
   "cell_type": "code",
   "execution_count": 45,
   "metadata": {},
   "outputs": [
    {
     "data": {
      "text/markdown": [
       "![](https://httpstatusdogs.com/img/418.jpg)"
      ],
      "text/plain": [
       "<IPython.core.display.Markdown object>"
      ]
     },
     "metadata": {},
     "output_type": "display_data"
    }
   ],
   "source": [
    "from IPython.core.display import display, Markdown\n",
    "display(Markdown('![](https://httpstatusdogs.com/img/418.jpg)'))"
   ]
  },
  {
   "cell_type": "code",
   "execution_count": null,
   "metadata": {},
   "outputs": [],
   "source": []
  },
  {
   "cell_type": "code",
   "execution_count": 48,
   "metadata": {},
   "outputs": [
    {
     "name": "stdout",
     "output_type": "stream",
     "text": [
      "data:image/png;base64,iVBORw0KGgoAAAANSUhEUgAAAAEAAAABCAQAAAC1HAwCAAAAC0lEQVR42mNgYAAAAAMAASsJTYQAAAAASUVORK5CYII=\n"
     ]
    },
    {
     "data": {
      "text/markdown": [
       "![](data:image/png;base64,iVBORw0KGgoAAAANSUhEUgAAAAEAAAABCAQAAAC1HAwCAAAAC0lEQVR42mNgYAAAAAMAASsJTYQAAAAASUVORK5CYII=)"
      ],
      "text/plain": [
       "<IPython.core.display.Markdown object>"
      ]
     },
     "metadata": {},
     "output_type": "display_data"
    },
    {
     "name": "stdout",
     "output_type": "stream",
     "text": [
      "/rs/5g/1qM/ic/77c87e7d/317096f3.png\n"
     ]
    },
    {
     "data": {
      "text/markdown": [
       "![](/rs/5g/1qM/ic/77c87e7d/317096f3.png)"
      ],
      "text/plain": [
       "<IPython.core.display.Markdown object>"
      ]
     },
     "metadata": {},
     "output_type": "display_data"
    },
    {
     "name": "stdout",
     "output_type": "stream",
     "text": [
      "data:image/svg+xml;base64,PHN2ZyB3aWR0aD0iMTZweCIgaGVpZ2h0PSIxNHB4IiBmb2N1c2FibGU9ImZhbHNlIiB2aWV3Qm94PSIwIDAgMTYgMTQiIHhtbG5zPSJodHRwOi8vd3d3LnczLm9yZy8yMDAwL3N2ZyIgeG1sbnM6eGxpbms9Imh0dHA6Ly93d3cudzMub3JnLzE5OTkveGxpbmsiPjxnIHRyYW5zZm9ybT0idHJhbnNsYXRlKC0xMDg1LjAwMDAwMCwgLTIxNTIuMDAwMDAwKSIgZmlsbD0iIzY2NjY2NiI+PHBhdGggZD0iTTEwODUsMjE1MiBMMTA4NSwyMTUzLjcxMDY3IEwxMDkxLDIxNTkuNzEwNjcgTDEwOTEsMjE2NiBMMTA5NSwyMTY2IEwxMDk1LDIxNTkuNzEwNjcgTDExMDEsMjE1My43MTA2NyBMMTEwMSwyMTUyIEwxMDg1LDIxNTIgWiBNMTA5MiwyMTU5LjI4OTMzIEwxMDg2LDIxNTMuMjg5MzMgTDEwODYsMjE1My4wMDEzMyBMMTEwMCwyMTUzLjAwMTMzIEwxMTAwLDIxNTMuMjg5MzMgTDEwOTQsMjE1OS4yODkzMyBMMTA5NCwyMTY1LjAwMTMzIEwxMDkyLDIxNjUuMDAxMzMgTDEwOTIsMjE1OS4yODkzMyBaIi8+PC9nPjwvc3ZnPg==\n"
     ]
    },
    {
     "data": {
      "text/markdown": [
       "![](data:image/svg+xml;base64,PHN2ZyB3aWR0aD0iMTZweCIgaGVpZ2h0PSIxNHB4IiBmb2N1c2FibGU9ImZhbHNlIiB2aWV3Qm94PSIwIDAgMTYgMTQiIHhtbG5zPSJodHRwOi8vd3d3LnczLm9yZy8yMDAwL3N2ZyIgeG1sbnM6eGxpbms9Imh0dHA6Ly93d3cudzMub3JnLzE5OTkveGxpbmsiPjxnIHRyYW5zZm9ybT0idHJhbnNsYXRlKC0xMDg1LjAwMDAwMCwgLTIxNTIuMDAwMDAwKSIgZmlsbD0iIzY2NjY2NiI+PHBhdGggZD0iTTEwODUsMjE1MiBMMTA4NSwyMTUzLjcxMDY3IEwxMDkxLDIxNTkuNzEwNjcgTDEwOTEsMjE2NiBMMTA5NSwyMTY2IEwxMDk1LDIxNTkuNzEwNjcgTDExMDEsMjE1My43MTA2NyBMMTEwMSwyMTUyIEwxMDg1LDIxNTIgWiBNMTA5MiwyMTU5LjI4OTMzIEwxMDg2LDIxNTMuMjg5MzMgTDEwODYsMjE1My4wMDEzMyBMMTEwMCwyMTUzLjAwMTMzIEwxMTAwLDIxNTMuMjg5MzMgTDEwOTQsMjE1OS4yODkzMyBMMTA5NCwyMTY1LjAwMTMzIEwxMDkyLDIxNjUuMDAxMzMgTDEwOTIsMjE1OS4yODkzMyBaIi8+PC9nPjwvc3ZnPg==)"
      ],
      "text/plain": [
       "<IPython.core.display.Markdown object>"
      ]
     },
     "metadata": {},
     "output_type": "display_data"
    },
    {
     "name": "stdout",
     "output_type": "stream",
     "text": [
      "data:image/svg+xml;base64,PHN2ZyBmb2N1c2FibGU9ImZhbHNlIiB4bWxucz0iaHR0cDovL3d3dy53My5vcmcvMjAwMC9zdmciIHZpZXdCb3g9IjAgMCAxNiAxNiIgZW5hYmxlLWJhY2tncm91bmQ9Im5ldyAwIDAgMTYgMTYiPjxwYXRoIGZpbGw9IiM2NjYiIGQ9Ik0wIDFoMTZ2MS43MTFsLTYgNnY2LjI4OWgtNHYtNi4yODlsLTYtNnYtMS43MTF6Ii8+PC9zdmc+\n"
     ]
    },
    {
     "data": {
      "text/markdown": [
       "![](data:image/svg+xml;base64,PHN2ZyBmb2N1c2FibGU9ImZhbHNlIiB4bWxucz0iaHR0cDovL3d3dy53My5vcmcvMjAwMC9zdmciIHZpZXdCb3g9IjAgMCAxNiAxNiIgZW5hYmxlLWJhY2tncm91bmQ9Im5ldyAwIDAgMTYgMTYiPjxwYXRoIGZpbGw9IiM2NjYiIGQ9Ik0wIDFoMTZ2MS43MTFsLTYgNnY2LjI4OWgtNHYtNi4yODlsLTYtNnYtMS43MTF6Ii8+PC9zdmc+)"
      ],
      "text/plain": [
       "<IPython.core.display.Markdown object>"
      ]
     },
     "metadata": {},
     "output_type": "display_data"
    },
    {
     "name": "stdout",
     "output_type": "stream",
     "text": [
      "https://tse2-mm.cn.bing.net/th/id/OIP.vFKvm69rHQ_fpocasMmykQHaLH?w=163&h=160&c=7&o=5&pid=1.7\n"
     ]
    },
    {
     "data": {
      "text/markdown": [
       "![](https://tse2-mm.cn.bing.net/th/id/OIP.vFKvm69rHQ_fpocasMmykQHaLH?w=163&h=160&c=7&o=5&pid=1.7)"
      ],
      "text/plain": [
       "<IPython.core.display.Markdown object>"
      ]
     },
     "metadata": {},
     "output_type": "display_data"
    },
    {
     "name": "stdout",
     "output_type": "stream",
     "text": [
      "https://tse1-mm.cn.bing.net/th/id/OIP.ud4fQYt8VpxX5em1x4StLwHaJP?w=164&h=160&c=7&o=5&pid=1.7\n"
     ]
    },
    {
     "data": {
      "text/markdown": [
       "![](https://tse1-mm.cn.bing.net/th/id/OIP.ud4fQYt8VpxX5em1x4StLwHaJP?w=164&h=160&c=7&o=5&pid=1.7)"
      ],
      "text/plain": [
       "<IPython.core.display.Markdown object>"
      ]
     },
     "metadata": {},
     "output_type": "display_data"
    },
    {
     "name": "stdout",
     "output_type": "stream",
     "text": [
      "https://tse2-mm.cn.bing.net/th/id/OIP.rnqNMbW4fLZnDZK9yF9nbQHaEo?w=209&h=160&c=7&o=5&pid=1.7\n"
     ]
    },
    {
     "data": {
      "text/markdown": [
       "![](https://tse2-mm.cn.bing.net/th/id/OIP.rnqNMbW4fLZnDZK9yF9nbQHaEo?w=209&h=160&c=7&o=5&pid=1.7)"
      ],
      "text/plain": [
       "<IPython.core.display.Markdown object>"
      ]
     },
     "metadata": {},
     "output_type": "display_data"
    },
    {
     "name": "stdout",
     "output_type": "stream",
     "text": [
      "https://tse1-mm.cn.bing.net/th/id/OIP.VJGYgCIvaK8WXEiRT58mjwHaEo?w=210&h=160&c=7&o=5&pid=1.7\n"
     ]
    },
    {
     "data": {
      "text/markdown": [
       "![](https://tse1-mm.cn.bing.net/th/id/OIP.VJGYgCIvaK8WXEiRT58mjwHaEo?w=210&h=160&c=7&o=5&pid=1.7)"
      ],
      "text/plain": [
       "<IPython.core.display.Markdown object>"
      ]
     },
     "metadata": {},
     "output_type": "display_data"
    },
    {
     "name": "stdout",
     "output_type": "stream",
     "text": [
      "https://tse2-mm.cn.bing.net/th/id/OIP.uAhemvHDZDQevvM0GEzi3QHaEo?w=210&h=160&c=7&o=5&pid=1.7\n"
     ]
    },
    {
     "data": {
      "text/markdown": [
       "![](https://tse2-mm.cn.bing.net/th/id/OIP.uAhemvHDZDQevvM0GEzi3QHaEo?w=210&h=160&c=7&o=5&pid=1.7)"
      ],
      "text/plain": [
       "<IPython.core.display.Markdown object>"
      ]
     },
     "metadata": {},
     "output_type": "display_data"
    },
    {
     "name": "stdout",
     "output_type": "stream",
     "text": [
      "data:image/gif;base64,R0lGODlhAQABAIAAAAAAAP///yH5BAEAAAEALAAAAAABAAEAAAIBTAA7\n"
     ]
    },
    {
     "data": {
      "text/markdown": [
       "![](data:image/gif;base64,R0lGODlhAQABAIAAAAAAAP///yH5BAEAAAEALAAAAAABAAEAAAIBTAA7)"
      ],
      "text/plain": [
       "<IPython.core.display.Markdown object>"
      ]
     },
     "metadata": {},
     "output_type": "display_data"
    },
    {
     "name": "stdout",
     "output_type": "stream",
     "text": [
      "data:image/gif;base64,R0lGODlhAQABAIAAAAAAAP///yH5BAEAAAEALAAAAAABAAEAAAIBTAA7\n"
     ]
    },
    {
     "data": {
      "text/markdown": [
       "![](data:image/gif;base64,R0lGODlhAQABAIAAAAAAAP///yH5BAEAAAEALAAAAAABAAEAAAIBTAA7)"
      ],
      "text/plain": [
       "<IPython.core.display.Markdown object>"
      ]
     },
     "metadata": {},
     "output_type": "display_data"
    },
    {
     "name": "stdout",
     "output_type": "stream",
     "text": [
      "data:image/gif;base64,R0lGODlhAQABAIAAAAAAAP///yH5BAEAAAEALAAAAAABAAEAAAIBTAA7\n"
     ]
    },
    {
     "data": {
      "text/markdown": [
       "![](data:image/gif;base64,R0lGODlhAQABAIAAAAAAAP///yH5BAEAAAEALAAAAAABAAEAAAIBTAA7)"
      ],
      "text/plain": [
       "<IPython.core.display.Markdown object>"
      ]
     },
     "metadata": {},
     "output_type": "display_data"
    },
    {
     "name": "stdout",
     "output_type": "stream",
     "text": [
      "data:image/gif;base64,R0lGODlhAQABAIAAAAAAAP///yH5BAEAAAEALAAAAAABAAEAAAIBTAA7\n"
     ]
    },
    {
     "data": {
      "text/markdown": [
       "![](data:image/gif;base64,R0lGODlhAQABAIAAAAAAAP///yH5BAEAAAEALAAAAAABAAEAAAIBTAA7)"
      ],
      "text/plain": [
       "<IPython.core.display.Markdown object>"
      ]
     },
     "metadata": {},
     "output_type": "display_data"
    },
    {
     "name": "stdout",
     "output_type": "stream",
     "text": [
      "data:image/gif;base64,R0lGODlhAQABAIAAAAAAAP///yH5BAEAAAEALAAAAAABAAEAAAIBTAA7\n"
     ]
    },
    {
     "data": {
      "text/markdown": [
       "![](data:image/gif;base64,R0lGODlhAQABAIAAAAAAAP///yH5BAEAAAEALAAAAAABAAEAAAIBTAA7)"
      ],
      "text/plain": [
       "<IPython.core.display.Markdown object>"
      ]
     },
     "metadata": {},
     "output_type": "display_data"
    },
    {
     "name": "stdout",
     "output_type": "stream",
     "text": [
      "data:image/gif;base64,R0lGODlhAQABAIAAAAAAAP///yH5BAEAAAEALAAAAAABAAEAAAIBTAA7\n"
     ]
    },
    {
     "data": {
      "text/markdown": [
       "![](data:image/gif;base64,R0lGODlhAQABAIAAAAAAAP///yH5BAEAAAEALAAAAAABAAEAAAIBTAA7)"
      ],
      "text/plain": [
       "<IPython.core.display.Markdown object>"
      ]
     },
     "metadata": {},
     "output_type": "display_data"
    },
    {
     "name": "stdout",
     "output_type": "stream",
     "text": [
      "data:image/gif;base64,R0lGODlhAQABAIAAAAAAAP///yH5BAEAAAEALAAAAAABAAEAAAIBTAA7\n"
     ]
    },
    {
     "data": {
      "text/markdown": [
       "![](data:image/gif;base64,R0lGODlhAQABAIAAAAAAAP///yH5BAEAAAEALAAAAAABAAEAAAIBTAA7)"
      ],
      "text/plain": [
       "<IPython.core.display.Markdown object>"
      ]
     },
     "metadata": {},
     "output_type": "display_data"
    },
    {
     "name": "stdout",
     "output_type": "stream",
     "text": [
      "data:image/gif;base64,R0lGODlhAQABAIAAAAAAAP///yH5BAEAAAEALAAAAAABAAEAAAIBTAA7\n"
     ]
    },
    {
     "data": {
      "text/markdown": [
       "![](data:image/gif;base64,R0lGODlhAQABAIAAAAAAAP///yH5BAEAAAEALAAAAAABAAEAAAIBTAA7)"
      ],
      "text/plain": [
       "<IPython.core.display.Markdown object>"
      ]
     },
     "metadata": {},
     "output_type": "display_data"
    },
    {
     "name": "stdout",
     "output_type": "stream",
     "text": [
      "data:image/gif;base64,R0lGODlhAQABAIAAAAAAAP///yH5BAEAAAEALAAAAAABAAEAAAIBTAA7\n"
     ]
    },
    {
     "data": {
      "text/markdown": [
       "![](data:image/gif;base64,R0lGODlhAQABAIAAAAAAAP///yH5BAEAAAEALAAAAAABAAEAAAIBTAA7)"
      ],
      "text/plain": [
       "<IPython.core.display.Markdown object>"
      ]
     },
     "metadata": {},
     "output_type": "display_data"
    },
    {
     "name": "stdout",
     "output_type": "stream",
     "text": [
      "data:image/gif;base64,R0lGODlhAQABAIAAAAAAAP///yH5BAEAAAEALAAAAAABAAEAAAIBTAA7\n"
     ]
    },
    {
     "data": {
      "text/markdown": [
       "![](data:image/gif;base64,R0lGODlhAQABAIAAAAAAAP///yH5BAEAAAEALAAAAAABAAEAAAIBTAA7)"
      ],
      "text/plain": [
       "<IPython.core.display.Markdown object>"
      ]
     },
     "metadata": {},
     "output_type": "display_data"
    },
    {
     "name": "stdout",
     "output_type": "stream",
     "text": [
      "https://tse4-mm.cn.bing.net/th?q=%e6%ad%a6%e6%9e%97%e9%a3%8e%e4%b8%80%e9%be%99ko%e7%8e%8b%e6%b4%aa%e7%a5%a5%e8%a7%86%e9%a2%91&w=120&h=120&c=1&rs=1&qlt=90&cb=1&pid=InlineBlock&mkt=zh-CN&adlt=strict&t=1&mw=247\n"
     ]
    },
    {
     "data": {
      "text/markdown": [
       "![](https://tse4-mm.cn.bing.net/th?q=%e6%ad%a6%e6%9e%97%e9%a3%8e%e4%b8%80%e9%be%99ko%e7%8e%8b%e6%b4%aa%e7%a5%a5%e8%a7%86%e9%a2%91&w=120&h=120&c=1&rs=1&qlt=90&cb=1&pid=InlineBlock&mkt=zh-CN&adlt=strict&t=1&mw=247)"
      ],
      "text/plain": [
       "<IPython.core.display.Markdown object>"
      ]
     },
     "metadata": {},
     "output_type": "display_data"
    },
    {
     "name": "stdout",
     "output_type": "stream",
     "text": [
      "https://tse2-mm.cn.bing.net/th?q=%e6%ad%a6%e6%9e%97%e9%a3%8e%e7%8e%8b%e6%b4%aa%e7%a5%a5%e5%af%b9%e4%b8%80%e9%be%99&w=120&h=120&c=1&rs=1&qlt=90&cb=1&pid=InlineBlock&mkt=zh-CN&adlt=strict&t=1&mw=247\n"
     ]
    },
    {
     "data": {
      "text/markdown": [
       "![](https://tse2-mm.cn.bing.net/th?q=%e6%ad%a6%e6%9e%97%e9%a3%8e%e7%8e%8b%e6%b4%aa%e7%a5%a5%e5%af%b9%e4%b8%80%e9%be%99&w=120&h=120&c=1&rs=1&qlt=90&cb=1&pid=InlineBlock&mkt=zh-CN&adlt=strict&t=1&mw=247)"
      ],
      "text/plain": [
       "<IPython.core.display.Markdown object>"
      ]
     },
     "metadata": {},
     "output_type": "display_data"
    },
    {
     "name": "stdout",
     "output_type": "stream",
     "text": [
      "https://tse4-mm.cn.bing.net/th?q=%e7%8e%8b%e4%bc%a0%e4%b8%80&w=120&h=120&c=1&rs=1&qlt=90&cb=1&pid=InlineBlock&mkt=zh-CN&adlt=strict&t=1&mw=247\n"
     ]
    },
    {
     "data": {
      "text/markdown": [
       "![](https://tse4-mm.cn.bing.net/th?q=%e7%8e%8b%e4%bc%a0%e4%b8%80&w=120&h=120&c=1&rs=1&qlt=90&cb=1&pid=InlineBlock&mkt=zh-CN&adlt=strict&t=1&mw=247)"
      ],
      "text/plain": [
       "<IPython.core.display.Markdown object>"
      ]
     },
     "metadata": {},
     "output_type": "display_data"
    },
    {
     "name": "stdout",
     "output_type": "stream",
     "text": [
      "https://tse4-mm.cn.bing.net/th?q=%e6%ad%a6%e6%9e%97%e9%a3%8e%e4%b8%80%e9%be%99vs%e7%8e%8b%e6%b4%aa%e7%a5%a5&w=120&h=120&c=1&rs=1&qlt=90&cb=1&pid=InlineBlock&mkt=zh-CN&adlt=strict&t=1&mw=247\n"
     ]
    },
    {
     "data": {
      "text/markdown": [
       "![](https://tse4-mm.cn.bing.net/th?q=%e6%ad%a6%e6%9e%97%e9%a3%8e%e4%b8%80%e9%be%99vs%e7%8e%8b%e6%b4%aa%e7%a5%a5&w=120&h=120&c=1&rs=1&qlt=90&cb=1&pid=InlineBlock&mkt=zh-CN&adlt=strict&t=1&mw=247)"
      ],
      "text/plain": [
       "<IPython.core.display.Markdown object>"
      ]
     },
     "metadata": {},
     "output_type": "display_data"
    },
    {
     "name": "stdout",
     "output_type": "stream",
     "text": [
      "https://tse4-mm.cn.bing.net/th?q=%e7%8e%8b%e6%9d%8e%e4%b8%b9+%e4%b8%80%e8%b7%af%e5%90%91%e8%a5%bf&w=120&h=120&c=1&rs=1&qlt=90&cb=1&pid=InlineBlock&mkt=zh-CN&adlt=strict&t=1&mw=247\n"
     ]
    },
    {
     "data": {
      "text/markdown": [
       "![](https://tse4-mm.cn.bing.net/th?q=%e7%8e%8b%e6%9d%8e%e4%b8%b9+%e4%b8%80%e8%b7%af%e5%90%91%e8%a5%bf&w=120&h=120&c=1&rs=1&qlt=90&cb=1&pid=InlineBlock&mkt=zh-CN&adlt=strict&t=1&mw=247)"
      ],
      "text/plain": [
       "<IPython.core.display.Markdown object>"
      ]
     },
     "metadata": {},
     "output_type": "display_data"
    },
    {
     "name": "stdout",
     "output_type": "stream",
     "text": [
      "https://tse2-mm.cn.bing.net/th?q=%e7%8e%8b%e6%9d%8e%e4%b8%b9%e5%a6%ae%e4%b8%80%e8%b7%af%e5%90%91%e8%a5%bf&w=120&h=120&c=1&rs=1&qlt=90&cb=1&pid=InlineBlock&mkt=zh-CN&adlt=strict&t=1&mw=247\n"
     ]
    },
    {
     "data": {
      "text/markdown": [
       "![](https://tse2-mm.cn.bing.net/th?q=%e7%8e%8b%e6%9d%8e%e4%b8%b9%e5%a6%ae%e4%b8%80%e8%b7%af%e5%90%91%e8%a5%bf&w=120&h=120&c=1&rs=1&qlt=90&cb=1&pid=InlineBlock&mkt=zh-CN&adlt=strict&t=1&mw=247)"
      ],
      "text/plain": [
       "<IPython.core.display.Markdown object>"
      ]
     },
     "metadata": {},
     "output_type": "display_data"
    },
    {
     "name": "stdout",
     "output_type": "stream",
     "text": [
      "/sa/simg/Flag_Feedback.png\n"
     ]
    },
    {
     "data": {
      "text/markdown": [
       "![](/sa/simg/Flag_Feedback.png)"
      ],
      "text/plain": [
       "<IPython.core.display.Markdown object>"
      ]
     },
     "metadata": {},
     "output_type": "display_data"
    },
    {
     "name": "stdout",
     "output_type": "stream",
     "text": [
      "/rs/5g/L8/ic/4907366b/da274d75.png\n"
     ]
    },
    {
     "data": {
      "text/markdown": [
       "![](/rs/5g/L8/ic/4907366b/da274d75.png)"
      ],
      "text/plain": [
       "<IPython.core.display.Markdown object>"
      ]
     },
     "metadata": {},
     "output_type": "display_data"
    }
   ],
   "source": [
    "from requests_html import HTMLSession\n",
    "\n",
    "session = HTMLSession()\n",
    "\n",
    "r = session.get(\"https://cn.bing.com/images/search?q=王一博\")\n",
    "\n",
    "# 通过xpath找到工作标签\n",
    "items = r.html.xpath('//img/@src')\n",
    "\n",
    "for url in items:\n",
    "    print(url)  # 获得图片src url\n",
    "    display(Markdown('![]({url})'.format(url=url)))  # 展示图片    \n",
    "    \n",
    "    # 是真的真的很多网站在反爬虫，我为了找爱豆的照片，把小红书、堆糖、百度、bing的图库都尝试过了，却不会正常显示出来，网站为了反爬虫真的是“疯了”。"
   ]
  },
  {
   "cell_type": "code",
   "execution_count": null,
   "metadata": {},
   "outputs": [],
   "source": []
  }
 ],
 "metadata": {
  "kernelspec": {
   "display_name": "Python 3",
   "language": "python",
   "name": "python3"
  },
  "language_info": {
   "codemirror_mode": {
    "name": "ipython",
    "version": 3
   },
   "file_extension": ".py",
   "mimetype": "text/x-python",
   "name": "python",
   "nbconvert_exporter": "python",
   "pygments_lexer": "ipython3",
   "version": "3.7.3"
  }
 },
 "nbformat": 4,
 "nbformat_minor": 2
}
