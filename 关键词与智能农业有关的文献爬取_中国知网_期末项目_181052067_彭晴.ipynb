{
 "cells": [
  {
   "cell_type": "markdown",
   "metadata": {},
   "source": [
    "# 关键词与智能农业有关的文献爬取\n",
    "##### 彭晴\n",
    "##### 181052067\n",
    "![用selenium爬取](https://gitee.com/pengqiang666/study_note/raw/master/img/%E4%B8%AD%E5%9B%BD%E7%9F%A5%E7%BD%91.png)  \n",
    " \n",
    "  \n",
    "使用web应用程序测试工具-selenium爬取\n",
    "* **简单介绍selenium:**\n",
    "Web自动化测试工具，可运行在浏览器，根据指令操作浏览器，只是工具，必须与第三方浏览器结合使用，相比于之前学的爬虫只是慢了一点而已。而且这种方法爬取的东西不用在意时候ajax动态加载等反爬机制。因此找标签可以直接F12找，不用确定源码中是否存在。  \n",
    "\n",
    "\n",
    "* **爬取的数据关键词为：**\n",
    "农业+人工智能+可持续农业+互联网+生态+云计算+计算机视觉+水+物联网+数据+天气+作物+监测+数据库+云共享  \n",
    "  \n",
    "  \n",
    "* **爬取目的：** \n",
    "随着我们进入机器学习的新技术时代，人工智能和农业正变得密不可分。它带来了令人兴奋的无限可能性：从种子发芽，到保持作物的完整性，再到实际的收获过程。正式如此，我们更是想获得专家们理论支撑的文献，这对发展人工智能与农业结合发展的可能性具有支撑的作用，还能从中发现结合的创新点。加快工智能和农业的发展  \n",
    "\n",
    " * **关于selenium爬取参考代码链接：**\n",
    "   \n",
    " 1. [教学使用的代码](https://gitee.com/pengqiang666/study_note/blob/master/CNKI_expertvalue_program_new.ipynb)\n",
    " 2. [基本方法使用](https://www.jianshu.com/p/3aa45532e179)\n",
    " "
   ]
  },
  {
   "cell_type": "markdown",
   "metadata": {},
   "source": [
    "## 偷偷使用老师的文档样式"
   ]
  },
  {
   "cell_type": "code",
   "execution_count": 117,
   "metadata": {},
   "outputs": [
    {
     "data": {
      "text/html": [
       "<style>\n",
       "/* 本电子讲义使用之CSS */\n",
       "div.code_cell {\n",
       "    background-color: #e5f1fe;\n",
       "}\n",
       "div.cell.selected {\n",
       "    background-color: #effee2;\n",
       "    font-size: 2rem;\n",
       "    line-height: 2.4rem;\n",
       "}\n",
       "div.cell.selected .rendered_html table {\n",
       "    font-size: 2rem !important;\n",
       "    line-height: 2.4rem !important;\n",
       "}\n",
       ".rendered_html pre code {\n",
       "    background-color: #C4E4ff;   \n",
       "    padding: 2px 25px;\n",
       "}\n",
       ".rendered_html pre {\n",
       "    background-color: #99c9ff;\n",
       "}\n",
       "div.code_cell .CodeMirror {\n",
       "    font-size: 2rem !important;\n",
       "    line-height: 2.4rem !important;\n",
       "}\n",
       ".rendered_html img, .rendered_html svg {\n",
       "    max-width: 60%;\n",
       "    height: auto;\n",
       "    float: right;\n",
       "}\n",
       "\n",
       ".rendered_html img[src*=\"#full\"], .rendered_html svg[src*=\"#full\"] {\n",
       "    max-width: 100%;\n",
       "    height: auto;\n",
       "    float: none;\n",
       "}\n",
       "\n",
       ".rendered_html img[src*=\"#thumbnail\"], .rendered_html svg[src*=\"#thumbnail\"] {\n",
       "    max-width: 15%;\n",
       "    height: auto;\n",
       "}\n",
       "\n",
       "/* Gradient transparent - color - transparent */\n",
       "hr {\n",
       "    border: 0;\n",
       "    border-bottom: 1px dashed #ccc;\n",
       "}\n",
       ".emoticon{\n",
       "    font-size: 5rem;\n",
       "    line-height: 4.4rem;\n",
       "    text-align: center;\n",
       "    vertical-align: middle;\n",
       "}\n",
       ".break {\n",
       "                   page-break-after: right; \n",
       "                   width:700px;\n",
       "                   clear:both;\n",
       "}\n",
       "</style>\n"
      ],
      "text/plain": [
       "<IPython.core.display.HTML object>"
      ]
     },
     "metadata": {},
     "output_type": "display_data"
    }
   ],
   "source": [
    "%%html\n",
    "<style>\n",
    "/* 本电子讲义使用之CSS */\n",
    "div.code_cell {\n",
    "    background-color: #e5f1fe;\n",
    "}\n",
    "div.cell.selected {\n",
    "    background-color: #effee2;\n",
    "    font-size: 2rem;\n",
    "    line-height: 2.4rem;\n",
    "}\n",
    "div.cell.selected .rendered_html table {\n",
    "    font-size: 2rem !important;\n",
    "    line-height: 2.4rem !important;\n",
    "}\n",
    ".rendered_html pre code {\n",
    "    background-color: #C4E4ff;   \n",
    "    padding: 2px 25px;\n",
    "}\n",
    ".rendered_html pre {\n",
    "    background-color: #99c9ff;\n",
    "}\n",
    "div.code_cell .CodeMirror {\n",
    "    font-size: 2rem !important;\n",
    "    line-height: 2.4rem !important;\n",
    "}\n",
    ".rendered_html img, .rendered_html svg {\n",
    "    max-width: 60%;\n",
    "    height: auto;\n",
    "    float: right;\n",
    "}\n",
    "\n",
    ".rendered_html img[src*=\"#full\"], .rendered_html svg[src*=\"#full\"] {\n",
    "    max-width: 100%;\n",
    "    height: auto;\n",
    "    float: none;\n",
    "}\n",
    "\n",
    ".rendered_html img[src*=\"#thumbnail\"], .rendered_html svg[src*=\"#thumbnail\"] {\n",
    "    max-width: 15%;\n",
    "    height: auto;\n",
    "}\n",
    "\n",
    "/* Gradient transparent - color - transparent */\n",
    "hr {\n",
    "    border: 0;\n",
    "    border-bottom: 1px dashed #ccc;\n",
    "}\n",
    ".emoticon{\n",
    "    font-size: 5rem;\n",
    "    line-height: 4.4rem;\n",
    "    text-align: center;\n",
    "    vertical-align: middle;\n",
    "}\n",
    ".break {\n",
    "                   page-break-after: right; \n",
    "                   width:700px;\n",
    "                   clear:both;\n",
    "}\n",
    "</style>"
   ]
  },
  {
   "cell_type": "markdown",
   "metadata": {},
   "source": [
    "## 代码使用说明\n",
    "1. 调用selenium\n",
    "   * [报错解决参考文章](https://www.pianshen.com/article/8516288191/)\n",
    "2. chrome的安装注意事项\n",
    "   * [报错解决参考文章](https://blog.csdn.net/weixin_42508908/article/details/85986029?utm_medium=distribute.pc_relevant.none-task-blog-BlogCommendFromMachineLearnPai2-1.nonecase&depth_1-utm_source=distribute.pc_relevant.none-task-blog-BlogCommendFromMachineLearnPai2-1.nonecase)\n",
    "3. 搜索词条上自动输入中山大学南方学院，寻找Xpath自动跳转。"
   ]
  },
  {
   "cell_type": "code",
   "execution_count": null,
   "metadata": {},
   "outputs": [],
   "source": [
    "query=\"((SU=农业+人工智能+可持续农业+互联网+生态+云计算+计算机视觉+水+物联网+数据+天气+作物+监测+数据库+云共享) AND (KY=农业+人工智能+可持续农业+互联网+生态+云计算+计算机视觉+水+物联网+数据+云共享) AND (TI=农业+人工智能+可持续农业+互联网+生态+云计算+计算机视觉+水+物联网+数据+监测+云共享+土壤管理) AND (YE=2020-2010))\""
   ]
  },
  {
   "cell_type": "code",
   "execution_count": 103,
   "metadata": {},
   "outputs": [
    {
     "name": "stderr",
     "output_type": "stream",
     "text": [
      "C:\\Users\\win10\\Anaconda3\\lib\\site-packages\\ipykernel_launcher.py:21: DeprecationWarning: use options instead of chrome_options\n"
     ]
    }
   ],
   "source": [
    "# 1.1\n",
    "from selenium import webdriver\n",
    "from selenium.webdriver.common.desired_capabilities import DesiredCapabilities\n",
    "\n",
    "\n",
    "\n",
    "\n",
    "opts = webdriver.ChromeOptions()\n",
    "opts.add_argument('--no-sandbox')#解决DevToolsActivePort文件不存在的报错\n",
    "opts.add_argument('window-size=1920x3000') #指定浏览器分辨率\n",
    "opts.add_argument('--disable-gpu') #谷歌文档提到需要加上一这个属性来规避bug\n",
    "opts.add_argument('--hide-scrollbars') #隐藏滚动条, 应对些特殊页面\n",
    "#opts.add_argument('blink-settings=imagesEnabled=false') #不加载图片, 提升速度\n",
    "#opts.add_argument('--headless') #浏览器不提供可视化页面. linux下如果系统不支持可视化不加这条会启动失败\n",
    "\n",
    "opts.binary_location = r\"C:\\Users\\win10\\AppData\\Local\\Google\\Chrome\\Application\\chrome.exe\" #\"H:\\_coding_\\Gitee\\InternetNewMedia\\CapstonePrj2016\\chromedriver.exe\"  \n",
    "\n",
    "# \"H:\\_coding_\\Gitee\\InternetNewMedia\\CapstonePrj2016\\chromedriver.exe\"  \n",
    "options = webdriver.ChromeOptions()\n",
    "options.add_argument('--ignore-certificate-errors')\n",
    "driver = webdriver.Chrome( chrome_options = opts) #desired_capabilities=caps,\n",
    "\n",
    "driver.get(\"https://fsso.cnki.net/\")\n",
    "\n",
    "fn={\"output\":{\"raw_data\":\"data\"}}\n",
    "\n",
    "school={\"school\":\"中山大学南方学院\"}\n",
    "driver.find_element_by_xpath('//div[@class=\"submit_input\"]/input').click()\n",
    "driver.find_element_by_xpath('//input[@id=\"o\"]').clear()\n",
    "driver.find_element_by_xpath('//input[@id=\"o\"]').send_keys(school['school'])\n",
    "driver.find_element_by_xpath('//div[@class=\"submit_button\"]').click()\n",
    "\n"
   ]
  },
  {
   "cell_type": "code",
   "execution_count": 104,
   "metadata": {},
   "outputs": [],
   "source": [
    "# 1.2\n",
    "# 解决不是私密链接的问题\n",
    "driver.find_element_by_xpath('//button[@id=\"details-button\"]').click()\n",
    "driver.find_element_by_xpath('//a[@id=\"proceed-link\"]').click()"
   ]
  },
  {
   "cell_type": "code",
   "execution_count": 105,
   "metadata": {},
   "outputs": [],
   "source": [
    "# 2.1\n",
    "# 给payload赋值账号和密码，寻找对应Xpath\n",
    "payload =  {\"account\": \"181052067\", \"password\": \"01170227\"}\n",
    "driver.find_element_by_xpath('//input[@id=\"username\"]').send_keys(payload['account'])\n",
    "driver.find_element_by_xpath('//input[@id=\"password\"]').send_keys(payload['password'])\n",
    "#登录\n",
    "driver.find_element_by_xpath('//button[@class=\"form-element form-button\"]').click()\n"
   ]
  },
  {
   "cell_type": "code",
   "execution_count": 106,
   "metadata": {},
   "outputs": [],
   "source": [
    "# 3.1\n",
    "#接受\n",
    "driver.find_element_by_xpath('//input[@name=\"_eventId_proceed\"]').click()"
   ]
  },
  {
   "cell_type": "code",
   "execution_count": 107,
   "metadata": {},
   "outputs": [],
   "source": [
    "#4.1\n",
    "#点击接受后。进入知网页面，再进入高级检索\n",
    "driver.find_element_by_xpath('//a[@id=\"highSearch\"]').click()"
   ]
  },
  {
   "cell_type": "code",
   "execution_count": 108,
   "metadata": {},
   "outputs": [
    {
     "name": "stdout",
     "output_type": "stream",
     "text": [
      "['CDwindow-63C7A71A8136672DED72DEE90807565E', 'CDwindow-E7635377DB9CCBB7827460337E45D79A']\n"
     ]
    }
   ],
   "source": [
    "# 5.1 \n",
    "# 新建一个新窗口，进入到新窗口再进行xpath的专业检索\n",
    "print (driver.window_handles)\n",
    "driver.switch_to.window(driver.window_handles[1])  "
   ]
  },
  {
   "cell_type": "code",
   "execution_count": 109,
   "metadata": {},
   "outputs": [],
   "source": [
    "# 6.1\n",
    "# 进入专业检索\n",
    "driver.find_element_by_xpath('//li[@id=\"1_3\"]/a').click()"
   ]
  },
  {
   "cell_type": "markdown",
   "metadata": {},
   "source": [
    "## 关于知网专业检索的事项\n",
    "\n",
    "\n",
    "可检索字段：\n",
    "\n",
    "SU=主题,TKA=篇关摘,TI=题名,KY=关键词,AB=摘要,FT=全文,AU=作者,RP=通讯作者,FI=第一责任人,AF=机构,JN=文献来源, RF=被引文献,YE=年,FU=基金,CLC=中图分类号,SN=ISSN,CN=统一刊号,IB=ISBN,CF=被引频次\n",
    "\n",
    "示例：\n",
    "\n",
    "1）TI='生态' and KY='生态文明' and (AU % '陈'+'王' ) 可以检索到篇名包括“生态”并且关键词包括“生态文明”并且作者为“陈”姓和“王”姓的所有文章；\n",
    "\n",
    "2）SU='北京'*'奥运' and FT='环境保护' 可以检索到主题包括“北京”及“奥运”并且全文中包括“环境保护”的信息；\n",
    "\n",
    "3）SU=('经济发展'+'可持续发展')*'转变'-'泡沫' 可检索“经济发展”或“可持续发展”有关“转变”的信息，并且可以去除与“泡沫”有关的部分内容。\n",
    "\n",
    "4）TI='转基因 $ 2' 可检索在篇名中“转基因”至少出现2次的文献。\n",
    "\n",
    "5）KY=xls('区块链') AND KY=xls('金融科技') 可检索到关键词同时包含“区块链”和“金融科技”的中英文文献。\n",
    "\n"
   ]
  },
  {
   "cell_type": "code",
   "execution_count": 110,
   "metadata": {},
   "outputs": [],
   "source": [
    "# 6.2\n",
    "# 输入关键词\n",
    "driver.find_element_by_xpath('//textarea[@id=\"expertvalue\"]').clear()\n",
    "driver.find_element_by_xpath('//textarea[@id=\"expertvalue\"]').send_keys(query)"
   ]
  },
  {
   "cell_type": "code",
   "execution_count": null,
   "metadata": {},
   "outputs": [],
   "source": []
  },
  {
   "cell_type": "code",
   "execution_count": 111,
   "metadata": {},
   "outputs": [
    {
     "name": "stdout",
     "output_type": "stream",
     "text": [
      "\n"
     ]
    }
   ],
   "source": [
    "# 6.3\n",
    "# 点击检索\n",
    "element=driver.find_element_by_xpath('//input[@id=\"btnSearch\"]')\n",
    "main_content = element.get_attribute('innerHTML') #获取到整个页面的内容\n",
    "print(main_content)\n",
    "element.click()  "
   ]
  },
  {
   "cell_type": "code",
   "execution_count": 112,
   "metadata": {},
   "outputs": [],
   "source": [
    "# 6.4\n",
    "# 子页面\n",
    "driver.switch_to.default_content();\n",
    "element = driver.find_element_by_xpath('//html')  #这里的xpath是iframe标签下的整个html\n",
    "main_content = element.get_attribute('innerHTML')  #获取整个页面的内容"
   ]
  },
  {
   "cell_type": "code",
   "execution_count": 113,
   "metadata": {},
   "outputs": [],
   "source": [
    "# 6.5\n",
    "# 进入iframe 使用ID\n",
    "driver.switch_to.frame(\"iframeResult\")"
   ]
  },
  {
   "cell_type": "code",
   "execution_count": null,
   "metadata": {},
   "outputs": [],
   "source": [
    "#6.6\n",
    "# 获取到table的整个页面的内容\n",
    "driver.switch_to.default_content();\n",
    "driver.switch_to.frame(\"iframeResult\")  #进入到ifram"
   ]
  },
  {
   "cell_type": "code",
   "execution_count": 114,
   "metadata": {},
   "outputs": [],
   "source": [
    "#6.7\n",
    "# 1、点击中文文献\n",
    "driver.find_element_by_xpath('//a[text()=\"中文文献\"]').click()\n",
    "\n",
    "# 2、点击每页显示20\n",
    "driver.find_element_by_xpath('//div[@id=\"id_grid_display_num\"]/a[3]').click()\n",
    "\n",
    "# 3、点击按发表时间排列\n",
    "driver.find_element_by_xpath('//a[text()=\"发表时间\"]').click()"
   ]
  },
  {
   "cell_type": "markdown",
   "metadata": {},
   "source": [
    "## 验证码\n",
    "1. [使用文字识别的思路](https://blog.csdn.net/weixin_43243968/article/details/102798585?utm_medium=distribute.pc_aggpage_search_result.none-task-blog-2~all~first_rank_v2~rank_v25-1-102798585.nonecase)\n",
    "2. 询问同学"
   ]
  },
  {
   "cell_type": "code",
   "execution_count": 115,
   "metadata": {},
   "outputs": [
    {
     "name": "stdout",
     "output_type": "stream",
     "text": [
      "{'refresh_token': '25.d559982e2c82357423dda0214ee8778d.315360000.1910501188.282335-21404324', 'expires_in': 2592000, 'session_key': '9mzdXUcB8x+7k2ElByDYJmkOavz79o4ODNrJaI7tpuv8xqM6bJkRXg/ITU1yPLUywoJRTlzljk+6H5X8UOJfCOQrP+tGIQ==', 'access_token': '24.f3d166c8752cde1046195937e634ff5d.2592000.1597733188.282335-21404324', 'scope': 'public vis-ocr_ocr brain_ocr_scope brain_ocr_general brain_ocr_general_basic vis-ocr_business_license brain_ocr_webimage brain_all_scope brain_ocr_idcard brain_ocr_driving_license brain_ocr_vehicle_license vis-ocr_plate_number brain_solution brain_ocr_plate_number brain_ocr_accurate brain_ocr_accurate_basic brain_ocr_receipt brain_ocr_business_license brain_solution_iocr brain_qrcode brain_ocr_handwriting brain_ocr_passport brain_ocr_vat_invoice brain_numbers brain_ocr_business_card brain_ocr_train_ticket brain_ocr_taxi_receipt vis-ocr_household_register vis-ocr_vis-classify_birth_certificate vis-ocr_台湾通行证 vis-ocr_港澳通行证 vis-ocr_机动车购车发票识别 vis-ocr_机动车检验合格证识别 vis-ocr_车辆vin码识别 vis-ocr_定额发票识别 vis-ocr_保单识别 vis-ocr_行程单识别 brain_ocr_vin brain_ocr_quota_invoice brain_ocr_birth_certificate brain_ocr_household_register brain_ocr_HK_Macau_pass brain_ocr_taiwan_pass brain_ocr_vehicle_invoice brain_ocr_vehicle_certificate brain_ocr_air_ticket brain_ocr_insurance_doc brain_formula brain_ocr_webimage_loc wise_adapt lebo_resource_base lightservice_public hetu_basic lightcms_map_poi kaidian_kaidian ApsMisTest_Test权限 vis-classify_flower lpq_开放 cop_helloScope ApsMis_fangdi_permission smartapp_snsapi_base iop_autocar oauth_tp_app smartapp_smart_game_openapi oauth_sessionkey smartapp_swanid_verify smartapp_opensource_openapi smartapp_opensource_recapi fake_face_detect_开放Scope vis-ocr_虚拟人物助理 idl-video_虚拟人物助理', 'session_secret': '68a9e2dd1b34d5aacb3444ee6fefed0f'}\n"
     ]
    }
   ],
   "source": [
    "# 6.8 \n",
    "# 使用百度AI开放平台的文字识别来解决中国知网反爬虫而设计的验证码环节\n",
    "import requests \n",
    "\n",
    "# client_id 为官网获取的AK， client_secret 为官网获取的SK\n",
    "host = 'https://aip.baidubce.com/oauth/2.0/token?grant_type=client_credentials&client_id=IPBgIKvgpbrnhWm3U6Rk0i00&client_secret=2UbuVOn2dj7yC4jMZSDQSzh0OWGmkUZm'\n",
    "response = requests.get(host)\n",
    "if response:\n",
    "    print(response.json())\n",
    "    \n",
    "access_token=response.json()[\"access_token\"]\n",
    "\n",
    "# encoding:utf-8\n",
    "\n",
    "import requests\n",
    "import base64\n",
    "\n",
    "'''\n",
    "通用文字识别\n",
    "'''\n",
    "def outcode(img,access_token):\n",
    "    \"\"\"验证码结果输出\"\"\"\n",
    "    request_url = \"https://aip.baidubce.com/rest/2.0/ocr/v1/accurate_basic\"\n",
    "    # 二进制方式打开图片文件\n",
    "    #f = open('[本地文件]', 'rb')\n",
    "    #img = base64.b64encode(f.read())\n",
    "    params = {\"image\":img}\n",
    "    request_url = request_url + \"?access_token=\"+ access_token\n",
    "    headers = {'content-type': 'application/x-www-form-urlencoded'}\n",
    "    response = requests.post(request_url, data=params, headers=headers)\n",
    "    if len(response.json()[\"words_result\"])==0:\n",
    "        crack_code=123456\n",
    "    else:\n",
    "        crack_code=response.json()[\"words_result\"][0][\"words\"]\n",
    "    return crack_code\n",
    "\n",
    "\n",
    "def isElementExist(element):\n",
    "    \"\"\"验证是否为XXX页面\"\"\"\n",
    "    flag= True\n",
    "    try:\n",
    "        driver.find_element_by_xpath(element)\n",
    "        return flag\n",
    "    except:\n",
    "        flag=False\n",
    "        return flag"
   ]
  },
  {
   "cell_type": "markdown",
   "metadata": {},
   "source": [
    "## 知网翻页与验证码的注意事项\n",
    "1. 知网爬虫具有宽容性，并不是完全不让爬，测试结果发现大概有17页是不用验证的。\n",
    "\n"
   ]
  },
  {
   "cell_type": "code",
   "execution_count": 116,
   "metadata": {},
   "outputs": [
    {
     "name": "stdout",
     "output_type": "stream",
     "text": [
      "是否为验证码页 False\n",
      "0\n",
      "是否为验证码页 False\n",
      "20\n",
      "是否为验证码页 False\n",
      "40\n",
      "是否为验证码页 False\n",
      "60\n",
      "是否为验证码页 False\n",
      "80\n",
      "是否为验证码页 False\n",
      "100\n",
      "是否为验证码页 False\n",
      "120\n",
      "是否为验证码页 False\n",
      "140\n",
      "是否为验证码页 False\n",
      "160\n",
      "是否为验证码页 False\n",
      "180\n",
      "是否为验证码页 False\n",
      "200\n",
      "是否为验证码页 False\n",
      "220\n",
      "是否为验证码页 False\n",
      "240\n",
      "是否为验证码页 False\n",
      "260\n",
      "是否为验证码页 False\n",
      "280\n",
      "是否为验证码页 False\n",
      "300\n",
      "是否为验证码页 True\n",
      "True\n",
      "False\n",
      "是否为验证码页 False\n",
      "320\n",
      "是否为验证码页 False\n",
      "340\n",
      "是否为验证码页 False\n",
      "360\n",
      "是否为验证码页 False\n",
      "380\n",
      "是否为验证码页 False\n",
      "400\n",
      "是否为验证码页 False\n",
      "420\n",
      "是否为验证码页 False\n",
      "440\n",
      "是否为验证码页 False\n",
      "460\n",
      "是否为验证码页 False\n",
      "480\n",
      "是否为验证码页 False\n",
      "500\n",
      "是否为验证码页 False\n",
      "0\n",
      "是否为验证码页 False\n",
      "20\n",
      "是否为验证码页 False\n",
      "40\n",
      "是否为验证码页 False\n",
      "60\n",
      "是否为验证码页 False\n",
      "80\n",
      "是否为验证码页 False\n",
      "100\n",
      "是否为验证码页 True\n",
      "True\n",
      "False\n",
      "是否为验证码页 False\n",
      "120\n"
     ]
    }
   ],
   "source": [
    "# 6.8 验证码与翻页\n",
    "import os\n",
    "import requests_html\n",
    "import math\n",
    "from PIL import Image\n",
    "import time\n",
    "from random import random\n",
    "element = driver.find_element_by_xpath('//html')\n",
    "main_content =element.get_attribute('outerHTML')  \n",
    "html = requests_html.HTML(html= main_content, url='https://localhost/')\n",
    "content = html.xpath('//*[@id=\"ctl00\"]/table/tbody/tr[3]/td/table/tbody/tr/td/div/div')\n",
    "\n",
    "for page in range(0,35):\n",
    "    flag=isElementExist('//img[@id=\"CheckCodeImg\"]')#调用函数，判断是否为验证码页\n",
    "    print(\"是否为验证码页\",flag)\n",
    "    if flag:\n",
    "        while True:\n",
    "            flag=isElementExist('//img[@id=\"CheckCodeImg\"]')\n",
    "            print(flag)\n",
    "            if flag:\n",
    "                ele=driver.find_element_by_id('CheckCodeImg')#如果是，保存验证码图片\n",
    "                ele.screenshot('D:/code.png')\n",
    "                Image.open('D:/code.png')\n",
    "                f=open('D:/code.png','rb')\n",
    "                img=base64.b64encode(f.read())\n",
    "                #调用百度文字识别API，识别验证码\n",
    "                crack_code=outcode(img,access_token)\n",
    "                #填写验证码\n",
    "                driver.switch_to.default_content()\n",
    "                driver.switch_to.frame(\"iframeResult\")\n",
    "                #clear_and_send('//input[id=\"CheckCode\"]',crack_code,driver=driver)\n",
    "                driver.find_element_by_xpath('//input[@id=\"CheckCode\"]').send_keys(crack_code)\n",
    "                driver.find_element_by_xpath('//input[@type=\"button\"]').click()\n",
    "                flag_02=isElementExist('//img[@id=\"CheckCodeImg\"]')\n",
    "                if flag_02 ==False:\n",
    "                    continue\n",
    "            else:\n",
    "                break\n",
    "        continue\n",
    "    element = driver.find_element_by_xpath('//html')\n",
    "    main_content =element.get_attribute('outerHTML')  \n",
    "    html = requests_html.HTML(html= main_content, url='https://localhost/')\n",
    "    已选文献 = html.xpath('//*[@id=\"J_ORDER\"]/tbody/tr[2]/td/table/tbody/tr/td[1]/div/span/em')[0].lxml.text_content()\n",
    "    print(int(已选文献))\n",
    "    if int(已选文献) < 500:\n",
    "        # 勾选本页文献\n",
    "        driver.find_element_by_xpath('//input[@id=\"selectCheckbox\"]').click()\n",
    "        # 等待时间 平均时间38*103\n",
    "        time.sleep(5)\n",
    "        # 翻页\n",
    "        driver.switch_to.default_content()\n",
    "        driver.switch_to.frame(\"iframeResult\")\n",
    "        element = driver.find_element_by_xpath('//html')\n",
    "        main_content =element.get_attribute('outerHTML')  \n",
    "        main_content\n",
    "        a = driver.find_element_by_xpath('//a[text()=\"下一页\"]')\n",
    "        \n",
    "        driver.execute_script(\"arguments[0].click();\", a)# 解决xpath被蒙蔽的问题\n",
    "    else:\n",
    "        # 进入导出/参考文献  页面（不同窗口）\n",
    "        driver.switch_to.default_content()\n",
    "        driver.switch_to.frame(\"iframeResult\")\n",
    "        element = driver.find_element_by_xpath('//html')\n",
    "        main_content =element.get_attribute('outerHTML') \n",
    "        main_content\n",
    "        a = driver.find_element_by_xpath('//a[text()=\" 导出/参考文献\"]')\n",
    "        a.click()\n",
    "        driver.switch_to.window(driver.window_handles[2]) #进入新窗口\n",
    "        driver.find_element_by_xpath('//ul[@id=\"SaveTypeList\"]/li[6]/span/a').click() #refworks\n",
    "        driver.find_element_by_xpath('//input[@id=\"exportTxt\"]').click()  #txt     \n",
    "        driver.find_element_by_xpath('//input[@id=\"exportExcel\"]').click() #excel\n",
    "        driver.find_element_by_xpath('//input[@id=\"exportWord\"]').click()#doc\n",
    "\n",
    "        # 清除已选文章，继续翻页\n",
    "        # 回到cnki搜索文章页面（切换窗口）\n",
    "        driver.switch_to.window(driver.window_handles[1])\n",
    "        # 清除已选\n",
    "        driver.switch_to.default_content()\n",
    "        driver.switch_to.frame(\"iframeResult\")\n",
    "        element = driver.find_element_by_xpath('//html')\n",
    "        main_content =element.get_attribute('outerHTML') \n",
    "        a = driver.find_element_by_xpath('//a[text()=\"清除\"]').click()"
   ]
  }
 ],
 "metadata": {
  "kernelspec": {
   "display_name": "Python 3",
   "language": "python",
   "name": "python3"
  },
  "language_info": {
   "codemirror_mode": {
    "name": "ipython",
    "version": 3
   },
   "file_extension": ".py",
   "mimetype": "text/x-python",
   "name": "python",
   "nbconvert_exporter": "python",
   "pygments_lexer": "ipython3",
   "version": "3.7.3"
  },
  "toc": {
   "base_numbering": 1,
   "nav_menu": {},
   "number_sections": true,
   "sideBar": true,
   "skip_h1_title": false,
   "title_cell": "Table of Contents",
   "title_sidebar": "Contents",
   "toc_cell": false,
   "toc_position": {},
   "toc_section_display": true,
   "toc_window_display": false
  }
 },
 "nbformat": 4,
 "nbformat_minor": 2
}
