{
 "cells": [
  {
   "cell_type": "markdown",
   "metadata": {},
   "source": [
    "# 准备工作"
   ]
  },
  {
   "cell_type": "code",
   "execution_count": 1,
   "metadata": {},
   "outputs": [],
   "source": [
    "'''\n",
    "阿里研究院\n",
    "阿里健康\n",
    "阿里巴巴商学院\n",
    "阿里数据\n",
    "\n",
    "腾讯金融科技\n",
    "腾讯研究院\n",
    "腾讯媒体研究院\n",
    "腾讯云启研究院\n",
    "酷鹅用户研究院\n",
    "'''\n",
    "公众号 = \"传媒志\""
   ]
  },
  {
   "cell_type": "code",
   "execution_count": 2,
   "metadata": {},
   "outputs": [],
   "source": [
    "fn = { \"output\" : { \"公众号_htm_snippets\": \"data_raw_src/公众号_htm_snippets_{公众号}.tsv\",\n",
    "                    \"公众号_df\": \"data_raw_src/公众号_df_{公众号}.tsv\",\n",
    "                    \"公众号_xlsx\": \"data_sets/公众号_url_{公众号}.xlsx\" } \\\n",
    "      }"
   ]
  },
  {
   "cell_type": "markdown",
   "metadata": {},
   "source": [
    "# 采集公众号（requests）"
   ]
  },
  {
   "cell_type": "code",
   "execution_count": 3,
   "metadata": {},
   "outputs": [
    {
     "name": "stdout",
     "output_type": "stream",
     "text": [
      "0\n"
     ]
    },
    {
     "ename": "ProxyError",
     "evalue": "HTTPSConnectionPool(host='mp.weixin.qq.com', port=443): Max retries exceeded with url: /cgi-bin/appmsg?token=68703568&lang=zh_CN&f=json&ajax=1&action=list_ex&begin=0&count=5&query=&fakeid=MjM5OTE0ODA2MQ%3D%3D&type=9 (Caused by ProxyError('Cannot connect to proxy.', NewConnectionError('<urllib3.connection.VerifiedHTTPSConnection object at 0x0000020B420EC470>: Failed to establish a new connection: [WinError 10061] 由于目标计算机积极拒绝，无法连接。')))",
     "output_type": "error",
     "traceback": [
      "\u001b[1;31m---------------------------------------------------------------------------\u001b[0m",
      "\u001b[1;31mConnectionRefusedError\u001b[0m                    Traceback (most recent call last)",
      "\u001b[1;32m~\\Anaconda3\\lib\\site-packages\\urllib3\\connection.py\u001b[0m in \u001b[0;36m_new_conn\u001b[1;34m(self)\u001b[0m\n\u001b[0;32m    158\u001b[0m             conn = connection.create_connection(\n\u001b[1;32m--> 159\u001b[1;33m                 (self._dns_host, self.port), self.timeout, **extra_kw)\n\u001b[0m\u001b[0;32m    160\u001b[0m \u001b[1;33m\u001b[0m\u001b[0m\n",
      "\u001b[1;32m~\\Anaconda3\\lib\\site-packages\\urllib3\\util\\connection.py\u001b[0m in \u001b[0;36mcreate_connection\u001b[1;34m(address, timeout, source_address, socket_options)\u001b[0m\n\u001b[0;32m     79\u001b[0m     \u001b[1;32mif\u001b[0m \u001b[0merr\u001b[0m \u001b[1;32mis\u001b[0m \u001b[1;32mnot\u001b[0m \u001b[1;32mNone\u001b[0m\u001b[1;33m:\u001b[0m\u001b[1;33m\u001b[0m\u001b[1;33m\u001b[0m\u001b[0m\n\u001b[1;32m---> 80\u001b[1;33m         \u001b[1;32mraise\u001b[0m \u001b[0merr\u001b[0m\u001b[1;33m\u001b[0m\u001b[1;33m\u001b[0m\u001b[0m\n\u001b[0m\u001b[0;32m     81\u001b[0m \u001b[1;33m\u001b[0m\u001b[0m\n",
      "\u001b[1;32m~\\Anaconda3\\lib\\site-packages\\urllib3\\util\\connection.py\u001b[0m in \u001b[0;36mcreate_connection\u001b[1;34m(address, timeout, source_address, socket_options)\u001b[0m\n\u001b[0;32m     69\u001b[0m                 \u001b[0msock\u001b[0m\u001b[1;33m.\u001b[0m\u001b[0mbind\u001b[0m\u001b[1;33m(\u001b[0m\u001b[0msource_address\u001b[0m\u001b[1;33m)\u001b[0m\u001b[1;33m\u001b[0m\u001b[1;33m\u001b[0m\u001b[0m\n\u001b[1;32m---> 70\u001b[1;33m             \u001b[0msock\u001b[0m\u001b[1;33m.\u001b[0m\u001b[0mconnect\u001b[0m\u001b[1;33m(\u001b[0m\u001b[0msa\u001b[0m\u001b[1;33m)\u001b[0m\u001b[1;33m\u001b[0m\u001b[1;33m\u001b[0m\u001b[0m\n\u001b[0m\u001b[0;32m     71\u001b[0m             \u001b[1;32mreturn\u001b[0m \u001b[0msock\u001b[0m\u001b[1;33m\u001b[0m\u001b[1;33m\u001b[0m\u001b[0m\n",
      "\u001b[1;31mConnectionRefusedError\u001b[0m: [WinError 10061] 由于目标计算机积极拒绝，无法连接。",
      "\nDuring handling of the above exception, another exception occurred:\n",
      "\u001b[1;31mNewConnectionError\u001b[0m                        Traceback (most recent call last)",
      "\u001b[1;32m~\\Anaconda3\\lib\\site-packages\\urllib3\\connectionpool.py\u001b[0m in \u001b[0;36murlopen\u001b[1;34m(self, method, url, body, headers, retries, redirect, assert_same_host, timeout, pool_timeout, release_conn, chunked, body_pos, **response_kw)\u001b[0m\n\u001b[0;32m    593\u001b[0m             \u001b[1;32mif\u001b[0m \u001b[0mis_new_proxy_conn\u001b[0m\u001b[1;33m:\u001b[0m\u001b[1;33m\u001b[0m\u001b[1;33m\u001b[0m\u001b[0m\n\u001b[1;32m--> 594\u001b[1;33m                 \u001b[0mself\u001b[0m\u001b[1;33m.\u001b[0m\u001b[0m_prepare_proxy\u001b[0m\u001b[1;33m(\u001b[0m\u001b[0mconn\u001b[0m\u001b[1;33m)\u001b[0m\u001b[1;33m\u001b[0m\u001b[1;33m\u001b[0m\u001b[0m\n\u001b[0m\u001b[0;32m    595\u001b[0m \u001b[1;33m\u001b[0m\u001b[0m\n",
      "\u001b[1;32m~\\Anaconda3\\lib\\site-packages\\urllib3\\connectionpool.py\u001b[0m in \u001b[0;36m_prepare_proxy\u001b[1;34m(self, conn)\u001b[0m\n\u001b[0;32m    804\u001b[0m         \u001b[0mconn\u001b[0m\u001b[1;33m.\u001b[0m\u001b[0mset_tunnel\u001b[0m\u001b[1;33m(\u001b[0m\u001b[0mself\u001b[0m\u001b[1;33m.\u001b[0m\u001b[0m_proxy_host\u001b[0m\u001b[1;33m,\u001b[0m \u001b[0mself\u001b[0m\u001b[1;33m.\u001b[0m\u001b[0mport\u001b[0m\u001b[1;33m,\u001b[0m \u001b[0mself\u001b[0m\u001b[1;33m.\u001b[0m\u001b[0mproxy_headers\u001b[0m\u001b[1;33m)\u001b[0m\u001b[1;33m\u001b[0m\u001b[1;33m\u001b[0m\u001b[0m\n\u001b[1;32m--> 805\u001b[1;33m         \u001b[0mconn\u001b[0m\u001b[1;33m.\u001b[0m\u001b[0mconnect\u001b[0m\u001b[1;33m(\u001b[0m\u001b[1;33m)\u001b[0m\u001b[1;33m\u001b[0m\u001b[1;33m\u001b[0m\u001b[0m\n\u001b[0m\u001b[0;32m    806\u001b[0m \u001b[1;33m\u001b[0m\u001b[0m\n",
      "\u001b[1;32m~\\Anaconda3\\lib\\site-packages\\urllib3\\connection.py\u001b[0m in \u001b[0;36mconnect\u001b[1;34m(self)\u001b[0m\n\u001b[0;32m    300\u001b[0m         \u001b[1;31m# Add certificate verification\u001b[0m\u001b[1;33m\u001b[0m\u001b[1;33m\u001b[0m\u001b[1;33m\u001b[0m\u001b[0m\n\u001b[1;32m--> 301\u001b[1;33m         \u001b[0mconn\u001b[0m \u001b[1;33m=\u001b[0m \u001b[0mself\u001b[0m\u001b[1;33m.\u001b[0m\u001b[0m_new_conn\u001b[0m\u001b[1;33m(\u001b[0m\u001b[1;33m)\u001b[0m\u001b[1;33m\u001b[0m\u001b[1;33m\u001b[0m\u001b[0m\n\u001b[0m\u001b[0;32m    302\u001b[0m         \u001b[0mhostname\u001b[0m \u001b[1;33m=\u001b[0m \u001b[0mself\u001b[0m\u001b[1;33m.\u001b[0m\u001b[0mhost\u001b[0m\u001b[1;33m\u001b[0m\u001b[1;33m\u001b[0m\u001b[0m\n",
      "\u001b[1;32m~\\Anaconda3\\lib\\site-packages\\urllib3\\connection.py\u001b[0m in \u001b[0;36m_new_conn\u001b[1;34m(self)\u001b[0m\n\u001b[0;32m    167\u001b[0m             raise NewConnectionError(\n\u001b[1;32m--> 168\u001b[1;33m                 self, \"Failed to establish a new connection: %s\" % e)\n\u001b[0m\u001b[0;32m    169\u001b[0m \u001b[1;33m\u001b[0m\u001b[0m\n",
      "\u001b[1;31mNewConnectionError\u001b[0m: <urllib3.connection.VerifiedHTTPSConnection object at 0x0000020B420EC470>: Failed to establish a new connection: [WinError 10061] 由于目标计算机积极拒绝，无法连接。",
      "\nDuring handling of the above exception, another exception occurred:\n",
      "\u001b[1;31mMaxRetryError\u001b[0m                             Traceback (most recent call last)",
      "\u001b[1;32m~\\Anaconda3\\lib\\site-packages\\requests\\adapters.py\u001b[0m in \u001b[0;36msend\u001b[1;34m(self, request, stream, timeout, verify, cert, proxies)\u001b[0m\n\u001b[0;32m    448\u001b[0m                     \u001b[0mretries\u001b[0m\u001b[1;33m=\u001b[0m\u001b[0mself\u001b[0m\u001b[1;33m.\u001b[0m\u001b[0mmax_retries\u001b[0m\u001b[1;33m,\u001b[0m\u001b[1;33m\u001b[0m\u001b[1;33m\u001b[0m\u001b[0m\n\u001b[1;32m--> 449\u001b[1;33m                     \u001b[0mtimeout\u001b[0m\u001b[1;33m=\u001b[0m\u001b[0mtimeout\u001b[0m\u001b[1;33m\u001b[0m\u001b[1;33m\u001b[0m\u001b[0m\n\u001b[0m\u001b[0;32m    450\u001b[0m                 )\n",
      "\u001b[1;32m~\\Anaconda3\\lib\\site-packages\\urllib3\\connectionpool.py\u001b[0m in \u001b[0;36murlopen\u001b[1;34m(self, method, url, body, headers, retries, redirect, assert_same_host, timeout, pool_timeout, release_conn, chunked, body_pos, **response_kw)\u001b[0m\n\u001b[0;32m    637\u001b[0m             retries = retries.increment(method, url, error=e, _pool=self,\n\u001b[1;32m--> 638\u001b[1;33m                                         _stacktrace=sys.exc_info()[2])\n\u001b[0m\u001b[0;32m    639\u001b[0m             \u001b[0mretries\u001b[0m\u001b[1;33m.\u001b[0m\u001b[0msleep\u001b[0m\u001b[1;33m(\u001b[0m\u001b[1;33m)\u001b[0m\u001b[1;33m\u001b[0m\u001b[1;33m\u001b[0m\u001b[0m\n",
      "\u001b[1;32m~\\Anaconda3\\lib\\site-packages\\urllib3\\util\\retry.py\u001b[0m in \u001b[0;36mincrement\u001b[1;34m(self, method, url, response, error, _pool, _stacktrace)\u001b[0m\n\u001b[0;32m    398\u001b[0m         \u001b[1;32mif\u001b[0m \u001b[0mnew_retry\u001b[0m\u001b[1;33m.\u001b[0m\u001b[0mis_exhausted\u001b[0m\u001b[1;33m(\u001b[0m\u001b[1;33m)\u001b[0m\u001b[1;33m:\u001b[0m\u001b[1;33m\u001b[0m\u001b[1;33m\u001b[0m\u001b[0m\n\u001b[1;32m--> 399\u001b[1;33m             \u001b[1;32mraise\u001b[0m \u001b[0mMaxRetryError\u001b[0m\u001b[1;33m(\u001b[0m\u001b[0m_pool\u001b[0m\u001b[1;33m,\u001b[0m \u001b[0murl\u001b[0m\u001b[1;33m,\u001b[0m \u001b[0merror\u001b[0m \u001b[1;32mor\u001b[0m \u001b[0mResponseError\u001b[0m\u001b[1;33m(\u001b[0m\u001b[0mcause\u001b[0m\u001b[1;33m)\u001b[0m\u001b[1;33m)\u001b[0m\u001b[1;33m\u001b[0m\u001b[1;33m\u001b[0m\u001b[0m\n\u001b[0m\u001b[0;32m    400\u001b[0m \u001b[1;33m\u001b[0m\u001b[0m\n",
      "\u001b[1;31mMaxRetryError\u001b[0m: HTTPSConnectionPool(host='mp.weixin.qq.com', port=443): Max retries exceeded with url: /cgi-bin/appmsg?token=68703568&lang=zh_CN&f=json&ajax=1&action=list_ex&begin=0&count=5&query=&fakeid=MjM5OTE0ODA2MQ%3D%3D&type=9 (Caused by ProxyError('Cannot connect to proxy.', NewConnectionError('<urllib3.connection.VerifiedHTTPSConnection object at 0x0000020B420EC470>: Failed to establish a new connection: [WinError 10061] 由于目标计算机积极拒绝，无法连接。')))",
      "\nDuring handling of the above exception, another exception occurred:\n",
      "\u001b[1;31mProxyError\u001b[0m                                Traceback (most recent call last)",
      "\u001b[1;32m<ipython-input-3-21b83739b333>\u001b[0m in \u001b[0;36m<module>\u001b[1;34m\u001b[0m\n\u001b[0;32m     38\u001b[0m     \u001b[0mtime\u001b[0m\u001b[1;33m.\u001b[0m\u001b[0msleep\u001b[0m\u001b[1;33m(\u001b[0m\u001b[1;36m3\u001b[0m\u001b[1;33m)\u001b[0m\u001b[1;33m\u001b[0m\u001b[1;33m\u001b[0m\u001b[0m\n\u001b[0;32m     39\u001b[0m     \u001b[1;31m# 使用get方法进行提交\u001b[0m\u001b[1;33m\u001b[0m\u001b[1;33m\u001b[0m\u001b[1;33m\u001b[0m\u001b[0m\n\u001b[1;32m---> 40\u001b[1;33m     \u001b[0mcontent_json\u001b[0m \u001b[1;33m=\u001b[0m \u001b[0mrequests\u001b[0m\u001b[1;33m.\u001b[0m\u001b[0mget\u001b[0m\u001b[1;33m(\u001b[0m\u001b[0murl\u001b[0m\u001b[1;33m,\u001b[0m \u001b[0mheaders\u001b[0m\u001b[1;33m=\u001b[0m\u001b[0mheaders\u001b[0m\u001b[1;33m,\u001b[0m \u001b[0mparams\u001b[0m\u001b[1;33m=\u001b[0m\u001b[0mdata\u001b[0m\u001b[1;33m)\u001b[0m\u001b[1;33m.\u001b[0m\u001b[0mjson\u001b[0m\u001b[1;33m(\u001b[0m\u001b[1;33m)\u001b[0m\u001b[1;33m\u001b[0m\u001b[1;33m\u001b[0m\u001b[0m\n\u001b[0m\u001b[0;32m     41\u001b[0m \u001b[1;31m#     print(content_json)\u001b[0m\u001b[1;33m\u001b[0m\u001b[1;33m\u001b[0m\u001b[1;33m\u001b[0m\u001b[0m\n\u001b[0;32m     42\u001b[0m     \u001b[1;31m# 返回了一个json，里面是每一页的数据\u001b[0m\u001b[1;33m\u001b[0m\u001b[1;33m\u001b[0m\u001b[1;33m\u001b[0m\u001b[0m\n",
      "\u001b[1;32m~\\Anaconda3\\lib\\site-packages\\requests\\api.py\u001b[0m in \u001b[0;36mget\u001b[1;34m(url, params, **kwargs)\u001b[0m\n\u001b[0;32m     73\u001b[0m \u001b[1;33m\u001b[0m\u001b[0m\n\u001b[0;32m     74\u001b[0m     \u001b[0mkwargs\u001b[0m\u001b[1;33m.\u001b[0m\u001b[0msetdefault\u001b[0m\u001b[1;33m(\u001b[0m\u001b[1;34m'allow_redirects'\u001b[0m\u001b[1;33m,\u001b[0m \u001b[1;32mTrue\u001b[0m\u001b[1;33m)\u001b[0m\u001b[1;33m\u001b[0m\u001b[1;33m\u001b[0m\u001b[0m\n\u001b[1;32m---> 75\u001b[1;33m     \u001b[1;32mreturn\u001b[0m \u001b[0mrequest\u001b[0m\u001b[1;33m(\u001b[0m\u001b[1;34m'get'\u001b[0m\u001b[1;33m,\u001b[0m \u001b[0murl\u001b[0m\u001b[1;33m,\u001b[0m \u001b[0mparams\u001b[0m\u001b[1;33m=\u001b[0m\u001b[0mparams\u001b[0m\u001b[1;33m,\u001b[0m \u001b[1;33m**\u001b[0m\u001b[0mkwargs\u001b[0m\u001b[1;33m)\u001b[0m\u001b[1;33m\u001b[0m\u001b[1;33m\u001b[0m\u001b[0m\n\u001b[0m\u001b[0;32m     76\u001b[0m \u001b[1;33m\u001b[0m\u001b[0m\n\u001b[0;32m     77\u001b[0m \u001b[1;33m\u001b[0m\u001b[0m\n",
      "\u001b[1;32m~\\Anaconda3\\lib\\site-packages\\requests\\api.py\u001b[0m in \u001b[0;36mrequest\u001b[1;34m(method, url, **kwargs)\u001b[0m\n\u001b[0;32m     58\u001b[0m     \u001b[1;31m# cases, and look like a memory leak in others.\u001b[0m\u001b[1;33m\u001b[0m\u001b[1;33m\u001b[0m\u001b[1;33m\u001b[0m\u001b[0m\n\u001b[0;32m     59\u001b[0m     \u001b[1;32mwith\u001b[0m \u001b[0msessions\u001b[0m\u001b[1;33m.\u001b[0m\u001b[0mSession\u001b[0m\u001b[1;33m(\u001b[0m\u001b[1;33m)\u001b[0m \u001b[1;32mas\u001b[0m \u001b[0msession\u001b[0m\u001b[1;33m:\u001b[0m\u001b[1;33m\u001b[0m\u001b[1;33m\u001b[0m\u001b[0m\n\u001b[1;32m---> 60\u001b[1;33m         \u001b[1;32mreturn\u001b[0m \u001b[0msession\u001b[0m\u001b[1;33m.\u001b[0m\u001b[0mrequest\u001b[0m\u001b[1;33m(\u001b[0m\u001b[0mmethod\u001b[0m\u001b[1;33m=\u001b[0m\u001b[0mmethod\u001b[0m\u001b[1;33m,\u001b[0m \u001b[0murl\u001b[0m\u001b[1;33m=\u001b[0m\u001b[0murl\u001b[0m\u001b[1;33m,\u001b[0m \u001b[1;33m**\u001b[0m\u001b[0mkwargs\u001b[0m\u001b[1;33m)\u001b[0m\u001b[1;33m\u001b[0m\u001b[1;33m\u001b[0m\u001b[0m\n\u001b[0m\u001b[0;32m     61\u001b[0m \u001b[1;33m\u001b[0m\u001b[0m\n\u001b[0;32m     62\u001b[0m \u001b[1;33m\u001b[0m\u001b[0m\n",
      "\u001b[1;32m~\\Anaconda3\\lib\\site-packages\\requests\\sessions.py\u001b[0m in \u001b[0;36mrequest\u001b[1;34m(self, method, url, params, data, headers, cookies, files, auth, timeout, allow_redirects, proxies, hooks, stream, verify, cert, json)\u001b[0m\n\u001b[0;32m    531\u001b[0m         }\n\u001b[0;32m    532\u001b[0m         \u001b[0msend_kwargs\u001b[0m\u001b[1;33m.\u001b[0m\u001b[0mupdate\u001b[0m\u001b[1;33m(\u001b[0m\u001b[0msettings\u001b[0m\u001b[1;33m)\u001b[0m\u001b[1;33m\u001b[0m\u001b[1;33m\u001b[0m\u001b[0m\n\u001b[1;32m--> 533\u001b[1;33m         \u001b[0mresp\u001b[0m \u001b[1;33m=\u001b[0m \u001b[0mself\u001b[0m\u001b[1;33m.\u001b[0m\u001b[0msend\u001b[0m\u001b[1;33m(\u001b[0m\u001b[0mprep\u001b[0m\u001b[1;33m,\u001b[0m \u001b[1;33m**\u001b[0m\u001b[0msend_kwargs\u001b[0m\u001b[1;33m)\u001b[0m\u001b[1;33m\u001b[0m\u001b[1;33m\u001b[0m\u001b[0m\n\u001b[0m\u001b[0;32m    534\u001b[0m \u001b[1;33m\u001b[0m\u001b[0m\n\u001b[0;32m    535\u001b[0m         \u001b[1;32mreturn\u001b[0m \u001b[0mresp\u001b[0m\u001b[1;33m\u001b[0m\u001b[1;33m\u001b[0m\u001b[0m\n",
      "\u001b[1;32m~\\Anaconda3\\lib\\site-packages\\requests\\sessions.py\u001b[0m in \u001b[0;36msend\u001b[1;34m(self, request, **kwargs)\u001b[0m\n\u001b[0;32m    644\u001b[0m \u001b[1;33m\u001b[0m\u001b[0m\n\u001b[0;32m    645\u001b[0m         \u001b[1;31m# Send the request\u001b[0m\u001b[1;33m\u001b[0m\u001b[1;33m\u001b[0m\u001b[1;33m\u001b[0m\u001b[0m\n\u001b[1;32m--> 646\u001b[1;33m         \u001b[0mr\u001b[0m \u001b[1;33m=\u001b[0m \u001b[0madapter\u001b[0m\u001b[1;33m.\u001b[0m\u001b[0msend\u001b[0m\u001b[1;33m(\u001b[0m\u001b[0mrequest\u001b[0m\u001b[1;33m,\u001b[0m \u001b[1;33m**\u001b[0m\u001b[0mkwargs\u001b[0m\u001b[1;33m)\u001b[0m\u001b[1;33m\u001b[0m\u001b[1;33m\u001b[0m\u001b[0m\n\u001b[0m\u001b[0;32m    647\u001b[0m \u001b[1;33m\u001b[0m\u001b[0m\n\u001b[0;32m    648\u001b[0m         \u001b[1;31m# Total elapsed time of the request (approximately)\u001b[0m\u001b[1;33m\u001b[0m\u001b[1;33m\u001b[0m\u001b[1;33m\u001b[0m\u001b[0m\n",
      "\u001b[1;32m~\\Anaconda3\\lib\\site-packages\\requests\\adapters.py\u001b[0m in \u001b[0;36msend\u001b[1;34m(self, request, stream, timeout, verify, cert, proxies)\u001b[0m\n\u001b[0;32m    508\u001b[0m \u001b[1;33m\u001b[0m\u001b[0m\n\u001b[0;32m    509\u001b[0m             \u001b[1;32mif\u001b[0m \u001b[0misinstance\u001b[0m\u001b[1;33m(\u001b[0m\u001b[0me\u001b[0m\u001b[1;33m.\u001b[0m\u001b[0mreason\u001b[0m\u001b[1;33m,\u001b[0m \u001b[0m_ProxyError\u001b[0m\u001b[1;33m)\u001b[0m\u001b[1;33m:\u001b[0m\u001b[1;33m\u001b[0m\u001b[1;33m\u001b[0m\u001b[0m\n\u001b[1;32m--> 510\u001b[1;33m                 \u001b[1;32mraise\u001b[0m \u001b[0mProxyError\u001b[0m\u001b[1;33m(\u001b[0m\u001b[0me\u001b[0m\u001b[1;33m,\u001b[0m \u001b[0mrequest\u001b[0m\u001b[1;33m=\u001b[0m\u001b[0mrequest\u001b[0m\u001b[1;33m)\u001b[0m\u001b[1;33m\u001b[0m\u001b[1;33m\u001b[0m\u001b[0m\n\u001b[0m\u001b[0;32m    511\u001b[0m \u001b[1;33m\u001b[0m\u001b[0m\n\u001b[0;32m    512\u001b[0m             \u001b[1;32mif\u001b[0m \u001b[0misinstance\u001b[0m\u001b[1;33m(\u001b[0m\u001b[0me\u001b[0m\u001b[1;33m.\u001b[0m\u001b[0mreason\u001b[0m\u001b[1;33m,\u001b[0m \u001b[0m_SSLError\u001b[0m\u001b[1;33m)\u001b[0m\u001b[1;33m:\u001b[0m\u001b[1;33m\u001b[0m\u001b[1;33m\u001b[0m\u001b[0m\n",
      "\u001b[1;31mProxyError\u001b[0m: HTTPSConnectionPool(host='mp.weixin.qq.com', port=443): Max retries exceeded with url: /cgi-bin/appmsg?token=68703568&lang=zh_CN&f=json&ajax=1&action=list_ex&begin=0&count=5&query=&fakeid=MjM5OTE0ODA2MQ%3D%3D&type=9 (Caused by ProxyError('Cannot connect to proxy.', NewConnectionError('<urllib3.connection.VerifiedHTTPSConnection object at 0x0000020B420EC470>: Failed to establish a new connection: [WinError 10061] 由于目标计算机积极拒绝，无法连接。')))"
     ]
    }
   ],
   "source": [
    "# 目标url\n",
    "\n",
    "import time\n",
    "import requests\n",
    "import pandas as pd\n",
    "import csv\n",
    "\n",
    "\n",
    "url = \"https://mp.weixin.qq.com/cgi-bin/appmsg\"\n",
    "\n",
    "# 使用Cookie，跳过登陆操作\n",
    "headers = {\n",
    "  \n",
    "    \"Cookie\": \"pgv_pvid=3950839744; ua_id=sYxPS3o9fUYxwbcdAAAAAMclyg6gESrtsvzX8Qzj6Po=; mm_lang=zh_CN; pgv_pvi=9712533504; tvfe_boss_uuid=fd0d0de8d635f508; RK=XXhx3TB8xN; ptcz=b7461990899925bba90a10635eab73277abf2ca17b44bff867c0804cbb1a6394; o_cookie=1021996837; pac_uid=1_1021996837; _ga=amp-ERRzzpI_KP93vslIHixerw; ied_qq=o1021996837; sensorsdata2015jssdkcross=%7B%22distinct_id%22%3A%2216f32b521ee15f-0914669e0092ad-6701b35-2073600-16f32b521ef44f%22%2C%22%24device_id%22%3A%2216f32b521ee15f-0914669e0092ad-6701b35-2073600-16f32b521ef44f%22%2C%22props%22%3A%7B%22%24latest_traffic_source_type%22%3A%22%E5%BC%95%E8%8D%90%E6%B5%81%E9%87%8F%22%2C%22%24latest_referrer%22%3A%22http%3A%2F%2F106.52.25.45%2F%22%2C%22%24latest_referrer_host%22%3A%22106.52.25.45%22%2C%22%24latest_search_keyword%22%3A%22%E6%9C%AA%E5%8F%96%E5%88%B0%E5%80%BC%22%7D%7D; XWINDEXGREY=0; ptui_loginuin=1021996837@qq.com; luin=o1021996837; openid2ticket_oQyw15_yHSNyGnMM1DsHQ6900QRQ=i8/OkgU2vQubPSB5+cq4f0FCYeAsjilQtpaHCXREqJA=; lskey=00010000648af4afcbe908249b5c92f7578d4b3d35a17f8e715ea8270548fd3a25ad5a7169f3863e8fa76f0a; pgv_si=s1051141120; uuid=691cb855def6055edc62ffb31b661149; rand_info=CAESIASAr6kU2gSomK9883Vsyf/wIYhs0zpp8CAPx29e30w5; slave_bizuin=3879021635; data_bizuin=3879021635; bizuin=3879021635; data_ticket=AIEcgAnNeHyRJQeqRbSOxEX7sqFj/qh65kGteCUMfJSVdZFyx9zM9Ki0N+ipzPar; slave_sid=V2xpel9yVjFta216UDBYY2dxSTI3QjNaYWNZd3NPU2paeDRNVllOcm10dG5ZZVRub1RnbmRReDNFejVaX0xUS1Y2TWJkeHBTOW9JT3JtcXdwempDRXlYMFNxYU9wWTlBNHNkTlE2YUtJNHkwRUo4T201TzVjS0V1RlBRa3cyNDF4dlJLY2s4TFZVUGlscHdJ; slave_user=gh_15a5ee2f3ff0; xid=5f68dad835b30325010d026440b5489a\",\n",
    "   \n",
    "    \"User-Agent\": \"Mozilla/5.0 (Windows NT 10.0; Win64; x64) AppleWebKit/537.36 (KHTML, like Gecko) Chrome/81.0.4044.138 Safari/537.36\"\n",
    "}\n",
    "data = {\n",
    "    \"token\": \"68703568\",\n",
    "    \"lang\": \"zh_CN\",\n",
    "    \"f\": \"json\",\n",
    "    \"ajax\": \"1\",\n",
    "    \"action\": \"list_ex\",\n",
    "    \"begin\": \"0\",\n",
    "    \"count\": \"5\",\n",
    "    \"query\": \"\",\n",
    "    \"fakeid\": \"MjM5OTE0ODA2MQ==\",\n",
    "    \"type\": \"9\",\n",
    "}\n",
    "\n",
    "\n",
    "\n",
    "content_list=[]\n",
    "\n",
    "for i in range(7):\n",
    "    data[\"begin\"] = i*7\n",
    "    print(data[\"begin\"])\n",
    "    time.sleep(3)\n",
    "    # 使用get方法进行提交\n",
    "    content_json = requests.get(url, headers=headers, params=data).json()\n",
    "#     print(content_json)\n",
    "    # 返回了一个json，里面是每一页的数据\n",
    "    for item in content_json[\"app_msg_list\"]:\n",
    "    # 提取每页文章的标题及对应的url\n",
    "        items = []\n",
    "        items.append(item[\"title\"])\n",
    "        items.append(item[\"link\"])\n",
    "        items.append(item[\"create_time\"])\n",
    "        content_list.append(items)\n",
    "\n",
    "\n",
    "name=['title','link','create_time']\n",
    "test=pd.DataFrame(columns=name,data=content_list)\n",
    "with pd.ExcelWriter(fn[\"output\"][\"公众号_xlsx\"].format(公众号=\"腾讯研究院_requests_01\")) as writer:\n",
    "    test.to_excel(writer)\n",
    "\n",
    "# test.to_csv(\"../微信公众号爬虫_zhichao/南方周末.csv\",mode='a',encoding='utf-8')\n",
    "# print(\"保存成功\")"
   ]
  },
  {
   "cell_type": "markdown",
   "metadata": {},
   "source": [
    "# 采集公众号（selenium）"
   ]
  },
  {
   "cell_type": "code",
   "execution_count": 3,
   "metadata": {},
   "outputs": [],
   "source": [
    "import pandas as pd\n",
    "import numpy as np\n",
    "from lxml.html import fromstring\n",
    "import time\n",
    "from random import random\n",
    "\n",
    "# when selenium main_content is used\n",
    "# Parses an HTML document from a string constant.  Returns the root nood\n",
    "# root = fromstring(df.loc[1,\"html_snippets\"]) "
   ]
  },
  {
   "cell_type": "markdown",
   "metadata": {},
   "source": [
    "## 使用Selenium\n",
    "* 要更改 opts.binary_location 至自己本地的Chrome浏览器，建议portable\n",
    "* Chrome浏览器 和 chromedriver.exe要同版本号到小数后一位\n",
    "* 要确保可以 开启浏览器机器人\n",
    "* 要确保浏览器机器人 可以打开网页 driver.get(\"https://mp.weixin.qq.com\")"
   ]
  },
  {
   "cell_type": "code",
   "execution_count": 4,
   "metadata": {},
   "outputs": [
    {
     "name": "stderr",
     "output_type": "stream",
     "text": [
      "C:\\Users\\win10\\Anaconda3\\lib\\site-packages\\ipykernel_launcher.py:18: DeprecationWarning: use options instead of chrome_options\n"
     ]
    }
   ],
   "source": [
    "from selenium import webdriver\n",
    "from selenium.webdriver.common.desired_capabilities import DesiredCapabilities\n",
    "\n",
    "#caps=dict()\n",
    "#caps[\"pageLoadStrategy\"] = \"none\"   # Do not wait for full page load\n",
    "\n",
    "opts = webdriver.ChromeOptions()\n",
    "opts.add_argument('--no-sandbox')#解决DevToolsActivePort文件不存在的报错\n",
    "opts.add_argument('window-size=1920x3000') #指定浏览器分辨率\n",
    "opts.add_argument('--disable-gpu') #谷歌文档提到需要加上一这个属性来规避bug\n",
    "opts.add_argument('--hide-scrollbars') #隐藏滚动条, 应对些特殊页面\n",
    "#opts.add_argument('blink-settings=imagesEnabled=false') #不加载图片, 提升速度\n",
    "#opts.add_argument('--headless') #浏览器不提供可视化页面. linux下如果系统不支持可视化不加这条会启动失败\n",
    "\n",
    "opts.binary_location = r\"C:\\Users\\win10\\AppData\\Local\\Google\\Chrome\\Application\\chrome.exe\" #\"H:\\_coding_\\Gitee\\InternetNewMedia\\CapstonePrj2016\\chromedriver.exe\"  \n",
    "\n",
    "# \"H:\\_coding_\\Gitee\\InternetNewMedia\\CapstonePrj2016\\chromedriver.exe\"  \n",
    "driver = webdriver.Chrome( chrome_options = opts) #desired_capabilities=caps,"
   ]
  },
  {
   "cell_type": "code",
   "execution_count": 5,
   "metadata": {},
   "outputs": [],
   "source": [
    "driver.get(\"https://mp.weixin.qq.com\")"
   ]
  },
  {
   "cell_type": "markdown",
   "metadata": {},
   "source": [
    "## 填表登入"
   ]
  },
  {
   "cell_type": "markdown",
   "metadata": {},
   "source": [
    "selenium 的定位方法\n",
    "* find_element_by_id &ensp;&ensp;&ensp;  根据标签id定位\n",
    "* find_element_by_name   &ensp;&ensp;&ensp; 根据标签的name定位\n",
    "* find_element_by_xpath  &ensp;&ensp;&ensp; 根据xpath定位\n",
    "* find_element_by_link_text  &ensp;&ensp;&ensp; 通过文字链接来定位元素\n",
    "* find_element_by_partial_link_text  &ensp;&ensp;&ensp;  通过文字链接来定位元素\n",
    "* find_element_by_tag_name  &ensp;&ensp;&ensp;  根据标签的名字定位\n",
    "* find_element_by_class_name  &ensp;&ensp;&ensp; 通过class name 定位\n",
    "* find_element_by_css_selector  &ensp;&ensp;&ensp;  根据元素属性来定位"
   ]
  },
  {
   "cell_type": "code",
   "execution_count": 6,
   "metadata": {},
   "outputs": [],
   "source": [
    "payload =  {\"account\": \"15219720545@163.com\", \"password\": \"1021996837PQ\"}\n",
    "# payload =  {\"account\": \"NFUHacks@163.com\", \"password\": \"NFU706947580\"}\n",
    "driver.find_element_by_xpath('//div[@class=\"login__type__container login__type__container__scan\"]/a').click()"
   ]
  },
  {
   "cell_type": "markdown",
   "metadata": {},
   "source": [
    "WebDriver 常用方法：\n",
    "* clear()清楚文本\n",
    "* send_keys(values)模拟按键输入\n",
    "* click()模拟点击\n",
    "* submit模拟提交"
   ]
  },
  {
   "cell_type": "code",
   "execution_count": 7,
   "metadata": {},
   "outputs": [],
   "source": [
    "driver.find_element_by_xpath('//form[@class=\"login_form\"]//input[@name=\"account\"]').clear()\n",
    "driver.find_element_by_xpath('//form[@class=\"login_form\"]//input[@name=\"account\"]').send_keys(payload['account'])\n",
    "driver.find_element_by_xpath('//form[@class=\"login_form\"]//input[@name=\"password\"]').clear()\n",
    "driver.find_element_by_xpath('//form[@class=\"login_form\"]//input[@name=\"password\"]').send_keys(payload['password'])"
   ]
  },
  {
   "cell_type": "code",
   "execution_count": 8,
   "metadata": {},
   "outputs": [],
   "source": [
    "driver.find_element_by_xpath('//div[@class=\"login_btn_panel\"]/a').click()"
   ]
  },
  {
   "cell_type": "markdown",
   "metadata": {},
   "source": [
    "## 点选单"
   ]
  },
  {
   "cell_type": "markdown",
   "metadata": {},
   "source": [
    "其他常用方法\n",
    "* size：返回元素的尺寸\n",
    "* text：获取元素的文本\n",
    "* get_attribute：获取属性值  &ensp;&ensp;&ensp; get_attribute('innerHTML')获取元素内的全部HTML\n",
    "* is_displayed()：设置该元素用户是否可见"
   ]
  },
  {
   "cell_type": "code",
   "execution_count": 9,
   "metadata": {},
   "outputs": [
    {
     "data": {
      "text/plain": [
       "'展开'"
      ]
     },
     "execution_count": 9,
     "metadata": {},
     "output_type": "execute_result"
    }
   ],
   "source": [
    "element = driver.find_element_by_xpath('//a[@id=\"m_open\"]')\n",
    "element.click()\n",
    "main_content = element.get_attribute('innerHTML')\n",
    "main_content"
   ]
  },
  {
   "cell_type": "code",
   "execution_count": 10,
   "metadata": {},
   "outputs": [],
   "source": [
    "driver.execute_script(\"window.scrollTo(0,document.body.scrollHeight)\")"
   ]
  },
  {
   "cell_type": "code",
   "execution_count": 11,
   "metadata": {},
   "outputs": [
    {
     "data": {
      "text/plain": [
       "'https://mp.weixin.qq.com/cgi-bin/appmsg?begin=0&count=10&t=media/appmsg_list&type=10&action=list&token=210474303&lang=zh_CN'"
      ]
     },
     "execution_count": 11,
     "metadata": {},
     "output_type": "execute_result"
    }
   ],
   "source": [
    "element = driver.find_element_by_xpath('//li[@title[contains(.,\"素材管理\")]]/a') \n",
    "# main_content = element.get_attribute('innerHTML')\n",
    "# main_content\n",
    "url_素材管理= element.get_attribute(\"href\")\n",
    "url_素材管理"
   ]
  },
  {
   "cell_type": "code",
   "execution_count": 12,
   "metadata": {},
   "outputs": [],
   "source": [
    "driver.get(url_素材管理)"
   ]
  },
  {
   "cell_type": "markdown",
   "metadata": {},
   "source": [
    "## 新建图文消息"
   ]
  },
  {
   "cell_type": "code",
   "execution_count": 13,
   "metadata": {},
   "outputs": [],
   "source": [
    "element = driver.find_element_by_xpath('//*[text()[contains(.,\"新建图文消息\")]]') \n",
    "main_content = element.get_attribute('innerHTML')\n",
    "main_content\n",
    "element.click()"
   ]
  },
  {
   "cell_type": "code",
   "execution_count": 14,
   "metadata": {},
   "outputs": [
    {
     "name": "stdout",
     "output_type": "stream",
     "text": [
      "['CDwindow-0B86F03C31BFB753C69D826DCF952AB9', 'CDwindow-959F9A76508EE540D684FC1F20496A7B']\n"
     ]
    }
   ],
   "source": [
    "print (driver.window_handles)"
   ]
  },
  {
   "cell_type": "code",
   "execution_count": 15,
   "metadata": {},
   "outputs": [],
   "source": [
    "# 新建图文消息开了另一分视窗，所以要切换 switch_to \n",
    "driver.switch_to.window(driver.window_handles[-1])"
   ]
  },
  {
   "cell_type": "markdown",
   "metadata": {},
   "source": [
    "## 超链接"
   ]
  },
  {
   "cell_type": "code",
   "execution_count": 16,
   "metadata": {},
   "outputs": [
    {
     "name": "stdout",
     "output_type": "stream",
     "text": [
      "                超链接              \n"
     ]
    }
   ],
   "source": [
    "element = driver.find_element_by_xpath('//*[text()[contains(.,\"超链接\")]]') \n",
    "main_content = element.get_attribute('innerHTML')\n",
    "print(main_content)\n",
    "element.click()"
   ]
  },
  {
   "cell_type": "code",
   "execution_count": 17,
   "metadata": {},
   "outputs": [
    {
     "name": "stdout",
     "output_type": "stream",
     "text": [
      "选择其他公众号\n"
     ]
    }
   ],
   "source": [
    "# 点 选择其他公众号\n",
    "element = driver.find_element_by_xpath('//*[text()[contains(.,\"选择其他公众号\")]]') \n",
    "main_content = element.get_attribute('innerHTML')\n",
    "print(main_content)\n",
    "element.click()"
   ]
  },
  {
   "cell_type": "code",
   "execution_count": 18,
   "metadata": {},
   "outputs": [],
   "source": [
    "driver.find_element_by_xpath('//form//div[@class=\"inner_link_account_area\"]//input[@class=\"weui-desktop-form__input\"]').clear()\n",
    "driver.find_element_by_xpath('//form//div[@class=\"inner_link_account_area\"]//input[@class=\"weui-desktop-form__input\"]').send_keys(公众号)"
   ]
  },
  {
   "cell_type": "code",
   "execution_count": 19,
   "metadata": {},
   "outputs": [
    {
     "name": "stdout",
     "output_type": "stream",
     "text": [
      "<div class=\"weui-desktop-icon weui-desktop-icon__inputSearch weui-desktop-icon__small\"><!----> <!----> <!----> <!----> <!----> <!----> <!----> <!----> <!----> <!----> <!----> <!----> <!----> <!----> <!----> <!----> <!----> <!----> <!----> <!----> <!----> <!----> <!----> <!----> <!----> <!----> <!----> <!----> <!----> <!----> <!----> <!----> <!----> <!----> <!----> <!----> <!----> <!----> <!----> <!----> <!----> <!----> <!----> <!----> <!----> <!----> <!----> <!----> <!----> <!----> <!----> <!----> <!----> <!----> <svg width=\"16\" height=\"16\" viewBox=\"0 0 16 16\" xmlns=\"http://www.w3.org/2000/svg\"><path d=\"M11.33 10.007l4.273 4.273a.502.502 0 0 1 .005.709l-.585.584a.499.499 0 0 1-.709-.004L10.046 11.3a6.278 6.278 0 1 1 1.284-1.294zm.012-3.729a5.063 5.063 0 1 0-10.127 0 5.063 5.063 0 0 0 10.127 0z\"></path></svg> <!----> <!----> <!----> <!----></div>\n"
     ]
    }
   ],
   "source": [
    "# 点放大镜搜\n",
    "element = driver.find_element_by_xpath('//button[@class=\"weui-desktop-icon-btn weui-desktop-search__btn\"]')\n",
    "main_content = element.get_attribute('innerHTML')\n",
    "print(main_content)\n",
    "element.click()"
   ]
  },
  {
   "cell_type": "code",
   "execution_count": 20,
   "metadata": {},
   "outputs": [
    {
     "name": "stdout",
     "output_type": "stream",
     "text": [
      "<li class=\"inner_link_account_item\"><div class=\"weui-desktop-vm_primary\"><img src=\"http://mmbiz.qpic.cn/mmbiz_png/Ns3uHG4PrNiaicLseGUeYpoyjJD4Oyh8InWQOsGeQ1bwW5h4iaXsyFFKAleZ8PKbabF5FnqrkWW0ZxT0uPHqya2lA/0?wx_fmt=png\" class=\"inner_link_account_avatar\"> <strong class=\"inner_link_account_nickname\">传媒志</strong> <i class=\"inner_link_account_wechat\">微信号：chuanmei12321</i></div> <div class=\"weui-desktop-vm_default inner_link_account_type\">订阅号</div></li><li class=\"inner_link_account_item\"><div class=\"weui-desktop-vm_primary\"><img src=\"http://mmbiz.qpic.cn/mmbiz_png/8uvMyVhQoZUXRwnydegyQl5f97ciaPYRlls7nuK64tqxbroQiaIPZhhvraOAglAIlBGqZunmSvGNKZBlAmGz7znA/0?wx_fmt=png\" class=\"inner_link_account_avatar\"> <strong class=\"inner_link_account_nickname\">传媒青年志</strong> <i class=\"inner_link_account_wechat\">微信号：wcqnz2016</i></div> <div class=\"weui-desktop-vm_default inner_link_account_type\">订阅号</div></li><li class=\"inner_link_account_item\"><div class=\"weui-desktop-vm_primary\"><img src=\"http://mmbiz.qpic.cn/mmbiz_png/zVLJHq6uF01Y6UmWRic2cnPfj56C1LAqT5TfJCUXtMvt17QlbXxibMZrgXubuiaJQmnsNyVD8CKNf1zL2zt0ia0YwA/0?wx_fmt=png\" class=\"inner_link_account_avatar\"> <strong class=\"inner_link_account_nickname\">国际传媒志</strong> <i class=\"inner_link_account_wechat\">微信号：未设置</i></div> <div class=\"weui-desktop-vm_default inner_link_account_type\">订阅号</div></li><li class=\"inner_link_account_item\"><div class=\"weui-desktop-vm_primary\"><img src=\"http://mmbiz.qpic.cn/mmbiz_png/HqDcgPYS8WDQiaiaEicfSmnQ9yX8X3Wpn2G4WGnUWwZXMtmbDwicFUib4j3MricN0sSuDQP9ZJPosWh66uUBibE7k8BPA/0?wx_fmt=png\" class=\"inner_link_account_avatar\"> <strong class=\"inner_link_account_nickname\">长新传媒志</strong> <i class=\"inner_link_account_wechat\">微信号：cxcmz2016</i></div> <div class=\"weui-desktop-vm_default inner_link_account_type\">订阅号</div></li><li class=\"inner_link_account_item\"><div class=\"weui-desktop-vm_primary\"><img src=\"http://mmbiz.qpic.cn/mmbiz_png/yZZNiaNDNnud2bPkEsoxekBibE6W4qNJxDd9ibLWwEwdib02giaCZfibXrkEyV1TpDnN60BGZyic22Wg7vt88FzKHxuLg/0?wx_fmt=png\" class=\"inner_link_account_avatar\"> <strong class=\"inner_link_account_nickname\">高铁传媒志</strong> <i class=\"inner_link_account_wechat\">微信号：gaotie-media</i></div> <div class=\"weui-desktop-vm_default inner_link_account_type\">订阅号</div></li>\n"
     ]
    }
   ],
   "source": [
    "element = driver.find_element_by_xpath('//ul[@class=\"inner_link_account_list\"]')\n",
    "main_content = element.get_attribute('innerHTML')\n",
    "print(main_content)\n",
    "公众号SERP = main_content\n"
   ]
  },
  {
   "cell_type": "code",
   "execution_count": 21,
   "metadata": {},
   "outputs": [],
   "source": [
    "# 解析\n",
    "root = fromstring(公众号SERP) "
   ]
  },
  {
   "cell_type": "code",
   "execution_count": 22,
   "metadata": {},
   "outputs": [],
   "source": [
    "主 = root.xpath('//li[@class=\"inner_link_account_item\"]')\n",
    "\n",
    "account_list = []\n",
    "for e in 主:\n",
    "    account_nickname = e.xpath('./div/strong[@class=\"inner_link_account_nickname\"]')[0].text\n",
    "    account_wechat = e.xpath('./div/i[@class=\"inner_link_account_wechat\"]')[0].text\n",
    "    account_img = e.xpath('./div/img/@src')[0]\n",
    "    account = {\"nickname\": account_nickname, \"wechat\": account_wechat, \"img\": account_img,}\n",
    "    account_list.append(account)\n",
    "\n",
    "df_account = pd.DataFrame(account_list)"
   ]
  },
  {
   "cell_type": "code",
   "execution_count": 23,
   "metadata": {},
   "outputs": [
    {
     "data": {
      "text/html": [
       "<div>\n",
       "<style scoped>\n",
       "    .dataframe tbody tr th:only-of-type {\n",
       "        vertical-align: middle;\n",
       "    }\n",
       "\n",
       "    .dataframe tbody tr th {\n",
       "        vertical-align: top;\n",
       "    }\n",
       "\n",
       "    .dataframe thead th {\n",
       "        text-align: right;\n",
       "    }\n",
       "</style>\n",
       "<table border=\"1\" class=\"dataframe\">\n",
       "  <thead>\n",
       "    <tr style=\"text-align: right;\">\n",
       "      <th></th>\n",
       "      <th>nickname</th>\n",
       "      <th>wechat</th>\n",
       "      <th>img</th>\n",
       "    </tr>\n",
       "  </thead>\n",
       "  <tbody>\n",
       "    <tr>\n",
       "      <th>0</th>\n",
       "      <td>传媒志</td>\n",
       "      <td>微信号：chuanmei12321</td>\n",
       "      <td>http://mmbiz.qpic.cn/mmbiz_png/Ns3uHG4PrNiaicL...</td>\n",
       "    </tr>\n",
       "    <tr>\n",
       "      <th>1</th>\n",
       "      <td>传媒青年志</td>\n",
       "      <td>微信号：wcqnz2016</td>\n",
       "      <td>http://mmbiz.qpic.cn/mmbiz_png/8uvMyVhQoZUXRwn...</td>\n",
       "    </tr>\n",
       "    <tr>\n",
       "      <th>2</th>\n",
       "      <td>国际传媒志</td>\n",
       "      <td>微信号：未设置</td>\n",
       "      <td>http://mmbiz.qpic.cn/mmbiz_png/zVLJHq6uF01Y6Um...</td>\n",
       "    </tr>\n",
       "    <tr>\n",
       "      <th>3</th>\n",
       "      <td>长新传媒志</td>\n",
       "      <td>微信号：cxcmz2016</td>\n",
       "      <td>http://mmbiz.qpic.cn/mmbiz_png/HqDcgPYS8WDQiai...</td>\n",
       "    </tr>\n",
       "    <tr>\n",
       "      <th>4</th>\n",
       "      <td>高铁传媒志</td>\n",
       "      <td>微信号：gaotie-media</td>\n",
       "      <td>http://mmbiz.qpic.cn/mmbiz_png/yZZNiaNDNnud2bP...</td>\n",
       "    </tr>\n",
       "  </tbody>\n",
       "</table>\n",
       "</div>"
      ],
      "text/plain": [
       "  nickname             wechat  \\\n",
       "0      传媒志  微信号：chuanmei12321   \n",
       "1    传媒青年志      微信号：wcqnz2016   \n",
       "2    国际传媒志            微信号：未设置   \n",
       "3    长新传媒志      微信号：cxcmz2016   \n",
       "4    高铁传媒志   微信号：gaotie-media   \n",
       "\n",
       "                                                 img  \n",
       "0  http://mmbiz.qpic.cn/mmbiz_png/Ns3uHG4PrNiaicL...  \n",
       "1  http://mmbiz.qpic.cn/mmbiz_png/8uvMyVhQoZUXRwn...  \n",
       "2  http://mmbiz.qpic.cn/mmbiz_png/zVLJHq6uF01Y6Um...  \n",
       "3  http://mmbiz.qpic.cn/mmbiz_png/HqDcgPYS8WDQiai...  \n",
       "4  http://mmbiz.qpic.cn/mmbiz_png/yZZNiaNDNnud2bP...  "
      ]
     },
     "execution_count": 23,
     "metadata": {},
     "output_type": "execute_result"
    }
   ],
   "source": [
    "df_account"
   ]
  },
  {
   "cell_type": "code",
   "execution_count": 24,
   "metadata": {},
   "outputs": [
    {
     "name": "stdout",
     "output_type": "stream",
     "text": [
      "<div class=\"weui-desktop-vm_primary\"><img src=\"http://mmbiz.qpic.cn/mmbiz_png/Ns3uHG4PrNiaicLseGUeYpoyjJD4Oyh8InWQOsGeQ1bwW5h4iaXsyFFKAleZ8PKbabF5FnqrkWW0ZxT0uPHqya2lA/0?wx_fmt=png\" class=\"inner_link_account_avatar\"> <strong class=\"inner_link_account_nickname\">传媒志</strong> <i class=\"inner_link_account_wechat\">微信号：chuanmei12321</i></div> <div class=\"weui-desktop-vm_default inner_link_account_type\">订阅号</div>\n"
     ]
    }
   ],
   "source": [
    "element = driver.find_element_by_xpath('//ul[@class=\"inner_link_account_list\"]/li')\n",
    "main_content = element.get_attribute('innerHTML')\n",
    "print(main_content)\n",
    "element.click()"
   ]
  },
  {
   "cell_type": "code",
   "execution_count": 25,
   "metadata": {},
   "outputs": [
    {
     "data": {
      "text/plain": [
       "'\\n跳转_input = driver.find_element_by_xpath(\\'//span[@class=\"weui-desktop-pagination__form\"]/input\\')\\n跳转_a = driver.find_element_by_xpath(\\'//span[@class=\"weui-desktop-pagination__form\"]/a\\')\\n跳转_input.clear()\\n跳转_input.send_keys(2)\\n跳转_a.click()\\n'"
      ]
     },
     "execution_count": 25,
     "metadata": {},
     "output_type": "execute_result"
    }
   ],
   "source": [
    "# 跳转testing\n",
    "'''\n",
    "跳转_input = driver.find_element_by_xpath('//span[@class=\"weui-desktop-pagination__form\"]/input')\n",
    "跳转_a = driver.find_element_by_xpath('//span[@class=\"weui-desktop-pagination__form\"]/a')\n",
    "跳转_input.clear()\n",
    "跳转_input.send_keys(2)\n",
    "跳转_a.click()\n",
    "'''"
   ]
  },
  {
   "cell_type": "code",
   "execution_count": 26,
   "metadata": {},
   "outputs": [
    {
     "name": "stdout",
     "output_type": "stream",
     "text": [
      "[1, 157]\n",
      "False\n"
     ]
    }
   ],
   "source": [
    "# 跳转上限\n",
    "l_e = driver.find_elements_by_xpath('//label[@class=\"weui-desktop-pagination__num\"]')\n",
    "l_e_int  = [int(x.text) for x in l_e] \n",
    "print (l_e_int)\n",
    "print (l_e_int[0]==l_e_int[-1])"
   ]
  },
  {
   "cell_type": "code",
   "execution_count": 27,
   "metadata": {},
   "outputs": [
    {
     "name": "stdout",
     "output_type": "stream",
     "text": [
      "[1, 2, 3, 4, 5, 6, 7, 8, 9, 10, 11, 12, 13, 14, 15, 16, 17, 18, 19, 20, 21, 22, 23, 24, 25, 26, 27, 28, 29, 30, 31, 32, 33, 34, 35, 36, 37, 38, 39, 40, 41, 42, 43, 44, 45, 46, 47, 48, 49, 50, 51, 52, 53, 54, 55, 56, 57, 58, 59, 60, 61, 62, 63, 64, 65, 66, 67, 68, 69, 70, 71, 72, 73, 74, 75, 76, 77, 78, 79, 80, 81, 82, 83, 84, 85, 86, 87, 88, 89, 90, 91, 92, 93, 94, 95, 96, 97, 98, 99, 100, 101, 102, 103, 104, 105, 106, 107, 108, 109, 110, 111, 112, 113, 114, 115, 116, 117, 118, 119, 120, 121, 122, 123, 124, 125, 126, 127, 128, 129, 130, 131, 132, 133, 134, 135, 136, 137, 138, 139, 140, 141, 142, 143, 144, 145, 146, 147, 148, 149, 150, 151, 152, 153, 154, 155, 156, 157]\n"
     ]
    }
   ],
   "source": [
    "pages = list(range(l_e_int[0],l_e_int[-1]+1 ))\n",
    "#print(pages[0:2])\n",
    "pages = list(range(1,l_e_int[-1]+1 ))\n",
    "print(pages)"
   ]
  },
  {
   "cell_type": "markdown",
   "metadata": {},
   "source": [
    "## 循环/遍历"
   ]
  },
  {
   "cell_type": "code",
   "execution_count": 28,
   "metadata": {},
   "outputs": [],
   "source": [
    "# global varialbes \n",
    "html_raw = dict()\n",
    "main_content =\"\"\n",
    "element = None"
   ]
  },
  {
   "cell_type": "code",
   "execution_count": 29,
   "metadata": {},
   "outputs": [],
   "source": [
    "def process_pages (pages):\n",
    "    for p in pages:\n",
    "        print (p,end='\\t')\n",
    "\n",
    "        跳转_input = driver.find_element_by_xpath('//span[@class=\"weui-desktop-pagination__form\"]/input')\n",
    "        跳转_a = driver.find_element_by_xpath('//span[@class=\"weui-desktop-pagination__form\"]/a')\n",
    "        跳转_input.clear()\n",
    "        跳转_input.send_keys(p)\n",
    "        跳转_a.click()\n",
    "\n",
    "        time.sleep(45+120*random())\n",
    "\n",
    "        element = driver.find_element_by_xpath('//div[@class=\"inner_link_article_list\"]')\n",
    "        main_content = element.get_attribute('innerHTML')\n",
    "        #print(main_content)\n",
    "        html_raw[p] = main_content"
   ]
  },
  {
   "cell_type": "code",
   "execution_count": 30,
   "metadata": {},
   "outputs": [
    {
     "name": "stdout",
     "output_type": "stream",
     "text": [
      "1\t2\t3\t4\t5\t6\t7\t8\t9\t10\t11\t12\t13\t14\t15\t16\t17\t18\t19\t20\t21\t22\t23\t24\t25\t26\t27\t28\t29\t30\t31\t32\t33\t34\t35\t36\t37\t38\t39\t40\t41\t42\t43\t44\t45\t46\t47\t48\t49\t50\t51\t52\t53\t54\t55\t56\t57\t58\t59\t60\t61\t62\t63\t64\t65\t66\t67\t68\t69\t70\t71\t72\t73\t74\t75\t76\t77\t78\t79\t80\t81\t82\t83\t84\t85\t86\t87\t88\t89\t90\t91\t92\t93\t94\t95\t96\t97\t98\t99\t100\t101\t102\t103\t104\t105\t106\t107\t108\t109\t110\t111\t112\t113\t114\t115\t116\t117\t118\t119\t120\t121\t122\t123\t124\t125\t126\t127\t128\t129\t130\t131\t132\t133\t134\t135\t136\t137\t138\t139\t140\t141\t142\t143\t144\t145\t146\t147\t148\t149\t150\t151\t152\t153\t154\t155\t156\t157\t"
     ]
    }
   ],
   "source": [
    "process_pages(pages)"
   ]
  },
  {
   "cell_type": "code",
   "execution_count": 31,
   "metadata": {},
   "outputs": [
    {
     "data": {
      "text/html": [
       "<div>\n",
       "<style scoped>\n",
       "    .dataframe tbody tr th:only-of-type {\n",
       "        vertical-align: middle;\n",
       "    }\n",
       "\n",
       "    .dataframe tbody tr th {\n",
       "        vertical-align: top;\n",
       "    }\n",
       "\n",
       "    .dataframe thead th {\n",
       "        text-align: right;\n",
       "    }\n",
       "</style>\n",
       "<table border=\"1\" class=\"dataframe\">\n",
       "  <thead>\n",
       "    <tr style=\"text-align: right;\">\n",
       "      <th></th>\n",
       "      <th>html_snippets</th>\n",
       "    </tr>\n",
       "  </thead>\n",
       "  <tbody>\n",
       "    <tr>\n",
       "      <th>1</th>\n",
       "      <td>&lt;div&gt;&lt;label class=\"inner_link_article_item\"&gt;&lt;s...</td>\n",
       "    </tr>\n",
       "    <tr>\n",
       "      <th>2</th>\n",
       "      <td>&lt;div&gt;&lt;label class=\"inner_link_article_item\"&gt;&lt;s...</td>\n",
       "    </tr>\n",
       "    <tr>\n",
       "      <th>3</th>\n",
       "      <td>&lt;div&gt;&lt;label class=\"inner_link_article_item\"&gt;&lt;s...</td>\n",
       "    </tr>\n",
       "    <tr>\n",
       "      <th>4</th>\n",
       "      <td>&lt;div&gt;&lt;label class=\"inner_link_article_item\"&gt;&lt;s...</td>\n",
       "    </tr>\n",
       "    <tr>\n",
       "      <th>5</th>\n",
       "      <td>&lt;div&gt;&lt;label class=\"inner_link_article_item\"&gt;&lt;s...</td>\n",
       "    </tr>\n",
       "    <tr>\n",
       "      <th>...</th>\n",
       "      <td>...</td>\n",
       "    </tr>\n",
       "    <tr>\n",
       "      <th>153</th>\n",
       "      <td>&lt;div&gt;&lt;label class=\"inner_link_article_item\"&gt;&lt;s...</td>\n",
       "    </tr>\n",
       "    <tr>\n",
       "      <th>154</th>\n",
       "      <td>&lt;div&gt;&lt;label class=\"inner_link_article_item\"&gt;&lt;s...</td>\n",
       "    </tr>\n",
       "    <tr>\n",
       "      <th>155</th>\n",
       "      <td>&lt;div&gt;&lt;label class=\"inner_link_article_item\"&gt;&lt;s...</td>\n",
       "    </tr>\n",
       "    <tr>\n",
       "      <th>156</th>\n",
       "      <td>&lt;div&gt;&lt;label class=\"inner_link_article_item\"&gt;&lt;s...</td>\n",
       "    </tr>\n",
       "    <tr>\n",
       "      <th>157</th>\n",
       "      <td>&lt;div&gt;&lt;label class=\"inner_link_article_item\"&gt;&lt;s...</td>\n",
       "    </tr>\n",
       "  </tbody>\n",
       "</table>\n",
       "<p>157 rows × 1 columns</p>\n",
       "</div>"
      ],
      "text/plain": [
       "                                         html_snippets\n",
       "1    <div><label class=\"inner_link_article_item\"><s...\n",
       "2    <div><label class=\"inner_link_article_item\"><s...\n",
       "3    <div><label class=\"inner_link_article_item\"><s...\n",
       "4    <div><label class=\"inner_link_article_item\"><s...\n",
       "5    <div><label class=\"inner_link_article_item\"><s...\n",
       "..                                                 ...\n",
       "153  <div><label class=\"inner_link_article_item\"><s...\n",
       "154  <div><label class=\"inner_link_article_item\"><s...\n",
       "155  <div><label class=\"inner_link_article_item\"><s...\n",
       "156  <div><label class=\"inner_link_article_item\"><s...\n",
       "157  <div><label class=\"inner_link_article_item\"><s...\n",
       "\n",
       "[157 rows x 1 columns]"
      ]
     },
     "execution_count": 31,
     "metadata": {},
     "output_type": "execute_result"
    }
   ],
   "source": [
    "df = pd.DataFrame([html_raw]).T\n",
    "df.columns = [\"html_snippets\"]\n",
    "df"
   ]
  },
  {
   "cell_type": "code",
   "execution_count": 32,
   "metadata": {},
   "outputs": [
    {
     "name": "stdout",
     "output_type": "stream",
     "text": [
      "Stored 'html_raw' (dict)\n"
     ]
    }
   ],
   "source": [
    "%store html_raw\n",
    "import pickle \n",
    "filehandler = open(\"html_raw\", 'wb') \n",
    "pickle.dump(html_raw, filehandler)"
   ]
  },
  {
   "cell_type": "code",
   "execution_count": 33,
   "metadata": {},
   "outputs": [
    {
     "name": "stdout",
     "output_type": "stream",
     "text": [
      "156\n"
     ]
    },
    {
     "data": {
      "text/html": [
       "<div>\n",
       "<style scoped>\n",
       "    .dataframe tbody tr th:only-of-type {\n",
       "        vertical-align: middle;\n",
       "    }\n",
       "\n",
       "    .dataframe tbody tr th {\n",
       "        vertical-align: top;\n",
       "    }\n",
       "\n",
       "    .dataframe thead th {\n",
       "        text-align: right;\n",
       "    }\n",
       "</style>\n",
       "<table border=\"1\" class=\"dataframe\">\n",
       "  <thead>\n",
       "    <tr style=\"text-align: right;\">\n",
       "      <th></th>\n",
       "      <th>html_snippets</th>\n",
       "    </tr>\n",
       "  </thead>\n",
       "  <tbody>\n",
       "    <tr>\n",
       "      <th>12</th>\n",
       "      <td>&lt;div&gt;&lt;label class=\"inner_link_article_item\"&gt;&lt;s...</td>\n",
       "    </tr>\n",
       "  </tbody>\n",
       "</table>\n",
       "</div>"
      ],
      "text/plain": [
       "                                        html_snippets\n",
       "12  <div><label class=\"inner_link_article_item\"><s..."
      ]
     },
     "execution_count": 33,
     "metadata": {},
     "output_type": "execute_result"
    }
   ],
   "source": [
    "df_out = df[~df.duplicated()]\n",
    "print (len(df_out))\n",
    "df[df.duplicated()]"
   ]
  },
  {
   "cell_type": "code",
   "execution_count": 34,
   "metadata": {},
   "outputs": [
    {
     "name": "stdout",
     "output_type": "stream",
     "text": [
      "[12]\n"
     ]
    },
    {
     "data": {
      "text/plain": [
       "[12]"
      ]
     },
     "execution_count": 34,
     "metadata": {},
     "output_type": "execute_result"
    }
   ],
   "source": [
    "try_again = list(df[df.duplicated()].index)\n",
    "print(try_again)\n",
    "try_again = try_again + list (set(pages).difference(set(df.index.values)))\n",
    "try_again"
   ]
  },
  {
   "cell_type": "markdown",
   "metadata": {},
   "source": [
    "## 暂存档"
   ]
  },
  {
   "cell_type": "code",
   "execution_count": 35,
   "metadata": {},
   "outputs": [],
   "source": [
    "filename = fn [\"output\"] [\"公众号_htm_snippets\"] \n",
    "df_out.to_csv(filename.format(公众号=公众号), sep=\"\\t\", encoding=\"utf8\")"
   ]
  },
  {
   "cell_type": "code",
   "execution_count": 102,
   "metadata": {},
   "outputs": [
    {
     "name": "stdout",
     "output_type": "stream",
     "text": [
      "5,7,6,7,10,5,7,6,5,7,7,7,6,7,9,7,7,6,10,8,7,7,9,6,8,8,6,6,9,9,9,8,9,7,9,8,9,7,7,9,7,6,6,8,7,7,6,7,7,8,7,9,8,8,8,6,7,7,8,7,9,7,8,10,9,10,7,7,9,8,9,9,10,8,9,9,10,10,8,8,8,9,10,9,10,10,8,10,8,9,10,9,7,9,10,9,9,10,10,10,10,13,10,9,9,10,10,10,10,9,9,10,9,10,10,9,8,8,10,9,10,9,7,9,8,10,9,10,9,8,10,9,9,10,9,10,8,9,6,7,8,10,9,9,9,10,6,5,5,5,5,5,5,5,5,5,3,"
     ]
    }
   ],
   "source": [
    "def parse_html_snippets(_snippet_):\n",
    "    root = fromstring(_snippet_) \n",
    "    title = [x.text for x in root.xpath('//div[@class=\"inner_link_article_title\"]')]\n",
    "    create_time = [x.text for x in root.xpath('//div[@class=\"inner_link_article_date\"]')]\n",
    "    link = [x for x in root.xpath('//a/@href')]\n",
    "    _df_ = pd.DataFrame({\"标题\":title, \"发布时间\": create_time, \"链接\":link})\n",
    "    return(_df_)\n",
    "    \n",
    "l_df = []\n",
    "for p in pages:\n",
    "    _df_ = parse_html_snippets(df.loc[p,\"html_snippets\"])\n",
    "    print (len(_df_), end=\",\")\n",
    "    l_df.append(_df_)"
   ]
  },
  {
   "cell_type": "code",
   "execution_count": 124,
   "metadata": {},
   "outputs": [
    {
     "data": {
      "text/html": [
       "<div>\n",
       "<style scoped>\n",
       "    .dataframe tbody tr th:only-of-type {\n",
       "        vertical-align: middle;\n",
       "    }\n",
       "\n",
       "    .dataframe tbody tr th {\n",
       "        vertical-align: top;\n",
       "    }\n",
       "\n",
       "    .dataframe thead th {\n",
       "        text-align: right;\n",
       "    }\n",
       "</style>\n",
       "<table border=\"1\" class=\"dataframe\">\n",
       "  <thead>\n",
       "    <tr style=\"text-align: right;\">\n",
       "      <th></th>\n",
       "      <th>标题</th>\n",
       "      <th>发布时间</th>\n",
       "      <th>链接</th>\n",
       "    </tr>\n",
       "  </thead>\n",
       "  <tbody>\n",
       "    <tr>\n",
       "      <th>0</th>\n",
       "      <td>助你少走弯路！2020Fall美国传播与媒介研究类PhD申请分享</td>\n",
       "      <td>2020-04-10</td>\n",
       "      <td>http://mp.weixin.qq.com/s?__biz=MzI2MzExMTQ3OA...</td>\n",
       "    </tr>\n",
       "    <tr>\n",
       "      <th>1</th>\n",
       "      <td>“云监工”变“云守望” 守护和见证一座城市的复苏</td>\n",
       "      <td>2020-02-16</td>\n",
       "      <td>http://mp.weixin.qq.com/s?__biz=MzI2MzExMTQ3OA...</td>\n",
       "    </tr>\n",
       "    <tr>\n",
       "      <th>2</th>\n",
       "      <td>如果要用八个字总结2019年的互联网，你的答案是什么？</td>\n",
       "      <td>2020-01-07</td>\n",
       "      <td>http://mp.weixin.qq.com/s?__biz=MzI2MzExMTQ3OA...</td>\n",
       "    </tr>\n",
       "    <tr>\n",
       "      <th>3</th>\n",
       "      <td>“央视频”不一young：跨年“遥控器” 打造全国全民大联欢</td>\n",
       "      <td>2020-01-04</td>\n",
       "      <td>http://mp.weixin.qq.com/s?__biz=MzI2MzExMTQ3OA...</td>\n",
       "    </tr>\n",
       "    <tr>\n",
       "      <th>4</th>\n",
       "      <td>回顾与前瞻：新中国成立70年来的新闻传播史研究</td>\n",
       "      <td>2019-10-28</td>\n",
       "      <td>http://mp.weixin.qq.com/s?__biz=MzI2MzExMTQ3OA...</td>\n",
       "    </tr>\n",
       "    <tr>\n",
       "      <th>...</th>\n",
       "      <td>...</td>\n",
       "      <td>...</td>\n",
       "      <td>...</td>\n",
       "    </tr>\n",
       "    <tr>\n",
       "      <th>996</th>\n",
       "      <td>考研福利：2016年度热点事件学理性解读（下）</td>\n",
       "      <td>2016-12-23</td>\n",
       "      <td>http://mp.weixin.qq.com/s?__biz=MzI2MzExMTQ3OA...</td>\n",
       "    </tr>\n",
       "    <tr>\n",
       "      <th>997</th>\n",
       "      <td>再见，我去考研了！</td>\n",
       "      <td>2016-12-23</td>\n",
       "      <td>http://mp.weixin.qq.com/s?__biz=MzI2MzExMTQ3OA...</td>\n",
       "    </tr>\n",
       "    <tr>\n",
       "      <th>998</th>\n",
       "      <td>考研福利：2016年度热点事件学理性解读（上）</td>\n",
       "      <td>2016-12-22</td>\n",
       "      <td>http://mp.weixin.qq.com/s?__biz=MzI2MzExMTQ3OA...</td>\n",
       "    </tr>\n",
       "    <tr>\n",
       "      <th>999</th>\n",
       "      <td>雾霾成了中国大众文化的一部分</td>\n",
       "      <td>2016-12-22</td>\n",
       "      <td>http://mp.weixin.qq.com/s?__biz=MzI2MzExMTQ3OA...</td>\n",
       "    </tr>\n",
       "    <tr>\n",
       "      <th>1000</th>\n",
       "      <td>11月媒体健康度榜单公布，多元化布局成制胜法宝</td>\n",
       "      <td>2016-12-21</td>\n",
       "      <td>http://mp.weixin.qq.com/s?__biz=MzI2MzExMTQ3OA...</td>\n",
       "    </tr>\n",
       "  </tbody>\n",
       "</table>\n",
       "<p>1001 rows × 3 columns</p>\n",
       "</div>"
      ],
      "text/plain": [
       "                                    标题        发布时间  \\\n",
       "0     助你少走弯路！2020Fall美国传播与媒介研究类PhD申请分享  2020-04-10   \n",
       "1             “云监工”变“云守望” 守护和见证一座城市的复苏  2020-02-16   \n",
       "2          如果要用八个字总结2019年的互联网，你的答案是什么？  2020-01-07   \n",
       "3       “央视频”不一young：跨年“遥控器” 打造全国全民大联欢  2020-01-04   \n",
       "4              回顾与前瞻：新中国成立70年来的新闻传播史研究  2019-10-28   \n",
       "...                                ...         ...   \n",
       "996            考研福利：2016年度热点事件学理性解读（下）  2016-12-23   \n",
       "997                          再见，我去考研了！  2016-12-23   \n",
       "998            考研福利：2016年度热点事件学理性解读（上）  2016-12-22   \n",
       "999                     雾霾成了中国大众文化的一部分  2016-12-22   \n",
       "1000           11月媒体健康度榜单公布，多元化布局成制胜法宝  2016-12-21   \n",
       "\n",
       "                                                     链接  \n",
       "0     http://mp.weixin.qq.com/s?__biz=MzI2MzExMTQ3OA...  \n",
       "1     http://mp.weixin.qq.com/s?__biz=MzI2MzExMTQ3OA...  \n",
       "2     http://mp.weixin.qq.com/s?__biz=MzI2MzExMTQ3OA...  \n",
       "3     http://mp.weixin.qq.com/s?__biz=MzI2MzExMTQ3OA...  \n",
       "4     http://mp.weixin.qq.com/s?__biz=MzI2MzExMTQ3OA...  \n",
       "...                                                 ...  \n",
       "996   http://mp.weixin.qq.com/s?__biz=MzI2MzExMTQ3OA...  \n",
       "997   http://mp.weixin.qq.com/s?__biz=MzI2MzExMTQ3OA...  \n",
       "998   http://mp.weixin.qq.com/s?__biz=MzI2MzExMTQ3OA...  \n",
       "999   http://mp.weixin.qq.com/s?__biz=MzI2MzExMTQ3OA...  \n",
       "1000  http://mp.weixin.qq.com/s?__biz=MzI2MzExMTQ3OA...  \n",
       "\n",
       "[1001 rows x 3 columns]"
      ]
     },
     "execution_count": 124,
     "metadata": {},
     "output_type": "execute_result"
    }
   ],
   "source": [
    "df_1000条 = pd.concat(l_df).reset_index(drop=True)\n",
    "前1000章文章 = df_1000条.loc[0:1000]\n",
    "前1000章文章"
   ]
  },
  {
   "cell_type": "code",
   "execution_count": 125,
   "metadata": {},
   "outputs": [],
   "source": [
    "df_1000条.loc[0:1000].to_excel(\"1000章_传媒志_结果.xlsx\",\\\n",
    "                sheet_name=\"传媒志结果\")"
   ]
  },
  {
   "cell_type": "code",
   "execution_count": 59,
   "metadata": {},
   "outputs": [
    {
     "data": {
      "text/html": [
       "<div>\n",
       "<style scoped>\n",
       "    .dataframe tbody tr th:only-of-type {\n",
       "        vertical-align: middle;\n",
       "    }\n",
       "\n",
       "    .dataframe tbody tr th {\n",
       "        vertical-align: top;\n",
       "    }\n",
       "\n",
       "    .dataframe thead th {\n",
       "        text-align: right;\n",
       "    }\n",
       "</style>\n",
       "<table border=\"1\" class=\"dataframe\">\n",
       "  <thead>\n",
       "    <tr style=\"text-align: right;\">\n",
       "      <th></th>\n",
       "      <th>title</th>\n",
       "      <th>create_time</th>\n",
       "      <th>link</th>\n",
       "    </tr>\n",
       "  </thead>\n",
       "  <tbody>\n",
       "    <tr>\n",
       "      <th>1270</th>\n",
       "      <td>一句话吐槽2015年度十大烂片</td>\n",
       "      <td>2015-12-21</td>\n",
       "      <td>http://mp.weixin.qq.com/s?__biz=MzI2MzExMTQ3OA...</td>\n",
       "    </tr>\n",
       "    <tr>\n",
       "      <th>1271</th>\n",
       "      <td>2015最佳英美剧盘点，收藏寒假练听力丨附下载资源</td>\n",
       "      <td>2015-12-20</td>\n",
       "      <td>http://mp.weixin.qq.com/s?__biz=MzI2MzExMTQ3OA...</td>\n",
       "    </tr>\n",
       "    <tr>\n",
       "      <th>1272</th>\n",
       "      <td>完整收藏版丨1895年至今，全球电影票房总排行Top50【高清下载版】</td>\n",
       "      <td>2015-12-18</td>\n",
       "      <td>http://mp.weixin.qq.com/s?__biz=MzI2MzExMTQ3OA...</td>\n",
       "    </tr>\n",
       "    <tr>\n",
       "      <th>1273</th>\n",
       "      <td>喂！110吗？我妈朋友圈又发污鸡汤了！！</td>\n",
       "      <td>2015-12-17</td>\n",
       "      <td>http://mp.weixin.qq.com/s?__biz=MzI2MzExMTQ3OA...</td>\n",
       "    </tr>\n",
       "    <tr>\n",
       "      <th>1274</th>\n",
       "      <td>恩，是时候弃剧『芈月传』了！</td>\n",
       "      <td>2015-12-16</td>\n",
       "      <td>http://mp.weixin.qq.com/s?__biz=MzI2MzExMTQ3OA...</td>\n",
       "    </tr>\n",
       "  </tbody>\n",
       "</table>\n",
       "</div>"
      ],
      "text/plain": [
       "                                    title create_time  \\\n",
       "1270                      一句话吐槽2015年度十大烂片  2015-12-21   \n",
       "1271            2015最佳英美剧盘点，收藏寒假练听力丨附下载资源  2015-12-20   \n",
       "1272  完整收藏版丨1895年至今，全球电影票房总排行Top50【高清下载版】  2015-12-18   \n",
       "1273                 喂！110吗？我妈朋友圈又发污鸡汤了！！  2015-12-17   \n",
       "1274                       恩，是时候弃剧『芈月传』了！  2015-12-16   \n",
       "\n",
       "                                                   link  \n",
       "1270  http://mp.weixin.qq.com/s?__biz=MzI2MzExMTQ3OA...  \n",
       "1271  http://mp.weixin.qq.com/s?__biz=MzI2MzExMTQ3OA...  \n",
       "1272  http://mp.weixin.qq.com/s?__biz=MzI2MzExMTQ3OA...  \n",
       "1273  http://mp.weixin.qq.com/s?__biz=MzI2MzExMTQ3OA...  \n",
       "1274  http://mp.weixin.qq.com/s?__biz=MzI2MzExMTQ3OA...  "
      ]
     },
     "execution_count": 59,
     "metadata": {},
     "output_type": "execute_result"
    }
   ],
   "source": [
    "df_前50页.tail(5)"
   ]
  },
  {
   "cell_type": "code",
   "execution_count": 109,
   "metadata": {},
   "outputs": [
    {
     "data": {
      "text/html": [
       "<div>\n",
       "<style scoped>\n",
       "    .dataframe tbody tr th:only-of-type {\n",
       "        vertical-align: middle;\n",
       "    }\n",
       "\n",
       "    .dataframe tbody tr th {\n",
       "        vertical-align: top;\n",
       "    }\n",
       "\n",
       "    .dataframe thead th {\n",
       "        text-align: right;\n",
       "    }\n",
       "</style>\n",
       "<table border=\"1\" class=\"dataframe\">\n",
       "  <thead>\n",
       "    <tr style=\"text-align: right;\">\n",
       "      <th></th>\n",
       "      <th>标题</th>\n",
       "      <th>发布时间</th>\n",
       "      <th>链接</th>\n",
       "    </tr>\n",
       "    <tr>\n",
       "      <th>value</th>\n",
       "      <th></th>\n",
       "      <th></th>\n",
       "      <th></th>\n",
       "    </tr>\n",
       "  </thead>\n",
       "  <tbody>\n",
       "  </tbody>\n",
       "</table>\n",
       "</div>"
      ],
      "text/plain": [
       "Empty DataFrame\n",
       "Columns: [标题, 发布时间, 链接]\n",
       "Index: []"
      ]
     },
     "execution_count": 109,
     "metadata": {},
     "output_type": "execute_result"
    }
   ],
   "source": [
    "# tagging 标记\n",
    "\"\"\"\n",
    "tagging_list = [\"\",\"马化腾\", \"腾讯\", \"微众银行\",\"腾讯复星\",\"腾讯风控\",\"腾讯支付\",\"WeChat\",\"We Remit\",\\\n",
    "                \"公益日\",\"红包\",\\\n",
    "                \"腾讯财付通\",\"鹅厂\",\"QQ钱包\",\"QQ红包\",\"QQ\",\\\n",
    "                \"只有一\",\"大咖\",\"听说\",\"图片\",\"照片\",\"小编\",\\\n",
    "                \"洗钱\", \"黑产\",\"被骗\",\"腾讯安全课\",\"诈骗\", \"炒股\",\"神秘兼职\",\"神秘组织\",\\\n",
    "                \"财付通\", \"品牌\",\\\n",
    "                \"收款\",\\\n",
    "                \"报告\",\\\n",
    "                \"银行卡\",\"理财\",\"选股\",\"发票\",\"基金\",\\\n",
    "                \"区块链\",\"金融云\",\"O2O\",\"农产品\",\"家乡\",\\\n",
    "                \"数据\", \"数据赋能\", \"智能\", \"数字孪生\", \"智慧大脑\",\\\n",
    "                \"出行\",\"乘车\",\"公交\",\"乘车码\", \"智慧地铁\",\\\n",
    "                \"高峰论坛\", \"智库\",\\\n",
    "                \"央行\",\"新规\", \\\n",
    "                \"微信\", \"微信支付\", \"跨境支付\", \"移动支付\",\"非银行支付\",\"电子支付\",\\\n",
    "                \"互联网金融\", \"金融科技\",\"互联网＋\",\"互联网+金融\",\"普惠金融\",\"虚拟银行\",\\\n",
    "                \"开放\",\"生态\",\"复杂\",\"互联网思维\",\"全球合作伙伴\",\\\n",
    "                \"联合国\", \"城市\", \"粤港澳大湾区\", \"平台\", \"可持续发展\", \"未来\", \"绿色\",\\\n",
    "                \"医护\",\"防护服\",\"小时\",\"武汉\",\"危机\",\"新冠肺炎\", \"疫\", \"疫情\", \"复工\",\"停课\",\"宅经济\",\\\n",
    "                \"基建\",\"新基建\"] #overwritable\n",
    " \"\"\"               \n",
    "\n",
    "tagging_list = [\"新媒体\",\\\n",
    "                \"传媒\",\\\n",
    "                \"数据\",\\\n",
    "                \"短视频\",\\\n",
    "                \"大数据\",\\\n",
    "                \"新媒体\"]\n",
    "\n",
    "\n",
    "\n",
    "\n",
    "\n",
    "\n",
    "\n",
    "v_v_list = []\n",
    "\n",
    "for tag in tagging_list:\n",
    "    index_list = df_前50页 [ df_前50页.标题.str.contains(tag) ].index.tolist()\n",
    "    v_v_pairs = pd.DataFrame({tag:index_list}).melt().set_index(\"value\")\n",
    "    v_v_list.append(v_v_pairs)\n",
    "\n",
    "df_cat = v_v_list[0]\n",
    "for d in v_v_list:\n",
    "    df_cat.update(d)\n",
    "    \n",
    "# 尚未标记内容\n",
    "df_前50页.loc [ df_cat.query('variable==\"\"').index ]"
   ]
  },
  {
   "cell_type": "raw",
   "metadata": {},
   "source": [
    "df_1000条.loc[50].link"
   ]
  },
  {
   "cell_type": "code",
   "execution_count": 126,
   "metadata": {},
   "outputs": [
    {
     "data": {
      "text/html": [
       "<div>\n",
       "<style scoped>\n",
       "    .dataframe tbody tr th:only-of-type {\n",
       "        vertical-align: middle;\n",
       "    }\n",
       "\n",
       "    .dataframe tbody tr th {\n",
       "        vertical-align: top;\n",
       "    }\n",
       "\n",
       "    .dataframe thead th {\n",
       "        text-align: right;\n",
       "    }\n",
       "</style>\n",
       "<table border=\"1\" class=\"dataframe\">\n",
       "  <thead>\n",
       "    <tr style=\"text-align: right;\">\n",
       "      <th></th>\n",
       "      <th>标题</th>\n",
       "      <th>发布时间</th>\n",
       "      <th>链接</th>\n",
       "    </tr>\n",
       "  </thead>\n",
       "  <tbody>\n",
       "    <tr>\n",
       "      <th>72</th>\n",
       "      <td>内容产品的快闪造节运动：被收割了注意力的我们，都是以消费填补焦虑</td>\n",
       "      <td>2018-11-25</td>\n",
       "      <td>http://mp.weixin.qq.com/s?__biz=MzI2MzExMTQ3OA...</td>\n",
       "    </tr>\n",
       "    <tr>\n",
       "      <th>73</th>\n",
       "      <td>《柯南》剧场版里的物联网恐怖袭击，能成真吗？</td>\n",
       "      <td>2018-11-25</td>\n",
       "      <td>http://mp.weixin.qq.com/s?__biz=MzI2MzExMTQ3OA...</td>\n",
       "    </tr>\n",
       "    <tr>\n",
       "      <th>74</th>\n",
       "      <td>如果有一天，你失去了自己的个人微信号</td>\n",
       "      <td>2018-11-21</td>\n",
       "      <td>http://mp.weixin.qq.com/s?__biz=MzI2MzExMTQ3OA...</td>\n",
       "    </tr>\n",
       "    <tr>\n",
       "      <th>75</th>\n",
       "      <td>CNN为什么能告赢特朗普</td>\n",
       "      <td>2018-11-21</td>\n",
       "      <td>http://mp.weixin.qq.com/s?__biz=MzI2MzExMTQ3OA...</td>\n",
       "    </tr>\n",
       "    <tr>\n",
       "      <th>76</th>\n",
       "      <td>为什么粉丝会热衷于为偶像“造”数据？</td>\n",
       "      <td>2018-11-20</td>\n",
       "      <td>http://mp.weixin.qq.com/s?__biz=MzI2MzExMTQ3OA...</td>\n",
       "    </tr>\n",
       "    <tr>\n",
       "      <th>77</th>\n",
       "      <td>为什么超级英雄选择从事新闻业？</td>\n",
       "      <td>2018-11-18</td>\n",
       "      <td>http://mp.weixin.qq.com/s?__biz=MzI2MzExMTQ3OA...</td>\n",
       "    </tr>\n",
       "    <tr>\n",
       "      <th>78</th>\n",
       "      <td>“90后开始失去了”——一个群体童年的消逝</td>\n",
       "      <td>2018-11-16</td>\n",
       "      <td>http://mp.weixin.qq.com/s?__biz=MzI2MzExMTQ3OA...</td>\n",
       "    </tr>\n",
       "  </tbody>\n",
       "</table>\n",
       "</div>"
      ],
      "text/plain": [
       "                                  标题        发布时间  \\\n",
       "72  内容产品的快闪造节运动：被收割了注意力的我们，都是以消费填补焦虑  2018-11-25   \n",
       "73            《柯南》剧场版里的物联网恐怖袭击，能成真吗？  2018-11-25   \n",
       "74                如果有一天，你失去了自己的个人微信号  2018-11-21   \n",
       "75                      CNN为什么能告赢特朗普  2018-11-21   \n",
       "76                为什么粉丝会热衷于为偶像“造”数据？  2018-11-20   \n",
       "77                   为什么超级英雄选择从事新闻业？  2018-11-18   \n",
       "78             “90后开始失去了”——一个群体童年的消逝  2018-11-16   \n",
       "\n",
       "                                                   链接  \n",
       "72  http://mp.weixin.qq.com/s?__biz=MzI2MzExMTQ3OA...  \n",
       "73  http://mp.weixin.qq.com/s?__biz=MzI2MzExMTQ3OA...  \n",
       "74  http://mp.weixin.qq.com/s?__biz=MzI2MzExMTQ3OA...  \n",
       "75  http://mp.weixin.qq.com/s?__biz=MzI2MzExMTQ3OA...  \n",
       "76  http://mp.weixin.qq.com/s?__biz=MzI2MzExMTQ3OA...  \n",
       "77  http://mp.weixin.qq.com/s?__biz=MzI2MzExMTQ3OA...  \n",
       "78  http://mp.weixin.qq.com/s?__biz=MzI2MzExMTQ3OA...  "
      ]
     },
     "execution_count": 126,
     "metadata": {},
     "output_type": "execute_result"
    }
   ],
   "source": [
    "df_1000条[df_1000条.duplicated()]"
   ]
  },
  {
   "cell_type": "code",
   "execution_count": 85,
   "metadata": {},
   "outputs": [
    {
     "data": {
      "text/html": [
       "<div>\n",
       "<style scoped>\n",
       "    .dataframe tbody tr th:only-of-type {\n",
       "        vertical-align: middle;\n",
       "    }\n",
       "\n",
       "    .dataframe tbody tr th {\n",
       "        vertical-align: top;\n",
       "    }\n",
       "\n",
       "    .dataframe thead th {\n",
       "        text-align: right;\n",
       "    }\n",
       "</style>\n",
       "<table border=\"1\" class=\"dataframe\">\n",
       "  <thead>\n",
       "    <tr style=\"text-align: right;\">\n",
       "      <th></th>\n",
       "      <th>title</th>\n",
       "      <th>create_time</th>\n",
       "      <th>link</th>\n",
       "    </tr>\n",
       "  </thead>\n",
       "  <tbody>\n",
       "    <tr>\n",
       "      <th>0</th>\n",
       "      <td>助你少走弯路！2020Fall美国传播与媒介研究类PhD申请分享</td>\n",
       "      <td>2020-04-10</td>\n",
       "      <td>http://mp.weixin.qq.com/s?__biz=MzI2MzExMTQ3OA...</td>\n",
       "    </tr>\n",
       "    <tr>\n",
       "      <th>1</th>\n",
       "      <td>“云监工”变“云守望” 守护和见证一座城市的复苏</td>\n",
       "      <td>2020-02-16</td>\n",
       "      <td>http://mp.weixin.qq.com/s?__biz=MzI2MzExMTQ3OA...</td>\n",
       "    </tr>\n",
       "    <tr>\n",
       "      <th>2</th>\n",
       "      <td>如果要用八个字总结2019年的互联网，你的答案是什么？</td>\n",
       "      <td>2020-01-07</td>\n",
       "      <td>http://mp.weixin.qq.com/s?__biz=MzI2MzExMTQ3OA...</td>\n",
       "    </tr>\n",
       "    <tr>\n",
       "      <th>3</th>\n",
       "      <td>“央视频”不一young：跨年“遥控器” 打造全国全民大联欢</td>\n",
       "      <td>2020-01-04</td>\n",
       "      <td>http://mp.weixin.qq.com/s?__biz=MzI2MzExMTQ3OA...</td>\n",
       "    </tr>\n",
       "    <tr>\n",
       "      <th>4</th>\n",
       "      <td>回顾与前瞻：新中国成立70年来的新闻传播史研究</td>\n",
       "      <td>2019-10-28</td>\n",
       "      <td>http://mp.weixin.qq.com/s?__biz=MzI2MzExMTQ3OA...</td>\n",
       "    </tr>\n",
       "    <tr>\n",
       "      <th>...</th>\n",
       "      <td>...</td>\n",
       "      <td>...</td>\n",
       "      <td>...</td>\n",
       "    </tr>\n",
       "    <tr>\n",
       "      <th>1270</th>\n",
       "      <td>一句话吐槽2015年度十大烂片</td>\n",
       "      <td>2015-12-21</td>\n",
       "      <td>http://mp.weixin.qq.com/s?__biz=MzI2MzExMTQ3OA...</td>\n",
       "    </tr>\n",
       "    <tr>\n",
       "      <th>1271</th>\n",
       "      <td>2015最佳英美剧盘点，收藏寒假练听力丨附下载资源</td>\n",
       "      <td>2015-12-20</td>\n",
       "      <td>http://mp.weixin.qq.com/s?__biz=MzI2MzExMTQ3OA...</td>\n",
       "    </tr>\n",
       "    <tr>\n",
       "      <th>1272</th>\n",
       "      <td>完整收藏版丨1895年至今，全球电影票房总排行Top50【高清下载版】</td>\n",
       "      <td>2015-12-18</td>\n",
       "      <td>http://mp.weixin.qq.com/s?__biz=MzI2MzExMTQ3OA...</td>\n",
       "    </tr>\n",
       "    <tr>\n",
       "      <th>1273</th>\n",
       "      <td>喂！110吗？我妈朋友圈又发污鸡汤了！！</td>\n",
       "      <td>2015-12-17</td>\n",
       "      <td>http://mp.weixin.qq.com/s?__biz=MzI2MzExMTQ3OA...</td>\n",
       "    </tr>\n",
       "    <tr>\n",
       "      <th>1274</th>\n",
       "      <td>恩，是时候弃剧『芈月传』了！</td>\n",
       "      <td>2015-12-16</td>\n",
       "      <td>http://mp.weixin.qq.com/s?__biz=MzI2MzExMTQ3OA...</td>\n",
       "    </tr>\n",
       "  </tbody>\n",
       "</table>\n",
       "<p>1268 rows × 3 columns</p>\n",
       "</div>"
      ],
      "text/plain": [
       "                                    title create_time  \\\n",
       "0        助你少走弯路！2020Fall美国传播与媒介研究类PhD申请分享  2020-04-10   \n",
       "1                “云监工”变“云守望” 守护和见证一座城市的复苏  2020-02-16   \n",
       "2             如果要用八个字总结2019年的互联网，你的答案是什么？  2020-01-07   \n",
       "3          “央视频”不一young：跨年“遥控器” 打造全国全民大联欢  2020-01-04   \n",
       "4                 回顾与前瞻：新中国成立70年来的新闻传播史研究  2019-10-28   \n",
       "...                                   ...         ...   \n",
       "1270                      一句话吐槽2015年度十大烂片  2015-12-21   \n",
       "1271            2015最佳英美剧盘点，收藏寒假练听力丨附下载资源  2015-12-20   \n",
       "1272  完整收藏版丨1895年至今，全球电影票房总排行Top50【高清下载版】  2015-12-18   \n",
       "1273                 喂！110吗？我妈朋友圈又发污鸡汤了！！  2015-12-17   \n",
       "1274                       恩，是时候弃剧『芈月传』了！  2015-12-16   \n",
       "\n",
       "                                                   link  \n",
       "0     http://mp.weixin.qq.com/s?__biz=MzI2MzExMTQ3OA...  \n",
       "1     http://mp.weixin.qq.com/s?__biz=MzI2MzExMTQ3OA...  \n",
       "2     http://mp.weixin.qq.com/s?__biz=MzI2MzExMTQ3OA...  \n",
       "3     http://mp.weixin.qq.com/s?__biz=MzI2MzExMTQ3OA...  \n",
       "4     http://mp.weixin.qq.com/s?__biz=MzI2MzExMTQ3OA...  \n",
       "...                                                 ...  \n",
       "1270  http://mp.weixin.qq.com/s?__biz=MzI2MzExMTQ3OA...  \n",
       "1271  http://mp.weixin.qq.com/s?__biz=MzI2MzExMTQ3OA...  \n",
       "1272  http://mp.weixin.qq.com/s?__biz=MzI2MzExMTQ3OA...  \n",
       "1273  http://mp.weixin.qq.com/s?__biz=MzI2MzExMTQ3OA...  \n",
       "1274  http://mp.weixin.qq.com/s?__biz=MzI2MzExMTQ3OA...  \n",
       "\n",
       "[1268 rows x 3 columns]"
      ]
     },
     "execution_count": 85,
     "metadata": {},
     "output_type": "execute_result"
    }
   ],
   "source": [
    "df_url_out[~df_url_out.duplicated()]"
   ]
  },
  {
   "cell_type": "code",
   "execution_count": 128,
   "metadata": {},
   "outputs": [
    {
     "data": {
      "text/html": [
       "<div>\n",
       "<style scoped>\n",
       "    .dataframe tbody tr th:only-of-type {\n",
       "        vertical-align: middle;\n",
       "    }\n",
       "\n",
       "    .dataframe tbody tr th {\n",
       "        vertical-align: top;\n",
       "    }\n",
       "\n",
       "    .dataframe thead th {\n",
       "        text-align: right;\n",
       "    }\n",
       "</style>\n",
       "<table border=\"1\" class=\"dataframe\">\n",
       "  <thead>\n",
       "    <tr style=\"text-align: right;\">\n",
       "      <th></th>\n",
       "      <th>标题</th>\n",
       "      <th>发布时间</th>\n",
       "      <th>链接</th>\n",
       "      <th>variable</th>\n",
       "    </tr>\n",
       "  </thead>\n",
       "  <tbody>\n",
       "    <tr>\n",
       "      <th>0</th>\n",
       "      <td>助你少走弯路！2020Fall美国传播与媒介研究类PhD申请分享</td>\n",
       "      <td>2020-04-10</td>\n",
       "      <td>http://mp.weixin.qq.com/s?__biz=MzI2MzExMTQ3OA...</td>\n",
       "      <td>无法分类</td>\n",
       "    </tr>\n",
       "    <tr>\n",
       "      <th>1</th>\n",
       "      <td>“云监工”变“云守望” 守护和见证一座城市的复苏</td>\n",
       "      <td>2020-02-16</td>\n",
       "      <td>http://mp.weixin.qq.com/s?__biz=MzI2MzExMTQ3OA...</td>\n",
       "      <td>无法分类</td>\n",
       "    </tr>\n",
       "    <tr>\n",
       "      <th>2</th>\n",
       "      <td>如果要用八个字总结2019年的互联网，你的答案是什么？</td>\n",
       "      <td>2020-01-07</td>\n",
       "      <td>http://mp.weixin.qq.com/s?__biz=MzI2MzExMTQ3OA...</td>\n",
       "      <td>无法分类</td>\n",
       "    </tr>\n",
       "    <tr>\n",
       "      <th>3</th>\n",
       "      <td>“央视频”不一young：跨年“遥控器” 打造全国全民大联欢</td>\n",
       "      <td>2020-01-04</td>\n",
       "      <td>http://mp.weixin.qq.com/s?__biz=MzI2MzExMTQ3OA...</td>\n",
       "      <td>无法分类</td>\n",
       "    </tr>\n",
       "    <tr>\n",
       "      <th>4</th>\n",
       "      <td>回顾与前瞻：新中国成立70年来的新闻传播史研究</td>\n",
       "      <td>2019-10-28</td>\n",
       "      <td>http://mp.weixin.qq.com/s?__biz=MzI2MzExMTQ3OA...</td>\n",
       "      <td>无法分类</td>\n",
       "    </tr>\n",
       "    <tr>\n",
       "      <th>...</th>\n",
       "      <td>...</td>\n",
       "      <td>...</td>\n",
       "      <td>...</td>\n",
       "      <td>...</td>\n",
       "    </tr>\n",
       "    <tr>\n",
       "      <th>996</th>\n",
       "      <td>考研福利：2016年度热点事件学理性解读（下）</td>\n",
       "      <td>2016-12-23</td>\n",
       "      <td>http://mp.weixin.qq.com/s?__biz=MzI2MzExMTQ3OA...</td>\n",
       "      <td>无法分类</td>\n",
       "    </tr>\n",
       "    <tr>\n",
       "      <th>997</th>\n",
       "      <td>再见，我去考研了！</td>\n",
       "      <td>2016-12-23</td>\n",
       "      <td>http://mp.weixin.qq.com/s?__biz=MzI2MzExMTQ3OA...</td>\n",
       "      <td>无法分类</td>\n",
       "    </tr>\n",
       "    <tr>\n",
       "      <th>998</th>\n",
       "      <td>考研福利：2016年度热点事件学理性解读（上）</td>\n",
       "      <td>2016-12-22</td>\n",
       "      <td>http://mp.weixin.qq.com/s?__biz=MzI2MzExMTQ3OA...</td>\n",
       "      <td>无法分类</td>\n",
       "    </tr>\n",
       "    <tr>\n",
       "      <th>999</th>\n",
       "      <td>雾霾成了中国大众文化的一部分</td>\n",
       "      <td>2016-12-22</td>\n",
       "      <td>http://mp.weixin.qq.com/s?__biz=MzI2MzExMTQ3OA...</td>\n",
       "      <td>无法分类</td>\n",
       "    </tr>\n",
       "    <tr>\n",
       "      <th>1000</th>\n",
       "      <td>11月媒体健康度榜单公布，多元化布局成制胜法宝</td>\n",
       "      <td>2016-12-21</td>\n",
       "      <td>http://mp.weixin.qq.com/s?__biz=MzI2MzExMTQ3OA...</td>\n",
       "      <td>无法分类</td>\n",
       "    </tr>\n",
       "  </tbody>\n",
       "</table>\n",
       "<p>1001 rows × 4 columns</p>\n",
       "</div>"
      ],
      "text/plain": [
       "                                    标题        发布时间  \\\n",
       "0     助你少走弯路！2020Fall美国传播与媒介研究类PhD申请分享  2020-04-10   \n",
       "1             “云监工”变“云守望” 守护和见证一座城市的复苏  2020-02-16   \n",
       "2          如果要用八个字总结2019年的互联网，你的答案是什么？  2020-01-07   \n",
       "3       “央视频”不一young：跨年“遥控器” 打造全国全民大联欢  2020-01-04   \n",
       "4              回顾与前瞻：新中国成立70年来的新闻传播史研究  2019-10-28   \n",
       "...                                ...         ...   \n",
       "996            考研福利：2016年度热点事件学理性解读（下）  2016-12-23   \n",
       "997                          再见，我去考研了！  2016-12-23   \n",
       "998            考研福利：2016年度热点事件学理性解读（上）  2016-12-22   \n",
       "999                     雾霾成了中国大众文化的一部分  2016-12-22   \n",
       "1000           11月媒体健康度榜单公布，多元化布局成制胜法宝  2016-12-21   \n",
       "\n",
       "                                                     链接 variable  \n",
       "0     http://mp.weixin.qq.com/s?__biz=MzI2MzExMTQ3OA...     无法分类  \n",
       "1     http://mp.weixin.qq.com/s?__biz=MzI2MzExMTQ3OA...     无法分类  \n",
       "2     http://mp.weixin.qq.com/s?__biz=MzI2MzExMTQ3OA...     无法分类  \n",
       "3     http://mp.weixin.qq.com/s?__biz=MzI2MzExMTQ3OA...     无法分类  \n",
       "4     http://mp.weixin.qq.com/s?__biz=MzI2MzExMTQ3OA...     无法分类  \n",
       "...                                                 ...      ...  \n",
       "996   http://mp.weixin.qq.com/s?__biz=MzI2MzExMTQ3OA...     无法分类  \n",
       "997   http://mp.weixin.qq.com/s?__biz=MzI2MzExMTQ3OA...     无法分类  \n",
       "998   http://mp.weixin.qq.com/s?__biz=MzI2MzExMTQ3OA...     无法分类  \n",
       "999   http://mp.weixin.qq.com/s?__biz=MzI2MzExMTQ3OA...     无法分类  \n",
       "1000  http://mp.weixin.qq.com/s?__biz=MzI2MzExMTQ3OA...     无法分类  \n",
       "\n",
       "[1001 rows x 4 columns]"
      ]
     },
     "execution_count": 128,
     "metadata": {},
     "output_type": "execute_result"
    }
   ],
   "source": [
    "df_前1000章分类 = df_1000条.loc[0:1000].join(df_cat).replace(\"\", np.nan).fillna(\"无法分类\")\n",
    "df_前1000章分类 "
   ]
  },
  {
   "cell_type": "code",
   "execution_count": 129,
   "metadata": {},
   "outputs": [
    {
     "data": {
      "text/html": [
       "<div>\n",
       "<style scoped>\n",
       "    .dataframe tbody tr th:only-of-type {\n",
       "        vertical-align: middle;\n",
       "    }\n",
       "\n",
       "    .dataframe tbody tr th {\n",
       "        vertical-align: top;\n",
       "    }\n",
       "\n",
       "    .dataframe thead th {\n",
       "        text-align: right;\n",
       "    }\n",
       "</style>\n",
       "<table border=\"1\" class=\"dataframe\">\n",
       "  <thead>\n",
       "    <tr style=\"text-align: right;\">\n",
       "      <th></th>\n",
       "      <th>标题</th>\n",
       "      <th>发布时间</th>\n",
       "      <th>链接</th>\n",
       "      <th>variable</th>\n",
       "    </tr>\n",
       "  </thead>\n",
       "  <tbody>\n",
       "    <tr>\n",
       "      <th>88</th>\n",
       "      <td>那些称霸新媒体行业的旧媒体人</td>\n",
       "      <td>2018-11-03</td>\n",
       "      <td>http://mp.weixin.qq.com/s?__biz=MzI2MzExMTQ3OA...</td>\n",
       "      <td>新媒体</td>\n",
       "    </tr>\n",
       "    <tr>\n",
       "      <th>147</th>\n",
       "      <td>下半年，新媒体人最全求职攻略</td>\n",
       "      <td>2018-09-05</td>\n",
       "      <td>http://mp.weixin.qq.com/s?__biz=MzI2MzExMTQ3OA...</td>\n",
       "      <td>新媒体</td>\n",
       "    </tr>\n",
       "    <tr>\n",
       "      <th>204</th>\n",
       "      <td>新媒体人：20岁的年纪，40岁的颈椎</td>\n",
       "      <td>2018-07-20</td>\n",
       "      <td>http://mp.weixin.qq.com/s?__biz=MzI2MzExMTQ3OA...</td>\n",
       "      <td>新媒体</td>\n",
       "    </tr>\n",
       "    <tr>\n",
       "      <th>225</th>\n",
       "      <td>新媒体人的一天，哈哈哈哈哈哈哈哈哈</td>\n",
       "      <td>2018-07-06</td>\n",
       "      <td>http://mp.weixin.qq.com/s?__biz=MzI2MzExMTQ3OA...</td>\n",
       "      <td>新媒体</td>\n",
       "    </tr>\n",
       "    <tr>\n",
       "      <th>292</th>\n",
       "      <td>【征集】第七届“新媒体与全球信息社会的公正传播”学术研究营</td>\n",
       "      <td>2018-05-02</td>\n",
       "      <td>http://mp.weixin.qq.com/s?__biz=MzI2MzExMTQ3OA...</td>\n",
       "      <td>新媒体</td>\n",
       "    </tr>\n",
       "    <tr>\n",
       "      <th>301</th>\n",
       "      <td>如何斩获心仪的新媒体offer，大厂工作法你需要了解一下</td>\n",
       "      <td>2018-04-18</td>\n",
       "      <td>http://mp.weixin.qq.com/s?__biz=MzI2MzExMTQ3OA...</td>\n",
       "      <td>新媒体</td>\n",
       "    </tr>\n",
       "    <tr>\n",
       "      <th>363</th>\n",
       "      <td>微博热搜消失的第三天，新媒体人去哪儿追热点？</td>\n",
       "      <td>2018-01-30</td>\n",
       "      <td>http://mp.weixin.qq.com/s?__biz=MzI2MzExMTQ3OA...</td>\n",
       "      <td>新媒体</td>\n",
       "    </tr>\n",
       "    <tr>\n",
       "      <th>372</th>\n",
       "      <td>2017新媒体圈里那些轰轰烈烈的大事件</td>\n",
       "      <td>2018-01-18</td>\n",
       "      <td>http://mp.weixin.qq.com/s?__biz=MzI2MzExMTQ3OA...</td>\n",
       "      <td>新媒体</td>\n",
       "    </tr>\n",
       "    <tr>\n",
       "      <th>377</th>\n",
       "      <td>严峻的2018，新媒体有这四个系统性风险</td>\n",
       "      <td>2018-01-14</td>\n",
       "      <td>http://mp.weixin.qq.com/s?__biz=MzI2MzExMTQ3OA...</td>\n",
       "      <td>新媒体</td>\n",
       "    </tr>\n",
       "    <tr>\n",
       "      <th>415</th>\n",
       "      <td>2017-2018新媒体发展60大观察</td>\n",
       "      <td>2017-12-14</td>\n",
       "      <td>http://mp.weixin.qq.com/s?__biz=MzI2MzExMTQ3OA...</td>\n",
       "      <td>新媒体</td>\n",
       "    </tr>\n",
       "    <tr>\n",
       "      <th>425</th>\n",
       "      <td>重磅!《新媒体环境下调查记者行业生态变化报告》完整版</td>\n",
       "      <td>2017-12-05</td>\n",
       "      <td>http://mp.weixin.qq.com/s?__biz=MzI2MzExMTQ3OA...</td>\n",
       "      <td>新媒体</td>\n",
       "    </tr>\n",
       "    <tr>\n",
       "      <th>442</th>\n",
       "      <td>干货速读｜68页的2017中国新媒体趋势报告讲了这六个字</td>\n",
       "      <td>2017-11-21</td>\n",
       "      <td>http://mp.weixin.qq.com/s?__biz=MzI2MzExMTQ3OA...</td>\n",
       "      <td>新媒体</td>\n",
       "    </tr>\n",
       "    <tr>\n",
       "      <th>443</th>\n",
       "      <td>不重视用户关系，新媒体也会像传统媒体一样失宠</td>\n",
       "      <td>2017-11-21</td>\n",
       "      <td>http://mp.weixin.qq.com/s?__biz=MzI2MzExMTQ3OA...</td>\n",
       "      <td>新媒体</td>\n",
       "    </tr>\n",
       "    <tr>\n",
       "      <th>467</th>\n",
       "      <td>你以为你在追热点，其实不过是“被套路”的新媒体营销</td>\n",
       "      <td>2017-11-03</td>\n",
       "      <td>http://mp.weixin.qq.com/s?__biz=MzI2MzExMTQ3OA...</td>\n",
       "      <td>新媒体</td>\n",
       "    </tr>\n",
       "    <tr>\n",
       "      <th>473</th>\n",
       "      <td>你这气质，一看就是搞新媒体的</td>\n",
       "      <td>2017-10-31</td>\n",
       "      <td>http://mp.weixin.qq.com/s?__biz=MzI2MzExMTQ3OA...</td>\n",
       "      <td>新媒体</td>\n",
       "    </tr>\n",
       "    <tr>\n",
       "      <th>477</th>\n",
       "      <td>民国新媒体怎么做10万+？感觉历史好像轮回了</td>\n",
       "      <td>2017-10-28</td>\n",
       "      <td>http://mp.weixin.qq.com/s?__biz=MzI2MzExMTQ3OA...</td>\n",
       "      <td>新媒体</td>\n",
       "    </tr>\n",
       "    <tr>\n",
       "      <th>525</th>\n",
       "      <td>新媒体女友和普通女友的10大区别</td>\n",
       "      <td>2017-09-19</td>\n",
       "      <td>http://mp.weixin.qq.com/s?__biz=MzI2MzExMTQ3OA...</td>\n",
       "      <td>新媒体</td>\n",
       "    </tr>\n",
       "    <tr>\n",
       "      <th>532</th>\n",
       "      <td>干了2年新媒体，一篇10W+没写出，行业秘密挖了一大堆</td>\n",
       "      <td>2017-09-13</td>\n",
       "      <td>http://mp.weixin.qq.com/s?__biz=MzI2MzExMTQ3OA...</td>\n",
       "      <td>新媒体</td>\n",
       "    </tr>\n",
       "    <tr>\n",
       "      <th>559</th>\n",
       "      <td>未来5年，拥有这4大能力的新媒体人，怎么都不会被淘汰！</td>\n",
       "      <td>2017-08-24</td>\n",
       "      <td>http://mp.weixin.qq.com/s?__biz=MzI2MzExMTQ3OA...</td>\n",
       "      <td>新媒体</td>\n",
       "    </tr>\n",
       "    <tr>\n",
       "      <th>595</th>\n",
       "      <td>首届中国企业新媒体峰会开始报名啦！海尔、网易都会来</td>\n",
       "      <td>2017-08-02</td>\n",
       "      <td>http://mp.weixin.qq.com/s?__biz=MzI2MzExMTQ3OA...</td>\n",
       "      <td>新媒体</td>\n",
       "    </tr>\n",
       "    <tr>\n",
       "      <th>613</th>\n",
       "      <td>新媒体小白如何运营一个公众号？</td>\n",
       "      <td>2017-07-20</td>\n",
       "      <td>http://mp.weixin.qq.com/s?__biz=MzI2MzExMTQ3OA...</td>\n",
       "      <td>新媒体</td>\n",
       "    </tr>\n",
       "    <tr>\n",
       "      <th>617</th>\n",
       "      <td>新媒体行话大揭秘：痛点有多痛？头部是谁的头？调性是什么性？</td>\n",
       "      <td>2017-07-17</td>\n",
       "      <td>http://mp.weixin.qq.com/s?__biz=MzI2MzExMTQ3OA...</td>\n",
       "      <td>新媒体</td>\n",
       "    </tr>\n",
       "    <tr>\n",
       "      <th>621</th>\n",
       "      <td>招生 | 第六届“新媒体与全球信息社会的公正传播”学术研究营</td>\n",
       "      <td>2017-07-15</td>\n",
       "      <td>http://mp.weixin.qq.com/s?__biz=MzI2MzExMTQ3OA...</td>\n",
       "      <td>新媒体</td>\n",
       "    </tr>\n",
       "    <tr>\n",
       "      <th>644</th>\n",
       "      <td>宁可6千招编辑，不愿1万招主笔？应聘新媒体难在哪儿？如何更快获得offer？</td>\n",
       "      <td>2017-07-05</td>\n",
       "      <td>http://mp.weixin.qq.com/s?__biz=MzI2MzExMTQ3OA...</td>\n",
       "      <td>新媒体</td>\n",
       "    </tr>\n",
       "    <tr>\n",
       "      <th>647</th>\n",
       "      <td>迷茫、打杂、平庸、缺乏自制力，像我这样的新媒体，还有救吗？</td>\n",
       "      <td>2017-07-03</td>\n",
       "      <td>http://mp.weixin.qq.com/s?__biz=MzI2MzExMTQ3OA...</td>\n",
       "      <td>新媒体</td>\n",
       "    </tr>\n",
       "    <tr>\n",
       "      <th>679</th>\n",
       "      <td>雪崩了，广电人还在温水煮青蛙？！靠新媒体求生还来得及吗？（4600字一手调研报告）</td>\n",
       "      <td>2017-06-15</td>\n",
       "      <td>http://mp.weixin.qq.com/s?__biz=MzI2MzExMTQ3OA...</td>\n",
       "      <td>新媒体</td>\n",
       "    </tr>\n",
       "    <tr>\n",
       "      <th>699</th>\n",
       "      <td>考研关键词：新媒体舆论场、VR新闻与广播创新路径</td>\n",
       "      <td>2017-06-04</td>\n",
       "      <td>http://mp.weixin.qq.com/s?__biz=MzI2MzExMTQ3OA...</td>\n",
       "      <td>新媒体</td>\n",
       "    </tr>\n",
       "    <tr>\n",
       "      <th>745</th>\n",
       "      <td>误删万字长文，凌晨哭着重写…｜42个新媒体人的最惨故事</td>\n",
       "      <td>2017-05-08</td>\n",
       "      <td>http://mp.weixin.qq.com/s?__biz=MzI2MzExMTQ3OA...</td>\n",
       "      <td>新媒体</td>\n",
       "    </tr>\n",
       "    <tr>\n",
       "      <th>776</th>\n",
       "      <td>《人民的名义》里哪位官员的新媒体意识最差？</td>\n",
       "      <td>2017-04-19</td>\n",
       "      <td>http://mp.weixin.qq.com/s?__biz=MzI2MzExMTQ3OA...</td>\n",
       "      <td>新媒体</td>\n",
       "    </tr>\n",
       "    <tr>\n",
       "      <th>777</th>\n",
       "      <td>好标题≠标题党，学会这5招，你也能打造刷爆朋友圈的新媒体标题</td>\n",
       "      <td>2017-04-19</td>\n",
       "      <td>http://mp.weixin.qq.com/s?__biz=MzI2MzExMTQ3OA...</td>\n",
       "      <td>新媒体</td>\n",
       "    </tr>\n",
       "    <tr>\n",
       "      <th>839</th>\n",
       "      <td>第二届政务新媒体高峰论坛邀请函</td>\n",
       "      <td>2017-03-20</td>\n",
       "      <td>http://mp.weixin.qq.com/s?__biz=MzI2MzExMTQ3OA...</td>\n",
       "      <td>新媒体</td>\n",
       "    </tr>\n",
       "    <tr>\n",
       "      <th>850</th>\n",
       "      <td>怒怼首富王健林，力压官微霸主杜蕾斯...海尔新媒体为什么这么火？</td>\n",
       "      <td>2017-03-14</td>\n",
       "      <td>http://mp.weixin.qq.com/s?__biz=MzI2MzExMTQ3OA...</td>\n",
       "      <td>新媒体</td>\n",
       "    </tr>\n",
       "    <tr>\n",
       "      <th>954</th>\n",
       "      <td>为什么还有人在批判新媒体时代的“娱乐至死”？</td>\n",
       "      <td>2017-01-17</td>\n",
       "      <td>http://mp.weixin.qq.com/s?__biz=MzI2MzExMTQ3OA...</td>\n",
       "      <td>新媒体</td>\n",
       "    </tr>\n",
       "    <tr>\n",
       "      <th>955</th>\n",
       "      <td>为什么还有人在批判新媒体时代的“娱乐至死”？</td>\n",
       "      <td>2017-01-17</td>\n",
       "      <td>http://mp.weixin.qq.com/s?__biz=MzI2MzExMTQ3OA...</td>\n",
       "      <td>新媒体</td>\n",
       "    </tr>\n",
       "    <tr>\n",
       "      <th>977</th>\n",
       "      <td>不要再叫Ta“传统媒体”啦！人家是有纸质版的新媒体！</td>\n",
       "      <td>2017-01-04</td>\n",
       "      <td>http://mp.weixin.qq.com/s?__biz=MzI2MzExMTQ3OA...</td>\n",
       "      <td>新媒体</td>\n",
       "    </tr>\n",
       "  </tbody>\n",
       "</table>\n",
       "</div>"
      ],
      "text/plain": [
       "                                            标题        发布时间  \\\n",
       "88                              那些称霸新媒体行业的旧媒体人  2018-11-03   \n",
       "147                             下半年，新媒体人最全求职攻略  2018-09-05   \n",
       "204                         新媒体人：20岁的年纪，40岁的颈椎  2018-07-20   \n",
       "225                          新媒体人的一天，哈哈哈哈哈哈哈哈哈  2018-07-06   \n",
       "292              【征集】第七届“新媒体与全球信息社会的公正传播”学术研究营  2018-05-02   \n",
       "301               如何斩获心仪的新媒体offer，大厂工作法你需要了解一下  2018-04-18   \n",
       "363                     微博热搜消失的第三天，新媒体人去哪儿追热点？  2018-01-30   \n",
       "372                        2017新媒体圈里那些轰轰烈烈的大事件  2018-01-18   \n",
       "377                       严峻的2018，新媒体有这四个系统性风险  2018-01-14   \n",
       "415                        2017-2018新媒体发展60大观察  2017-12-14   \n",
       "425                 重磅!《新媒体环境下调查记者行业生态变化报告》完整版  2017-12-05   \n",
       "442               干货速读｜68页的2017中国新媒体趋势报告讲了这六个字  2017-11-21   \n",
       "443                     不重视用户关系，新媒体也会像传统媒体一样失宠  2017-11-21   \n",
       "467                  你以为你在追热点，其实不过是“被套路”的新媒体营销  2017-11-03   \n",
       "473                             你这气质，一看就是搞新媒体的  2017-10-31   \n",
       "477                     民国新媒体怎么做10万+？感觉历史好像轮回了  2017-10-28   \n",
       "525                           新媒体女友和普通女友的10大区别  2017-09-19   \n",
       "532                干了2年新媒体，一篇10W+没写出，行业秘密挖了一大堆  2017-09-13   \n",
       "559                未来5年，拥有这4大能力的新媒体人，怎么都不会被淘汰！  2017-08-24   \n",
       "595                  首届中国企业新媒体峰会开始报名啦！海尔、网易都会来  2017-08-02   \n",
       "613                            新媒体小白如何运营一个公众号？  2017-07-20   \n",
       "617              新媒体行话大揭秘：痛点有多痛？头部是谁的头？调性是什么性？  2017-07-17   \n",
       "621             招生 | 第六届“新媒体与全球信息社会的公正传播”学术研究营  2017-07-15   \n",
       "644     宁可6千招编辑，不愿1万招主笔？应聘新媒体难在哪儿？如何更快获得offer？  2017-07-05   \n",
       "647              迷茫、打杂、平庸、缺乏自制力，像我这样的新媒体，还有救吗？  2017-07-03   \n",
       "679  雪崩了，广电人还在温水煮青蛙？！靠新媒体求生还来得及吗？（4600字一手调研报告）  2017-06-15   \n",
       "699                   考研关键词：新媒体舆论场、VR新闻与广播创新路径  2017-06-04   \n",
       "745                误删万字长文，凌晨哭着重写…｜42个新媒体人的最惨故事  2017-05-08   \n",
       "776                      《人民的名义》里哪位官员的新媒体意识最差？  2017-04-19   \n",
       "777             好标题≠标题党，学会这5招，你也能打造刷爆朋友圈的新媒体标题  2017-04-19   \n",
       "839                            第二届政务新媒体高峰论坛邀请函  2017-03-20   \n",
       "850           怒怼首富王健林，力压官微霸主杜蕾斯...海尔新媒体为什么这么火？  2017-03-14   \n",
       "954                     为什么还有人在批判新媒体时代的“娱乐至死”？  2017-01-17   \n",
       "955                     为什么还有人在批判新媒体时代的“娱乐至死”？  2017-01-17   \n",
       "977                 不要再叫Ta“传统媒体”啦！人家是有纸质版的新媒体！  2017-01-04   \n",
       "\n",
       "                                                    链接 variable  \n",
       "88   http://mp.weixin.qq.com/s?__biz=MzI2MzExMTQ3OA...      新媒体  \n",
       "147  http://mp.weixin.qq.com/s?__biz=MzI2MzExMTQ3OA...      新媒体  \n",
       "204  http://mp.weixin.qq.com/s?__biz=MzI2MzExMTQ3OA...      新媒体  \n",
       "225  http://mp.weixin.qq.com/s?__biz=MzI2MzExMTQ3OA...      新媒体  \n",
       "292  http://mp.weixin.qq.com/s?__biz=MzI2MzExMTQ3OA...      新媒体  \n",
       "301  http://mp.weixin.qq.com/s?__biz=MzI2MzExMTQ3OA...      新媒体  \n",
       "363  http://mp.weixin.qq.com/s?__biz=MzI2MzExMTQ3OA...      新媒体  \n",
       "372  http://mp.weixin.qq.com/s?__biz=MzI2MzExMTQ3OA...      新媒体  \n",
       "377  http://mp.weixin.qq.com/s?__biz=MzI2MzExMTQ3OA...      新媒体  \n",
       "415  http://mp.weixin.qq.com/s?__biz=MzI2MzExMTQ3OA...      新媒体  \n",
       "425  http://mp.weixin.qq.com/s?__biz=MzI2MzExMTQ3OA...      新媒体  \n",
       "442  http://mp.weixin.qq.com/s?__biz=MzI2MzExMTQ3OA...      新媒体  \n",
       "443  http://mp.weixin.qq.com/s?__biz=MzI2MzExMTQ3OA...      新媒体  \n",
       "467  http://mp.weixin.qq.com/s?__biz=MzI2MzExMTQ3OA...      新媒体  \n",
       "473  http://mp.weixin.qq.com/s?__biz=MzI2MzExMTQ3OA...      新媒体  \n",
       "477  http://mp.weixin.qq.com/s?__biz=MzI2MzExMTQ3OA...      新媒体  \n",
       "525  http://mp.weixin.qq.com/s?__biz=MzI2MzExMTQ3OA...      新媒体  \n",
       "532  http://mp.weixin.qq.com/s?__biz=MzI2MzExMTQ3OA...      新媒体  \n",
       "559  http://mp.weixin.qq.com/s?__biz=MzI2MzExMTQ3OA...      新媒体  \n",
       "595  http://mp.weixin.qq.com/s?__biz=MzI2MzExMTQ3OA...      新媒体  \n",
       "613  http://mp.weixin.qq.com/s?__biz=MzI2MzExMTQ3OA...      新媒体  \n",
       "617  http://mp.weixin.qq.com/s?__biz=MzI2MzExMTQ3OA...      新媒体  \n",
       "621  http://mp.weixin.qq.com/s?__biz=MzI2MzExMTQ3OA...      新媒体  \n",
       "644  http://mp.weixin.qq.com/s?__biz=MzI2MzExMTQ3OA...      新媒体  \n",
       "647  http://mp.weixin.qq.com/s?__biz=MzI2MzExMTQ3OA...      新媒体  \n",
       "679  http://mp.weixin.qq.com/s?__biz=MzI2MzExMTQ3OA...      新媒体  \n",
       "699  http://mp.weixin.qq.com/s?__biz=MzI2MzExMTQ3OA...      新媒体  \n",
       "745  http://mp.weixin.qq.com/s?__biz=MzI2MzExMTQ3OA...      新媒体  \n",
       "776  http://mp.weixin.qq.com/s?__biz=MzI2MzExMTQ3OA...      新媒体  \n",
       "777  http://mp.weixin.qq.com/s?__biz=MzI2MzExMTQ3OA...      新媒体  \n",
       "839  http://mp.weixin.qq.com/s?__biz=MzI2MzExMTQ3OA...      新媒体  \n",
       "850  http://mp.weixin.qq.com/s?__biz=MzI2MzExMTQ3OA...      新媒体  \n",
       "954  http://mp.weixin.qq.com/s?__biz=MzI2MzExMTQ3OA...      新媒体  \n",
       "955  http://mp.weixin.qq.com/s?__biz=MzI2MzExMTQ3OA...      新媒体  \n",
       "977  http://mp.weixin.qq.com/s?__biz=MzI2MzExMTQ3OA...      新媒体  "
      ]
     },
     "execution_count": 129,
     "metadata": {},
     "output_type": "execute_result"
    }
   ],
   "source": [
    "df_前1000章分类 [df_1000条.loc[0:1000].标题.str.contains(\"新媒体\")]"
   ]
  },
  {
   "cell_type": "code",
   "execution_count": 130,
   "metadata": {},
   "outputs": [
    {
     "data": {
      "text/html": [
       "<div>\n",
       "<style scoped>\n",
       "    .dataframe tbody tr th:only-of-type {\n",
       "        vertical-align: middle;\n",
       "    }\n",
       "\n",
       "    .dataframe tbody tr th {\n",
       "        vertical-align: top;\n",
       "    }\n",
       "\n",
       "    .dataframe thead th {\n",
       "        text-align: right;\n",
       "    }\n",
       "</style>\n",
       "<table border=\"1\" class=\"dataframe\">\n",
       "  <thead>\n",
       "    <tr style=\"text-align: right;\">\n",
       "      <th></th>\n",
       "      <th>标题</th>\n",
       "    </tr>\n",
       "    <tr>\n",
       "      <th>variable</th>\n",
       "      <th></th>\n",
       "    </tr>\n",
       "  </thead>\n",
       "  <tbody>\n",
       "    <tr>\n",
       "      <th>无法分类</th>\n",
       "      <td>966</td>\n",
       "    </tr>\n",
       "    <tr>\n",
       "      <th>新媒体</th>\n",
       "      <td>35</td>\n",
       "    </tr>\n",
       "  </tbody>\n",
       "</table>\n",
       "</div>"
      ],
      "text/plain": [
       "           标题\n",
       "variable     \n",
       "无法分类      966\n",
       "新媒体        35"
      ]
     },
     "execution_count": 130,
     "metadata": {},
     "output_type": "execute_result"
    }
   ],
   "source": [
    "df_无法分类和新媒体分类 = df_前1000章分类.groupby(by=\"variable\").agg({\"标题\":\"count\"}).sort_values(by=\"标题\", ascending=False)\n",
    "df_无法分类和新媒体分类"
   ]
  },
  {
   "cell_type": "code",
   "execution_count": 133,
   "metadata": {},
   "outputs": [],
   "source": [
    "df_无法分类和新媒体分类.to_excel(\"前1000章_传媒志_无法分类和新媒体分类_结果.xlsx\",\\\n",
    "                sheet_name=\"传媒志新媒体分类结果\")"
   ]
  },
  {
   "cell_type": "code",
   "execution_count": 134,
   "metadata": {},
   "outputs": [],
   "source": [
    "df_前1000章分类 [df_1000条.loc[0:1000].标题.str.contains(\"新媒体\")].to_excel(\"前1000章_传媒志_新媒体分类_结果.xlsx\",\\\n",
    "                sheet_name=\"传媒志新媒体分类结果\")"
   ]
  },
  {
   "cell_type": "code",
   "execution_count": 136,
   "metadata": {},
   "outputs": [],
   "source": [
    "    with pd.ExcelWriter(r'C:\\Users\\win10\\Desktop\\data\\前1000章整合.xls') as writer:\n",
    "        df_1000条.loc[0:1000].to_excel(writer, sheet_name='传媒志结果')        \n",
    "        df_无法分类和新媒体分类.to_excel(writer, sheet_name='传媒志新媒体与无法分类结果')\n",
    "        df_前1000章分类[df_1000条.loc[0:1000].标题.str.contains(\"新媒体\")].to_excel(writer, sheet_name='传媒志新媒体分类结果')\n",
    "    \n",
    "  "
   ]
  },
  {
   "cell_type": "markdown",
   "metadata": {},
   "source": [
    "## 输出"
   ]
  },
  {
   "cell_type": "code",
   "execution_count": 95,
   "metadata": {},
   "outputs": [],
   "source": [
    "df_account.columns.name = \"rel_accounts\"\n",
    "df_o.columns.name = \"url_cat\"\n",
    "df_stats.columns.name = \"stats\"\n"
   ]
  },
  {
   "cell_type": "code",
   "execution_count": 96,
   "metadata": {},
   "outputs": [
    {
     "data": {
      "text/plain": [
       "'rel_accounts'"
      ]
     },
     "execution_count": 96,
     "metadata": {},
     "output_type": "execute_result"
    }
   ],
   "source": [
    "_df_.columns.name"
   ]
  },
  {
   "cell_type": "code",
   "execution_count": 46,
   "metadata": {},
   "outputs": [],
   "source": [
    "# Get the xlsxwriter workbook and worksheet objects.  \n",
    "with pd.ExcelWriter(fn[\"output\"][\"公众号_xlsx\"].format(公众号=公众号)) as writer:\n",
    "    workbook  = writer.book\n",
    "\n",
    "    for _df_ in [df_account]:\n",
    "        _df_.to_excel(writer, sheet_name = _df_.columns.name)\n"
   ]
  },
  {
   "cell_type": "code",
   "execution_count": null,
   "metadata": {},
   "outputs": [],
   "source": []
  }
 ],
 "metadata": {
  "kernelspec": {
   "display_name": "Python 3",
   "language": "python",
   "name": "python3"
  },
  "language_info": {
   "codemirror_mode": {
    "name": "ipython",
    "version": 3
   },
   "file_extension": ".py",
   "mimetype": "text/x-python",
   "name": "python",
   "nbconvert_exporter": "python",
   "pygments_lexer": "ipython3",
   "version": "3.7.3"
  },
  "toc": {
   "base_numbering": 1,
   "nav_menu": {},
   "number_sections": true,
   "sideBar": true,
   "skip_h1_title": false,
   "title_cell": "Table of Contents",
   "title_sidebar": "Contents",
   "toc_cell": false,
   "toc_position": {},
   "toc_section_display": true,
   "toc_window_display": true
  }
 },
 "nbformat": 4,
 "nbformat_minor": 4
}
