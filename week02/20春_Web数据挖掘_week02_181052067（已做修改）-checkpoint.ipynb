{
 "cells": [
  {
   "cell_type": "markdown",
   "metadata": {},
   "source": [
    "# HTML解析简介\n",
    "\n",
    "*  本周主要内容：HTML解析（parse HTML）及Xpath实践\n",
    "*  20春_Web数据挖掘_week02\n",
    "*  电子讲义原设计者：廖汉腾, 许智超\n",
    "*  电子讲义练习改写者：XXX\n",
    "  * 本周电子讲义互评工作坊，依序做以下动作：\n",
    "     * 在e.nfu.edu.cn下载此文档\n",
    "     * 在自己本地端实操，把ipynb文档中的123456789改名为学号\n",
    "     * <mark>在还没有改动之前，先把此后缀为学号ipynb文档上传至Github为第一版</mark> (其它文档不计)\n",
    "     * 在自己本地端实操，练习所有内容，按需增减本讲义内容，含代码丶markdown丶新数据(含其连结)及\n",
    "     * 及格至少要做: <mark>**\"本周小结内容\" 以markdown语法，按上课及本电子讲义补充内容进行150-500字的摘要说明**</mark>，可利用HTML文内超连结连到同文档其他的笔记内容\n",
    "     * 互评时会要求提交自己文档的改动比较，以方便同学观看你的改动范围及内容\n",
    "  * 本周加分项，以抢快为主，<mark>1人最多只能抢1项</mark>，需以指定的url进行数据挖掘并输出excel，抢快时间<mark>首先</mark>以该代码在Github的提交时间为准，若两人Github提交时间相差不到3分钟，则以<mark>再以</mark>QQ群@老师时间为判断\n",
    "      * C-3 期末总分加1\n",
    "      * C-4 期末总分加2\n",
    "      * C-5 期末总分加5\n",
    "-----\n",
    "![for humans](https://requests-html.kennethreitz.org/_static/requests-html-logo.png)\n",
    "\n",
    "## 复习\n",
    "\n",
    "复习：上周内容，总观使用\n",
    "\n",
    "* requests-html  丶\n",
    "* pd.read_html 丶及\n",
    "* requests + lxml \n",
    "\n",
    "的Web数据挖掘内容，最主要包括以下前后的主要数据挖掘内容\n",
    "\n",
    "1. 使用 HTTP 发送请求（HTTP request）\n",
    "2. 判断 HTTP 及状态（HTTP status code） 及 HTTP 响应（HTTP response）是否正常\n",
    "3. 执行 HTML 解析（parse HTML），通常使用 xpath or CSS selector 选择器\n",
    "\n",
    "<br/>\n",
    "<br/>\n",
    "\n",
    "-----\n",
    "![Xpath Axis](http://krum.rz.uni-mannheim.de/inet-2005/images/xpath-axis.gif)\n",
    "\n",
    "\n",
    "## 本周内容及学习目标\n",
    "\n",
    "本周内容聚焦在第3.部分\n",
    "挑选比较容易Web数据挖掘的网页（i.e. 比较没有以上1. 及2. 的坑），学习解决以下挑战：\n",
    "\n",
    "1. 使用 requests-html 爬取并存取网页文字档，查找[requests-html 中文文档](https://cncert.github.io/requests-html-doc-cn/#/)\n",
    "2. 熟悉 [xpath 语法](https://www.w3cschool.cn/xpath/xpath-syntax.html)丶[xpath 节点](https://www.w3cschool.cn/xpath/xpath-nodes.html)\n",
    "3. 使用 [xpath cheatsheet](https://devhints.io/xpath)\n",
    "  * 在 Chrome Inspector 使用\n",
    "  * 在 requests-html (Python) 使用\n",
    "4. 简易使用 [pd.DataFrame]()\n",
    "\n",
    "学生将实践\n",
    "* 解析简单HTML页面\n",
    "* 使用xpath（不挑greedy vs. 及挑剔ungreedy的策略）\n",
    "* 获取标签tags丶属性attributes丶值values"
   ]
  },
  {
   "cell_type": "code",
   "execution_count": 1,
   "metadata": {},
   "outputs": [
    {
     "data": {
      "text/html": [
       "<style>\n",
       "/* 本电子讲义使用之CSS */\n",
       "div.code_cell {\n",
       "    background-color: #e5f1fe;\n",
       "}\n",
       "div.cell.selected {\n",
       "    background-color: #effee2;\n",
       "    font-size: 2rem;\n",
       "    line-height: 2.4rem;\n",
       "}\n",
       "div.cell.selected .rendered_html table {\n",
       "    font-size: 2rem !important;\n",
       "    line-height: 2.4rem !important;\n",
       "}\n",
       ".rendered_html pre code {\n",
       "    background-color: #C4E4ff;   \n",
       "    padding: 2px 25px;\n",
       "}\n",
       ".rendered_html pre {\n",
       "    background-color: #99c9ff;\n",
       "}\n",
       "div.code_cell .CodeMirror {\n",
       "    font-size: 2rem !important;\n",
       "    line-height: 2.4rem !important;\n",
       "}\n",
       ".rendered_html img, .rendered_html svg {\n",
       "    max-width: 35%;\n",
       "    height: auto;\n",
       "    float: right;\n",
       "}\n",
       "/* Gradient transparent - color - transparent */\n",
       "hr {\n",
       "    border: 0;\n",
       "    border-bottom: 1px dashed #ccc;\n",
       "}\n",
       ".emoticon{\n",
       "    font-size: 5rem;\n",
       "    line-height: 4.4rem;\n",
       "    text-align: center;\n",
       "    vertical-align: middle;\n",
       "}\n",
       "</style>\n"
      ],
      "text/plain": [
       "<IPython.core.display.HTML object>"
      ]
     },
     "metadata": {},
     "output_type": "display_data"
    }
   ],
   "source": [
    "%%html\n",
    "<style>\n",
    "/* 本电子讲义使用之CSS */\n",
    "div.code_cell {\n",
    "    background-color: #e5f1fe;\n",
    "}\n",
    "div.cell.selected {\n",
    "    background-color: #effee2;\n",
    "    font-size: 2rem;\n",
    "    line-height: 2.4rem;\n",
    "}\n",
    "div.cell.selected .rendered_html table {\n",
    "    font-size: 2rem !important;\n",
    "    line-height: 2.4rem !important;\n",
    "}\n",
    ".rendered_html pre code {\n",
    "    background-color: #C4E4ff;   \n",
    "    padding: 2px 25px;\n",
    "}\n",
    ".rendered_html pre {\n",
    "    background-color: #99c9ff;\n",
    "}\n",
    "div.code_cell .CodeMirror {\n",
    "    font-size: 2rem !important;\n",
    "    line-height: 2.4rem !important;\n",
    "}\n",
    ".rendered_html img, .rendered_html svg {\n",
    "    max-width: 35%;\n",
    "    height: auto;\n",
    "    float: right;\n",
    "}\n",
    "/* Gradient transparent - color - transparent */\n",
    "hr {\n",
    "    border: 0;\n",
    "    border-bottom: 1px dashed #ccc;\n",
    "}\n",
    ".emoticon{\n",
    "    font-size: 5rem;\n",
    "    line-height: 4.4rem;\n",
    "    text-align: center;\n",
    "    vertical-align: middle;\n",
    "}\n",
    "</style>"
   ]
  },
  {
   "cell_type": "code",
   "execution_count": 2,
   "metadata": {},
   "outputs": [],
   "source": [
    "# 基本模块\n",
    "import pandas as pd\n",
    "from requests_html import HTMLSession"
   ]
  },
  {
   "cell_type": "markdown",
   "metadata": {},
   "source": [
    "# requsts-html\n",
    "学生将实践\n",
    "* 解析简单HTML页面\n",
    "\n",
    "使用 requests-html 爬取并存取网页文字档，查找[requests-html 中文文档](https://cncert.github.io/requests-html-doc-cn/#/)\n",
    "\n",
    "* API 文档\n",
    "  * HTML类\n",
    "  * Element类\n",
    "  * HTML Sessions (应正名为HTTP Sessions)  \n",
    "* [原文档](https://requests-html.kennethreitz.org//_modules/requests_html.html)\n",
    "\n",
    "要点：HTTP 和 HTML 的分工与合作"
   ]
  },
  {
   "cell_type": "markdown",
   "metadata": {},
   "source": [
    "## HTML类\n",
    "\n",
    "HTML文本的基本使用及保存备用"
   ]
  },
  {
   "cell_type": "code",
   "execution_count": 4,
   "metadata": {},
   "outputs": [],
   "source": [
    "# A1  nfu.edu.cn 搜 文学与传媒学院 保存备用\n",
    "payload = {\n",
    "    \"keyword\":\"公共管理学系\",\n",
    "    \"p\":\"2\"# 将\"p\" :\"1\"改成\"2\",想看看有什么不一样。\n",
    "    # 简单来说是页数的不同\n",
    "}\n",
    "\n",
    "session = HTMLSession()\n",
    "r = session.get(\"http://www.nfu.edu.cn/index.php/home/article/search.html\", params=payload)"
   ]
  },
  {
   "cell_type": "code",
   "execution_count": 5,
   "metadata": {},
   "outputs": [
    {
     "data": {
      "text/plain": [
       "'\\ufeff<!DOCTYPE html PUBLIC \"-//W3C//DTD XHTML 1.0 Transitional//EN\" \"http://www.w3.org/TR/xhtml1/DTD/xhtml1-transitional.dtd\">\\r\\n<html>\\r\\n<head>\\r\\n<meta name=\"renderer\" content=\"webkit\">\\r\\n<meta http-equiv=\"x-ua-compatible\" content=\"IE=edge\" >\\r\\n<meta http-equiv=\"Content-Type\" content=\"text/html; charset=utf-8\" />\\r\\n<title>-中山大学南方学院 </title>\\r\\n<meta name=\"keywords\" content=\"\">\\r\\n<meta name=\"description\" content=\"\">\\r\\n\\t\\n<link rel=\"stylesheet\" type=\"text/css\" href=\"/Public/Home/css/swiper-3.3.1.min.css\"/>\\n\\t\\t<link href=\"/Public/Home/css/lin.css\" rel=\"stylesheet\" type=\"text/css\" />\\n\\n\\t\\t<script src=\"/Public/Home/js/jquery-1.11.3.min.js\"></script>\\n\\t\\t<script src=\"/Public/Home/js/jquery-1.11.1.js\"></script>\\n\\t\\t<script src=\"/Public/Home/js/jquery.easie-min.js\" type=\"text/javascript\"></script>\\n\\t\\t<script src=\"/Public/Home/js/swiper.min.js\" type=\"text/javascript\"></script>\\n\\t\\t<script src=\"/Public/Home/js/lin.js\"></script>\\n\\t\\t\\n\\t\\t\\n<link href=\"/Public/Home/page.css\" rel=\"stylesheet\" type=\"text/css\" />\\n<link href=\"/Public/favicon.ico\" rel=\"Shortcut Icon\">\\n<link href=\"/Public/favicon.ico\" rel=\"Bookmark\">\\n\\r\\n\\t</head>\\r\\n<body>\\r\\n\\ufeff<!--头部-->\\n\\t\\t<div class=\"lin-header \">\\n\\t\\t\\t<div class=\"lin-head clearfix\">\\n\\t\\t\\t\\t<h1 class=\"lin-topl\"><a href=\"/index.php\" target=\"_blank\" title=\"中山大学南方学院\"><img src=\"/Public/Home/images/logo.png\"/></a></h1>\\n\\t\\t\\t\\t<div class=\"lin-topr\">\\n\\t\\t\\t\\t\\t<div class=\"lin-youxiang\">\\n\\t\\t\\t\\t\\t\\t<a href=\"http://oa.nfu.edu.cn/\" target=\"_blank\">办公系统</a>\\n\\t\\t\\t\\t\\t\\t<a href=\"http://en.nfu.edu.cn/\">English Version</a>\\n\\t\\t\\t\\t\\t\\t<!-- <a href=\"https://mail.nfu.edu.cn/\" target=\"_blank\">邮箱登录</a>\\n\\t\\t\\t\\t\\t\\t<a href=\"mailto:nfcsysuyz@126.com\" target=\"_blank\" title=\"nfcsysuyz@126.com\" >院长信箱</a> -->\\n\\t\\t\\t\\t\\t</div>\\n\\t\\t\\t\\t\\t<div class=\"lin-ser lin-serhide\">\\n\\t\\t\\t\\t\\t\\t<div class=\"serbox\">\\n\\t\\t\\t\\t\\t\\t<form action=\"/index.php/home/article/search.html\" method=\"get\" id=\"search_form\">\\n\\t\\t\\t\\t\\t\\t\\t<input type=\"text\" name=\"keyword\" id=\"keyword\" placeholder=\"搜索\" />\\n\\t\\t\\t\\t\\t\\t\\t<a href=\"javascript:;\" id=\"search_btn\" ></a>\\n\\t\\t\\t\\t\\t\\t</form>\\t\\n\\t\\t\\t\\t\\t\\t<script type=\"text/javascript\">\\n\\t\\t\\t\\t\\t\\t\\t$(\"#search_btn\").click(function(){\\n\\t\\t\\t\\t\\t\\t\\t\\tvar keyword=$(\"#keyword\").val();\\n\\t\\t\\t\\t\\t\\t\\t\\tif(keyword==\\'\\'){\\n\\t\\t\\t\\t\\t\\t\\t\\t\\talert(\\'* 请输入搜索关键词 !\\');\\n\\t\\t\\t\\t\\t\\t\\t\\t\\t$(\"#keyword\").focus();\\n\\t\\t\\t\\t\\t\\t\\t\\t\\treturn false;\\n\\t\\t\\t\\t\\t\\t\\t\\t}else{\\n\\t\\t\\t\\t\\t\\t\\t\\t\\t$(\"#search_form\").submit();\\n\\t\\t\\t\\t\\t\\t\\t\\t}\\n\\t\\t\\t\\t\\t\\t\\t})\\n\\t\\t\\t\\t\\t\\t</script>\\n\\t\\t\\t\\t\\t\\t</div>\\n\\t\\t\\t\\t\\t\\t<!-- <span class=\"ser-biaoti\"><a href=\\'\\' style=\"color:#fff;\">English Version</a></span> -->\\n\\t\\t\\t\\t\\t</div>\\n\\t\\t\\t\\t</div>\\n\\t\\t\\t</div>\\n\\t\\t</div>\\n\\t\\t<!-- end 头部-->\\n\\t\\t<!--导航条-->\\n\\t\\t<div class=\"lin-navbar\">\\n\\t\\t\\t<p class=\"navnav\">\\n\\t\\t\\t\\t<span></span>\\n\\t\\t\\t\\t<span></span>\\n\\t\\t\\t\\t<span></span>\\n\\t\\t\\t</p>\\n\\t\\t\\t<ul class=\"lin-nav clearfix\">\\n\\t\\t\\t\\t<li  class=\"lin-navli\"><a href=\"/index.php\">首页</a>\\n\\t\\t\\t\\t</li>\\n\\t\\t\\t\\t<li class=\"lin-navli\"><a href=\"/index.php/home/article/index/cid/29.html\"  target=\"_blank\">学校概况</a>\\n\\n\\t\\t\\t\\t\\t<!-- <i f condition=\"!empty($nav[\\'son_list\\']) and $nav[id] !=3 and  $nav[id] !=4 and $nav[id] !=5 and $nav[id] !=89\"> -->\\n\\t\\t\\t\\t\\t<div class=\"lin-navdiv\">\\n\\t\\t\\t\\t\\t\\t<div class=\"sonnav-bg\">\\n\\t\\t\\t\\t\\t\\t\\t<ul class=\"nav-conul clearfix\">\\n\\t\\t\\t\\t\\t\\t\\t\\t<li><a href=\"/index.php/home/article/index/cid/29.html\" target=\"_self\">学校简介</a></li><li><a href=\"/index.php/home/article/index/cid/30.html\" target=\"_blank\">现任领导</a></li><li><a href=\"/index.php/home/article/index/cid/135.html\" target=\"_self\">校徽  校训  校歌</a></li><li><a href=\"/index.php/home/article/index/cid/34.html\" target=\"_blank\">南方大事记</a></li><li><a href=\"/index.php/home/article/index/cid/104.html\" target=\"_self\">学校校历</a></li>\\t\\t\\t\\t\\t\\t\\t</ul>\\n\\t\\t\\t\\t\\t\\t</div>\\n\\t\\t\\t\\t\\t</div>\\t\\t\\t\\t</li><li class=\"lin-navli\"><a href=\"/index.php/home/article/index/cid/2.html\"  target=\"_self\">党建之窗</a>\\n\\n\\t\\t\\t\\t\\t<!-- <i f condition=\"!empty($nav[\\'son_list\\']) and $nav[id] !=3 and  $nav[id] !=4 and $nav[id] !=5 and $nav[id] !=89\"> -->\\n\\t\\t\\t\\t\\t\\t\\t\\t\\t</li><li class=\"lin-navli\"><a href=\"/index.php/home/article/index/cid/61.html\"  target=\"_blank\">机构设置</a>\\n\\n\\t\\t\\t\\t\\t<!-- <i f condition=\"!empty($nav[\\'son_list\\']) and $nav[id] !=3 and  $nav[id] !=4 and $nav[id] !=5 and $nav[id] !=89\"> -->\\n\\t\\t\\t\\t\\t<div class=\"lin-navdiv\">\\n\\t\\t\\t\\t\\t\\t<div class=\"sonnav-bg\">\\n\\t\\t\\t\\t\\t\\t\\t<ul class=\"nav-conul clearfix\">\\n\\t\\t\\t\\t\\t\\t\\t\\t<li><a href=\"/index.php/home/article/index/cid/61.html\" target=\"_self\">院系设置</a></li><li><a href=\"/index.php/home/article/index/cid/36.html\" target=\"_self\">管理机构</a></li><li><a href=\"/index.php/home/article/index/cid/165.html\" target=\"_self\">常设委员会</a></li>\\t\\t\\t\\t\\t\\t\\t</ul>\\n\\t\\t\\t\\t\\t\\t</div>\\n\\t\\t\\t\\t\\t</div>\\t\\t\\t\\t</li><li class=\"lin-navli\"><a href=\"/index.php/home/article/index/cid/31.html\"  target=\"_blank\">人才培养</a>\\n\\n\\t\\t\\t\\t\\t<!-- <i f condition=\"!empty($nav[\\'son_list\\']) and $nav[id] !=3 and  $nav[id] !=4 and $nav[id] !=5 and $nav[id] !=89\"> -->\\n\\t\\t\\t\\t\\t<div class=\"lin-navdiv\">\\n\\t\\t\\t\\t\\t\\t<div class=\"sonnav-bg\">\\n\\t\\t\\t\\t\\t\\t\\t<ul class=\"nav-conul clearfix\">\\n\\t\\t\\t\\t\\t\\t\\t\\t<li><a href=\"/index.php/home/article/index/cid/31.html\" target=\"_blank\">名师介绍</a></li><li><a href=\"/index.php/home/article/index/cid/163.html\" target=\"_self\">本科教育</a></li><li><a href=\"/index.php/home/article/index/cid/164.html\" target=\"_self\">继续教育</a></li>\\t\\t\\t\\t\\t\\t\\t</ul>\\n\\t\\t\\t\\t\\t\\t</div>\\n\\t\\t\\t\\t\\t</div>\\t\\t\\t\\t</li><li class=\"lin-navli\"><a href=\"/index.php/home/article/index/cid/106.html\"  target=\"_blank\">教学科研</a>\\n\\n\\t\\t\\t\\t\\t<!-- <i f condition=\"!empty($nav[\\'son_list\\']) and $nav[id] !=3 and  $nav[id] !=4 and $nav[id] !=5 and $nav[id] !=89\"> -->\\n\\t\\t\\t\\t\\t<div class=\"lin-navdiv\">\\n\\t\\t\\t\\t\\t\\t<div class=\"sonnav-bg\">\\n\\t\\t\\t\\t\\t\\t\\t<ul class=\"nav-conul clearfix\">\\n\\t\\t\\t\\t\\t\\t\\t\\t<li><a href=\"/index.php/home/article/index/cid/106.html\" target=\"_blank\">教务与科研部</a></li><li><a href=\"/index.php/home/article/index/cid/127.html\" target=\"_blank\">科研信息与动态</a></li><li><a href=\"/index.php/home/article/index/cid/107.html\" target=\"_blank\">科研机构</a></li>\\t\\t\\t\\t\\t\\t\\t</ul>\\n\\t\\t\\t\\t\\t\\t</div>\\n\\t\\t\\t\\t\\t</div>\\t\\t\\t\\t</li><li class=\"lin-navli\"><a href=\"/index.php/home/article/index/cid/49.html\"  target=\"_blank\">招生就业</a>\\n\\n\\t\\t\\t\\t\\t<!-- <i f condition=\"!empty($nav[\\'son_list\\']) and $nav[id] !=3 and  $nav[id] !=4 and $nav[id] !=5 and $nav[id] !=89\"> -->\\n\\t\\t\\t\\t\\t<div class=\"lin-navdiv\">\\n\\t\\t\\t\\t\\t\\t<div class=\"sonnav-bg\">\\n\\t\\t\\t\\t\\t\\t\\t<ul class=\"nav-conul clearfix\">\\n\\t\\t\\t\\t\\t\\t\\t\\t<li><a href=\"/index.php/home/article/index/cid/49.html\" target=\"_blank\">本科招生</a></li><li><a href=\"/index.php/home/article/index/cid/129.html\" target=\"_self\">继续教育</a></li><li><a href=\"/index.php/home/article/index/cid/50.html\" target=\"_blank\">就业服务</a></li>\\t\\t\\t\\t\\t\\t\\t</ul>\\n\\t\\t\\t\\t\\t\\t</div>\\n\\t\\t\\t\\t\\t</div>\\t\\t\\t\\t</li><li class=\"lin-navli\"><a href=\"/index.php/home/article/index/cid/79.html\"  target=\"_blank\">图书馆</a>\\n\\n\\t\\t\\t\\t\\t<!-- <i f condition=\"!empty($nav[\\'son_list\\']) and $nav[id] !=3 and  $nav[id] !=4 and $nav[id] !=5 and $nav[id] !=89\"> -->\\n\\t\\t\\t\\t\\t<div class=\"lin-navdiv\">\\n\\t\\t\\t\\t\\t\\t<div class=\"sonnav-bg\">\\n\\t\\t\\t\\t\\t\\t\\t<ul class=\"nav-conul clearfix\">\\n\\t\\t\\t\\t\\t\\t\\t\\t<li><a href=\"/index.php/home/article/index/cid/79.html\" target=\"_blank\">图书馆</a></li><li><a href=\"/index.php/home/article/index/cid/80.html\" target=\"_blank\">档案室</a></li>\\t\\t\\t\\t\\t\\t\\t</ul>\\n\\t\\t\\t\\t\\t\\t</div>\\n\\t\\t\\t\\t\\t</div>\\t\\t\\t\\t</li><li class=\"lin-navli\"><a href=\"/index.php/home/article/index/cid/159.html\"  target=\"_blank\">合作交流</a>\\n\\n\\t\\t\\t\\t\\t<!-- <i f condition=\"!empty($nav[\\'son_list\\']) and $nav[id] !=3 and  $nav[id] !=4 and $nav[id] !=5 and $nav[id] !=89\"> -->\\n\\t\\t\\t\\t\\t<div class=\"lin-navdiv\">\\n\\t\\t\\t\\t\\t\\t<div class=\"sonnav-bg\">\\n\\t\\t\\t\\t\\t\\t\\t<ul class=\"nav-conul clearfix\">\\n\\t\\t\\t\\t\\t\\t\\t\\t<li><a href=\"/index.php/home/article/index/cid/159.html\" target=\"_blank\">国际交流</a></li><li><a href=\"/index.php/home/article/index/cid/161.html\" target=\"_blank\">外事服务</a></li>\\t\\t\\t\\t\\t\\t\\t</ul>\\n\\t\\t\\t\\t\\t\\t</div>\\n\\t\\t\\t\\t\\t</div>\\t\\t\\t\\t</li><li class=\"lin-navli\"><a href=\"/index.php/home/article/index/cid/44.html\"  target=\"_blank\">人才招聘</a>\\n\\n\\t\\t\\t\\t\\t<!-- <i f condition=\"!empty($nav[\\'son_list\\']) and $nav[id] !=3 and  $nav[id] !=4 and $nav[id] !=5 and $nav[id] !=89\"> -->\\n\\t\\t\\t\\t\\t<div class=\"lin-navdiv\">\\n\\t\\t\\t\\t\\t\\t<div class=\"sonnav-bg\">\\n\\t\\t\\t\\t\\t\\t\\t<ul class=\"nav-conul clearfix\">\\n\\t\\t\\t\\t\\t\\t\\t\\t<li><a href=\"/index.php/home/article/index/cid/44.html\" target=\"_blank\">教师系列</a></li><li><a href=\"/index.php/home/article/index/cid/45.html\" target=\"_blank\">管理系列</a></li>\\t\\t\\t\\t\\t\\t\\t</ul>\\n\\t\\t\\t\\t\\t\\t</div>\\n\\t\\t\\t\\t\\t</div>\\t\\t\\t\\t</li><li class=\"lin-navli\"><a href=\"/index.php/home/article/index/cid/32.html\"  target=\"_blank\">走进南方</a>\\n\\n\\t\\t\\t\\t\\t<!-- <i f condition=\"!empty($nav[\\'son_list\\']) and $nav[id] !=3 and  $nav[id] !=4 and $nav[id] !=5 and $nav[id] !=89\"> -->\\n\\t\\t\\t\\t\\t<div class=\"lin-navdiv\">\\n\\t\\t\\t\\t\\t\\t<div class=\"sonnav-bg\">\\n\\t\\t\\t\\t\\t\\t\\t<ul class=\"nav-conul clearfix\">\\n\\t\\t\\t\\t\\t\\t\\t\\t<li><a href=\"/index.php/home/article/index/cid/32.html\" target=\"_blank\">图说南方</a></li><li><a href=\"/index.php/home/article/index/cid/105.html\" target=\"_self\">生活服务</a></li><li><a href=\"/index.php/home/article/index/cid/87.html\" target=\"_self\">医疗服务</a></li><li><a href=\"/index.php/home/article/index/cid/51.html\" target=\"_blank\">校报</a></li><li><a href=\"/index.php/home/article/index/cid/82.html\" target=\"_self\">交通指引</a></li>\\t\\t\\t\\t\\t\\t\\t</ul>\\n\\t\\t\\t\\t\\t\\t</div>\\n\\t\\t\\t\\t\\t</div>\\t\\t\\t\\t</li>\\n\\t\\t\\t</ul>\\n\\t\\t\\t\\n\\t\\t</div>\\n\\t\\t<div class=\"lin-navbg\"></div>\\n\\n\\r\\n<div class=\"lin-content\">\\r\\n\\t\\t\\t<div class=\"lin-neiye clearfix\">\\r\\n\\t\\t\\t\\t\\r\\n\\r\\n\\t\\t\\t    <div class=\"search_list_right\">\\r\\n\\t\\t\\t        <div class=\"fan clearfix\">\\r\\n\\t\\t\\t            <span class=\"fan_title\">站内搜索</span>\\r\\n\\t\\t\\t            <span class=\"fan_right\">您当前位置是：<a href=\"/index.php\">网站首页</a> &gt; <font>站内搜索</font></span>\\r\\n\\t\\t\\t        </div>\\r\\n\\t\\t\\t        <div class=\"ny_content\">\\r\\n\\t\\t\\t\\t\\t\\t<ul class=\"list-ul\">\\r\\n\\t\\t\\t\\t\\t\\t<li><font class=\"right-more\">2019-05-21</font><div class=\"news_title\"><a href=\"/index.php/home/article/search_detail/id/5470.html\" target=\"_blank\" title=\"公共管理学系党总支开展“一对一、面对面” 学生党员谈话教育\"><font color=red>公共管理学系</font>党总支开展“一对一、面对面” 学生党员谈话教育</a></div>\\r\\n\\t\\t\\t\\t\\t\\t\\t</li><li><font class=\"right-more\">2019-05-15</font><div class=\"news_title\"><a href=\"/index.php/home/article/search_detail/id/5431.html\" target=\"_blank\" title=\"公共管理学系党总支学生支部2019年春季“预备党员转正暨接收预备党员通表大会”顺利完成\"><font color=red>公共管理学系</font>党总支学生支部2019年春季“预备党员转正暨接收预备党员通表大会”顺利完成</a></div>\\r\\n\\t\\t\\t\\t\\t\\t\\t</li><li><font class=\"right-more\">2019-05-14</font><div class=\"news_title\"><a href=\"/index.php/home/article/search_detail/id/5422.html\" target=\"_blank\" title=\"陈天祥 公共管理学系教授，系主任\">陈天祥 <font color=red>公共管理学系</font>教授，系主任</a></div>\\r\\n\\t\\t\\t\\t\\t\\t\\t</li><li><font class=\"right-more\">2019-05-14</font><div class=\"news_title\"><a href=\"/index.php/home/article/search_detail/id/5423.html\" target=\"_blank\" title=\"陈天祥 公共管理学系教授，系主任\">陈天祥 <font color=red>公共管理学系</font>教授，系主任</a></div>\\r\\n\\t\\t\\t\\t\\t\\t\\t</li><li><font class=\"right-more\">2019-05-14</font><div class=\"news_title\"><a href=\"/index.php/home/article/search_detail/id/5426.html\" target=\"_blank\" title=\"陈天祥 公共管理学系教授，系主任\">陈天祥 <font color=red>公共管理学系</font>教授，系主任</a></div>\\r\\n\\t\\t\\t\\t\\t\\t\\t</li><li><font class=\"right-more\">2019-04-17</font><div class=\"news_title\"><a href=\"/index.php/home/article/search_detail/id/5280.html\" target=\"_blank\" title=\"公共管理学系党总支开展“学习宪法精神，感受西塘蝶变，担当时代使命”主题党日活动\"><font color=red>公共管理学系</font>党总支开展“学习宪法精神，感受西塘蝶变，担当时代使命”主题党日活动</a></div>\\r\\n\\t\\t\\t\\t\\t\\t\\t</li><li><font class=\"right-more\">2019-04-02</font><div class=\"news_title\"><a href=\"/index.php/home/article/search_detail/id/5206.html\" target=\"_blank\" title=\"公共管理学系党总支2019年春季确立发展对象工作顺利结束\"><font color=red>公共管理学系</font>党总支2019年春季确立发展对象工作顺利结束</a></div>\\r\\n\\t\\t\\t\\t\\t\\t\\t</li><li><font class=\"right-more\">2019-03-26</font><div class=\"news_title\"><a href=\"/index.php/home/article/search_detail/id/5178.html\" target=\"_blank\" title=\"公共管理学系党总支“书记第一思想政治理论课”暨 第24期入党积极分子开班仪式顺利完成\"><font color=red>公共管理学系</font>党总支“书记第一思想政治理论课”暨 第24期入党积极分子开班仪式顺利完成</a></div>\\r\\n\\t\\t\\t\\t\\t\\t\\t</li><li><font class=\"right-more\">2018-12-10</font><div class=\"news_title\"><a href=\"/index.php/home/article/search_detail/id/4919.html\" target=\"_blank\" title=\"我校公共管理学系参赛队荣获“第二届中国大学生公共管理案例大赛”二等奖\">我校<font color=red>公共管理学系</font>参赛队荣获“第二届中国大学生公共管理案例大赛”二等奖</a></div>\\r\\n\\t\\t\\t\\t\\t\\t\\t</li><li><font class=\"right-more\">2018-11-07</font><div class=\"news_title\"><a href=\"/index.php/home/article/search_detail/id/4749.html\" target=\"_blank\" title=\"首届“新时代·南苑风”公共管理活动月系列活动之八：2018年公共管理学系第八届新生班际辩论赛决赛顺利举行\">首届“新时代·南苑风”公共管理活动月系列活动之八：2018年<font color=red>公共管理学系</font>第八届新生班际辩论赛决赛顺利举行</a></div>\\r\\n\\t\\t\\t\\t\\t\\t\\t</li><li><font class=\"right-more\">2018-11-06</font><div class=\"news_title\"><a href=\"/index.php/home/article/search_detail/id/4785.html\" target=\"_blank\" title=\"青风不止，马不停蹄——公共管理学系第二期“青马工程”培训会暨第八届青蓝之星学生干部培训班闭幕式圆满举行\">青风不止，马不停蹄——<font color=red>公共管理学系</font>第二期“青马工程”培训会暨第八届青蓝之星学生干部培训班闭幕式圆满举行</a></div>\\r\\n\\t\\t\\t\\t\\t\\t\\t</li><li><font class=\"right-more\">2018-10-25</font><div class=\"news_title\"><a href=\"/index.php/home/article/search_detail/id/4783.html\" target=\"_blank\" title=\"公共管理学系第二期“青马工程”培训会暨第八届青蓝之星学生干部培训班第二场圆满结束\"><font color=red>公共管理学系</font>第二期“青马工程”培训会暨第八届青蓝之星学生干部培训班第二场圆满结束</a></div>\\r\\n\\t\\t\\t\\t\\t\\t\\t</li>\\t\\t\\t\\t\\t\\t</ul>\\r\\n\\t\\t\\t\\t\\t\\t<div style=\"clear: both;\"></div>\\r\\n\\t\\t\\t\\t\\t\\t<div class=\"pages\" align=\"center\"><div> <a class=\"prev\" href=\"/index.php/home/article/search/keyword/%E5%85%AC%E5%85%B1%E7%AE%A1%E7%90%86%E5%AD%A6%E7%B3%BB/p/1.html\"><<</a> <a class=\"num\" href=\"/index.php/home/article/search/keyword/%E5%85%AC%E5%85%B1%E7%AE%A1%E7%90%86%E5%AD%A6%E7%B3%BB/p/1.html\">1</a><span class=\"current\">2</span><a class=\"num\" href=\"/index.php/home/article/search/keyword/%E5%85%AC%E5%85%B1%E7%AE%A1%E7%90%86%E5%AD%A6%E7%B3%BB/p/3.html\">3</a><a class=\"num\" href=\"/index.php/home/article/search/keyword/%E5%85%AC%E5%85%B1%E7%AE%A1%E7%90%86%E5%AD%A6%E7%B3%BB/p/4.html\">4</a><a class=\"num\" href=\"/index.php/home/article/search/keyword/%E5%85%AC%E5%85%B1%E7%AE%A1%E7%90%86%E5%AD%A6%E7%B3%BB/p/5.html\">5</a> <a class=\"next\" href=\"/index.php/home/article/search/keyword/%E5%85%AC%E5%85%B1%E7%AE%A1%E7%90%86%E5%AD%A6%E7%B3%BB/p/3.html\">>></a> </div></div>\\r\\n\\t\\t\\t        </div>\\r\\n\\t\\t\\t    </div>\\r\\n\\t\\t\\t</div>\\r\\n\\t\\t</div>\\r\\n\\t\\t<!-- end 内容区域-->\\r\\n\\r\\n\\t<!--底部-->\\n\\t\\t<div class=\"lin-footer\">\\n\\t\\t\\t<div class=\"lin-fer clearfix\">\\n\\t\\t\\t\\t<div class=\"ferleft\">\\n\\t\\t\\t\\t\\t<ul class=\"fer-ul clearfix\">\\n\\t\\t\\t\\t\\t\\t<li class=\"fer-li\"><a href=\"http://www.moe.gov.cn/\" target=\"_blank\" title=\"教育部\">教育部</a></li><li class=\"fer-li\"><a href=\"http://www.gz.gov.cn/\" target=\"_blank\" title=\"广州市政府\">广州市政府</a></li><li class=\"fer-li\"><a href=\"http://www.cnki.net/\" target=\"_blank\" title=\"中国知网\">中国知网</a></li><li class=\"fer-li\"><a href=\"http://edu.gd.gov.cn\" target=\"_blank\" title=\"广东省教育厅\">广东省教育厅</a></li><li class=\"fer-li\"><a href=\"http://www.gdpr.com/\" target=\"_blank\" title=\"珠江投资\">珠江投资</a></li><li class=\"fer-li\"><a href=\"http://journal.nfu.edu.cn/CN/volumn/home.shtml\" target=\"_blank\" title=\"南方论丛\">南方论丛</a></li><li class=\"fer-li\"><a href=\"http://www.sysu.edu.cn/\" target=\"_blank\" title=\"中山大学 \">中山大学 </a></li><li class=\"fer-li\"><a href=\"http://www.nfu.edu.cn/index.php/home/article/index/cid/136.html\" target=\"_blank\" title=\"珠江教育联盟\">珠江教育联盟</a></li>\\t\\n\\t\\t\\t\\t\\t\\t<li class=\"fer-li\"><a href=\"/index.php/home/article/link.html\">更多>></a></li>\\n\\t\\t\\t\\t\\t</ul>\\n\\t\\t\\t\\t</div>\\n\\t\\t\\t\\t<div class=\"fercen\">\\n\\t\\t\\t\\t\\t<div class=\"fer-er\"><img src=\"/Public/Home/images/erweima1.jpg\"/></div>\\n\\t\\t\\t\\t\\t<div class=\"fer-er\"><img src=\"/Public/Home/images/erweima2.jpg\"/></div>\\n\\t\\t\\t\\t</div>\\n\\t\\t\\t\\t<div class=\"ferright\">\\n\\t\\t\\t\\t\\t<div><p><span>地址：广州市从化区温泉大道882号中山大学南方学院</span><span>邮编：510970</span></p></div>\\n\\t\\t\\t\\t\\t<div class=\"addleft\">\\n\\t\\t\\t\\t\\t\\t<p>联系电话：020-61787326</p>\\n\\t\\t\\t\\t\\t\\t<p>版权所有 ©  中山大学南方学院</p>\\n\\t\\t\\t\\t\\t\\t<p>技术支持：<a href=\"http://www.unsun.net\" target=\"_blank\">碧辉腾乐(UNSUN.NET)</a></p>\\n\\t\\t\\t\\t\\t</div>\\n\\t\\t\\t\\t\\t<div class=\"addright\">\\n\\t\\t\\t\\t\\t\\t<p>招生咨询：020-87912619</p> \\n\\t\\t\\t\\t\\t\\t<p>\\n\\t\\t\\t\\t\\t\\t\\t<span class=\"add-spante\"><a target=\"_blank\" href=\"http://www.beian.miit.gov.cn\">粤ICP备11077779号</a></span> \\n\\t\\t\\t\\t\\t\\t\\t<span class=\"add-spante\">\\n\\t\\t\\t\\t\\t\\t\\t\\t<a href=\"/index.php/admin/index/login.html\" target=\"_blank\" >网站管理</a>&nbsp;&nbsp;\\n\\t\\t\\t\\t\\t\\t\\t\\t<a href=\"http://old.nfu.edu.cn/\" target=\"_blank\" >旧站入口</a>\\n\\t\\t\\t\\t\\t\\t\\t</span>\\n\\t\\t\\t\\t\\t\\t</p>\\n\\t\\t\\t\\t\\t\\n\\t\\t\\t\\t\\t</div>\\n\\t\\t\\t\\t\\t\\n\\t\\t\\t\\t\\t\\n\\t\\t\\t\\t\\t\\n\\t\\t\\t\\t</div>\\n\\t\\t\\t\\t\\n\\t\\t\\t\\t<div align=\"center\">\\n\\t\\t\\t\\t\\t\\t<a target=\"_blank\" href=\"http://www.beian.gov.cn/portal/registerSystemInfo?recordcode=44011702000081\" style=\"display:inline-block;text-decoration:none;height:20px;line-height:20px;\"><img src=\"/Public/Home/images/icp.png\" style=\"float:left;\"/><p style=\"float:left;height:20px;line-height:20px;margin: 0px 0px 0px 5px; color:#ffffff;\">粤公网安备 44011702000081号</p></a>\\n\\t\\t\\t\\t</div>\\n\\t\\t\\t</div>\\n\\t\\t</div>\\n\\t\\t<!-- end 底部-->\\n\\n <script type=\"text/javascript\" language=\"javascript\">\\n \\n    //加入收藏\\n \\n        function AddFavorite(sURL, sTitle) {\\n \\n            sURL = encodeURI(sURL); \\n        try{   \\n \\n            window.external.addFavorite(sURL, sTitle);   \\n \\n        }catch(e) {   \\n \\n            try{   \\n \\n                window.sidebar.addPanel(sTitle, sURL, \"\");   \\n \\n            }catch (e) {   \\n \\n                alert(\"加入收藏失败，请使用Ctrl+D进行添加,或手动在浏览器里进行设置.\");\\n \\n            }   \\n \\n        }\\n \\n    }\\n \\n    //设为首页\\n \\n    function SetHome(url){\\n \\n        if (document.all) {\\n \\n            document.body.style.behavior=\\'url(#default#homepage)\\';\\n \\n               document.body.setHomePage(url);\\n \\n        }else{\\n \\n            alert(\"您好,您的浏览器不支持自动设置页面为首页功能,请您手动在浏览器里设置该页面为首页!\");\\n \\n        }\\n \\n    }\\n \\n</script>\\n\\r\\n\\r\\n</body>\\r\\n</html>'"
      ]
     },
     "execution_count": 5,
     "metadata": {},
     "output_type": "execute_result"
    }
   ],
   "source": [
    "#  A2  nfu.edu.cn 搜 文学与传媒学院 r.html\n",
    "# r.html  (HTML 元素/标签) \n",
    "\n",
    "r.html.html  \n",
    "# 可存网页为文字档"
   ]
  },
  {
   "cell_type": "code",
   "execution_count": 11,
   "metadata": {},
   "outputs": [],
   "source": [
    "# A3  nfu.edu.cn 搜 文学与传媒学院 保存备用\n",
    "\n",
    "with open (\"20春_Web数据挖掘_week02_nfu_文学与传媒学院.html\", encoding = \"utf8\", mode = \"w\") as fp:\n",
    "    fp.write(r.html.html)"
   ]
  },
  {
   "cell_type": "code",
   "execution_count": 9,
   "metadata": {},
   "outputs": [],
   "source": [
    "# A4  复习 读保存备用的任何文字档\n",
    "\n",
    "with open (\"20春_Web数据挖掘_week02_nfu_文学与传媒学院.html\", encoding = \"utf8\", mode = \"r\") as fp:\n",
    "    html_load = fp.read()"
   ]
  },
  {
   "cell_type": "markdown",
   "metadata": {},
   "source": [
    "## 解析文本\n",
    "![HTML head body](https://rlv.zcache.com/head_body_t_shirt-rd222a2cce3704f3b87fae4ee0fb73744_k2gm8_307.jpg)\n",
    "HTML文本的解析\n",
    "\n",
    "```python\n",
    "\n",
    "parsed = requests_html.soup_parse(html_load)\n",
    "```\n",
    "\n",
    "```python\n",
    "\n",
    "import requests_html\n",
    "# parsed = requests_html.soup_parse(html_load)\n",
    "from requests_html import soup_parse\n",
    "# parsed = soup_parse(html_load)\n",
    "```\n",
    "\n"
   ]
  },
  {
   "cell_type": "code",
   "execution_count": 11,
   "metadata": {},
   "outputs": [],
   "source": [
    "# A5  前方高能 HTML文本的解析\n",
    "\n",
    "# 关于HTML文本解析的链接https://blog.csdn.net/sookielulu/article/details/78006584\n",
    "\n",
    "import requests_html\n",
    "parsed = requests_html.soup_parse(html_load)\n",
    "解析后 = requests_html.soup_parse(html_load)"
   ]
  },
  {
   "cell_type": "code",
   "execution_count": 12,
   "metadata": {},
   "outputs": [
    {
     "data": {
      "text/plain": [
       "<Element html at 0x195d69f0868>"
      ]
     },
     "execution_count": 12,
     "metadata": {},
     "output_type": "execute_result"
    }
   ],
   "source": [
    "解析后   # <html> 元素标签"
   ]
  },
  {
   "cell_type": "code",
   "execution_count": 13,
   "metadata": {},
   "outputs": [
    {
     "data": {
      "text/plain": [
       "[<Element body at 0x195d69f0d68>]"
      ]
     },
     "execution_count": 13,
     "metadata": {},
     "output_type": "execute_result"
    }
   ],
   "source": [
    "解析后.xpath('body')"
   ]
  },
  {
   "cell_type": "code",
   "execution_count": 14,
   "metadata": {},
   "outputs": [
    {
     "data": {
      "text/plain": [
       "[<Element head at 0x195d6ac4188>]"
      ]
     },
     "execution_count": 14,
     "metadata": {},
     "output_type": "execute_result"
    }
   ],
   "source": [
    "解析后.xpath('head')"
   ]
  },
  {
   "cell_type": "code",
   "execution_count": 16,
   "metadata": {},
   "outputs": [
    {
     "data": {
      "text/plain": [
       "[<Element a at 0x1dcae3e7138>,\n",
       " <Element a at 0x1dcae3e73b8>,\n",
       " <Element a at 0x1dcae3e7318>,\n",
       " <Element a at 0x1dcae3e7408>,\n",
       " <Element a at 0x1dcae3e7458>,\n",
       " <Element a at 0x1dcae3e74a8>,\n",
       " <Element a at 0x1dcae3e74f8>,\n",
       " <Element a at 0x1dcae3e7548>,\n",
       " <Element a at 0x1dcae3e7598>,\n",
       " <Element a at 0x1dcae3e75e8>,\n",
       " <Element a at 0x1dcae3e7638>,\n",
       " <Element a at 0x1dcae3e7688>,\n",
       " <Element a at 0x1dcae3e76d8>,\n",
       " <Element a at 0x1dcae3e7728>,\n",
       " <Element a at 0x1dcae3e7778>,\n",
       " <Element a at 0x1dcae3e77c8>,\n",
       " <Element a at 0x1dcae3e7818>,\n",
       " <Element a at 0x1dcae3e7868>,\n",
       " <Element a at 0x1dcae3e78b8>,\n",
       " <Element a at 0x1dcae3e7908>,\n",
       " <Element a at 0x1dcae3e7958>,\n",
       " <Element a at 0x1dcae3e79a8>,\n",
       " <Element a at 0x1dcae3e79f8>,\n",
       " <Element a at 0x1dcae3e7a48>,\n",
       " <Element a at 0x1dcae3e7a98>,\n",
       " <Element a at 0x1dcae3e7ae8>,\n",
       " <Element a at 0x1dcae3e7b38>,\n",
       " <Element a at 0x1dcae3e7b88>,\n",
       " <Element a at 0x1dcae3e7bd8>,\n",
       " <Element a at 0x1dcae3e7c28>,\n",
       " <Element a at 0x1dcae3e7c78>,\n",
       " <Element a at 0x1dcae3e7cc8>,\n",
       " <Element a at 0x1dcae3e7d18>,\n",
       " <Element a at 0x1dcae3e7d68>,\n",
       " <Element a at 0x1dcae3e7db8>,\n",
       " <Element a at 0x1dcae3e7e08>,\n",
       " <Element a at 0x1dcae3e7e58>,\n",
       " <Element a at 0x1dcae3e7ea8>,\n",
       " <Element a at 0x1dcae3e7ef8>,\n",
       " <Element a at 0x1dcae3e7f48>,\n",
       " <Element a at 0x1dcae3e7f98>,\n",
       " <Element a at 0x1dcae3e8048>,\n",
       " <Element a at 0x1dcae3e8098>,\n",
       " <Element a at 0x1dcae3e80e8>,\n",
       " <Element a at 0x1dcae3e8138>,\n",
       " <Element a at 0x1dcae3e8188>,\n",
       " <Element a at 0x1dcae3e81d8>,\n",
       " <Element a at 0x1dcae3e8228>,\n",
       " <Element a at 0x1dcae3e8278>,\n",
       " <Element a at 0x1dcae3e82c8>,\n",
       " <Element a at 0x1dcae3e8318>,\n",
       " <Element a at 0x1dcae3e8368>,\n",
       " <Element a at 0x1dcae3e83b8>,\n",
       " <Element a at 0x1dcae3e8408>,\n",
       " <Element a at 0x1dcae3e8458>,\n",
       " <Element a at 0x1dcae3e84a8>,\n",
       " <Element a at 0x1dcae3e84f8>,\n",
       " <Element a at 0x1dcae3e8548>,\n",
       " <Element a at 0x1dcae3e8598>,\n",
       " <Element a at 0x1dcae3e85e8>,\n",
       " <Element a at 0x1dcae3e8638>,\n",
       " <Element a at 0x1dcae3e8688>,\n",
       " <Element a at 0x1dcae3e86d8>,\n",
       " <Element a at 0x1dcae3e8728>,\n",
       " <Element a at 0x1dcae3e8778>,\n",
       " <Element a at 0x1dcae3e87c8>,\n",
       " <Element a at 0x1dcae3e8818>,\n",
       " <Element a at 0x1dcae3e8868>,\n",
       " <Element a at 0x1dcae3e88b8>,\n",
       " <Element a at 0x1dcae3e8908>,\n",
       " <Element a at 0x1dcae3e8958>,\n",
       " <Element a at 0x1dcae3e89a8>,\n",
       " <Element a at 0x1dcae3e89f8>,\n",
       " <Element a at 0x1dcae3e8a48>,\n",
       " <Element a at 0x1dcae3e8a98>,\n",
       " <Element a at 0x1dcae3e8ae8>,\n",
       " <Element a at 0x1dcae3e8b38>]"
      ]
     },
     "execution_count": 16,
     "metadata": {},
     "output_type": "execute_result"
    }
   ],
   "source": [
    "解析后.xpath('//a')  # greedy 所有<html> 元素标签"
   ]
  },
  {
   "cell_type": "code",
   "execution_count": 15,
   "metadata": {},
   "outputs": [
    {
     "data": {
      "text/plain": [
       "['公共管理学系党总支开展“一对一、面对面” 学生党员谈话教育',\n",
       " '公共管理学系党总支学生支部2019年春季“预备党员转正暨接收预备党员通表大会”顺利完成',\n",
       " '陈天祥 公共管理学系教授，系主任',\n",
       " '陈天祥 公共管理学系教授，系主任',\n",
       " '陈天祥 公共管理学系教授，系主任',\n",
       " '公共管理学系党总支开展“学习宪法精神，感受西塘蝶变，担当时代使命”主题党日活动',\n",
       " '公共管理学系党总支2019年春季确立发展对象工作顺利结束',\n",
       " '公共管理学系党总支“书记第一思想政治理论课”暨 第24期入党积极分子开班仪式顺利完成',\n",
       " '我校公共管理学系参赛队荣获“第二届中国大学生公共管理案例大赛”二等奖',\n",
       " '首届“新时代·南苑风”公共管理活动月系列活动之八：2018年公共管理学系第八届新生班际辩论赛决赛顺利举行',\n",
       " '青风不止，马不停蹄——公共管理学系第二期“青马工程”培训会暨第八届青蓝之星学生干部培训班闭幕式圆满举行',\n",
       " '公共管理学系第二期“青马工程”培训会暨第八届青蓝之星学生干部培训班第二场圆满结束']"
      ]
     },
     "execution_count": 15,
     "metadata": {},
     "output_type": "execute_result"
    }
   ],
   "source": [
    "解析后.xpath('//*[@class=\"news_title\"]//a/@title')"
   ]
  },
  {
   "cell_type": "markdown",
   "metadata": {},
   "source": [
    "## 直接使用\n",
    "\n",
    "```python\n",
    "r.html.xpath()\n",
    "```\n",
    "\n",
    "你来试试?"
   ]
  },
  {
   "cell_type": "code",
   "execution_count": 6,
   "metadata": {},
   "outputs": [
    {
     "name": "stdout",
     "output_type": "stream",
     "text": [
      "['公共管理学系党总支开展“一对一、面对面” 学生党员谈话教育', '公共管理学系党总支学生支部2019年春季“预备党员转正暨接收预备党员通表大会”顺利完成', '陈天祥 公共管理学系教授，系主任', '陈天祥 公共管理学系教授，系主任', '陈天祥 公共管理学系教授，系主任', '公共管理学系党总支开展“学习宪法精神，感受西塘蝶变，担当时代使命”主题党日活动', '公共管理学系党总支2019年春季确立发展对象工作顺利结束', '公共管理学系党总支“书记第一思想政治理论课”暨 第24期入党积极分子开班仪式顺利完成', '我校公共管理学系参赛队荣获“第二届中国大学生公共管理案例大赛”二等奖', '首届“新时代·南苑风”公共管理活动月系列活动之八：2018年公共管理学系第八届新生班际辩论赛决赛顺利举行', '青风不止，马不停蹄——公共管理学系第二期“青马工程”培训会暨第八届青蓝之星学生干部培训班闭幕式圆满举行', '公共管理学系第二期“青马工程”培训会暨第八届青蓝之星学生干部培训班第二场圆满结束']\n",
      "['/index.php/home/article/search_detail/id/5470.html', '/index.php/home/article/search_detail/id/5431.html', '/index.php/home/article/search_detail/id/5422.html', '/index.php/home/article/search_detail/id/5423.html', '/index.php/home/article/search_detail/id/5426.html', '/index.php/home/article/search_detail/id/5280.html', '/index.php/home/article/search_detail/id/5206.html', '/index.php/home/article/search_detail/id/5178.html', '/index.php/home/article/search_detail/id/4919.html', '/index.php/home/article/search_detail/id/4749.html', '/index.php/home/article/search_detail/id/4785.html', '/index.php/home/article/search_detail/id/4783.html']\n",
      "['2019-05-21', '2019-05-15', '2019-05-14', '2019-05-14', '2019-05-14', '2019-04-17', '2019-04-02', '2019-03-26', '2018-12-10', '2018-11-07', '2018-11-06', '2018-10-25']\n"
     ]
    }
   ],
   "source": [
    "# A6  直接使用 requests-html\n",
    "payload = {\n",
    "    \"keyword\":\"公共管理学系\",\n",
    "    \"p\":\"2\"\n",
    "}\n",
    "\n",
    "session = HTMLSession()\n",
    "r = session.get(\"http://www.nfu.edu.cn/index.php/home/article/search.html\", params=payload)\n",
    "\n",
    "# 保存备用 (好习惯, 最好存一个地方)\n",
    "with open (\"20春_Web数据挖掘_week02_nfu_文学与传媒学院.html\", encoding = \"utf8\", mode = \"w\") as fp:\n",
    "    fp.write(r.html.html)\n",
    "\n",
    "# 解析文本直接使用\n",
    "print (r.html.xpath('//*[@class=\"news_title\"]/a/@title'))\n",
    "print (r.html.xpath('//*[@class=\"news_title\"]/a/@href'))\n",
    "print (r.html.xpath('//font[@class=\"right-more\"]/text()'))"
   ]
  },
  {
   "cell_type": "markdown",
   "metadata": {},
   "source": [
    "# xpath\n",
    "\n",
    "学生将实践\n",
    "\n",
    "* r.html 如 庖丁解牛\n",
    "* r.html.xapth() 挑牛肉吃\n",
    "  * **元素/标签如筋骨，值和文本通常才有牛肉**\n",
    "  * html以元素/标签构成\n",
    "  * 值和文本不单独存在，必需依附元素/标签\n",
    "* 使用xpath（不挑greedy vs. 及挑剔ungreedy的策略）\n",
    "\n",
    "* 获取标签tags丶属性attributes丶值values\n",
    "  * 掌握Chrome Inspector 多种颜色区分\n",
    "      * 元素/标签 elements/tags  ?色\n",
    "      * 属性attributes  ?色\n",
    "      * 值values ?色\n",
    "      * 文本 ?色\n",
    "      * HTML注解 ?色 "
   ]
  },
  {
   "cell_type": "markdown",
   "metadata": {},
   "source": [
    "## 取值及文本"
   ]
  },
  {
   "cell_type": "code",
   "execution_count": 16,
   "metadata": {},
   "outputs": [
    {
     "data": {
      "text/plain": [
       "['公共管理学系党总支开展“一对一、面对面” 学生党员谈话教育',\n",
       " '公共管理学系党总支学生支部2019年春季“预备党员转正暨接收预备党员通表大会”顺利完成',\n",
       " '陈天祥 公共管理学系教授，系主任',\n",
       " '陈天祥 公共管理学系教授，系主任',\n",
       " '陈天祥 公共管理学系教授，系主任',\n",
       " '公共管理学系党总支开展“学习宪法精神，感受西塘蝶变，担当时代使命”主题党日活动',\n",
       " '公共管理学系党总支2019年春季确立发展对象工作顺利结束',\n",
       " '公共管理学系党总支“书记第一思想政治理论课”暨 第24期入党积极分子开班仪式顺利完成',\n",
       " '我校公共管理学系参赛队荣获“第二届中国大学生公共管理案例大赛”二等奖',\n",
       " '首届“新时代·南苑风”公共管理活动月系列活动之八：2018年公共管理学系第八届新生班际辩论赛决赛顺利举行',\n",
       " '青风不止，马不停蹄——公共管理学系第二期“青马工程”培训会暨第八届青蓝之星学生干部培训班闭幕式圆满举行',\n",
       " '公共管理学系第二期“青马工程”培训会暨第八届青蓝之星学生干部培训班第二场圆满结束']"
      ]
     },
     "execution_count": 16,
     "metadata": {},
     "output_type": "execute_result"
    }
   ],
   "source": [
    "# B-A-1 使用 取值 观察xpath最后的内容\n",
    "解析后.xpath('//div[@class=\"news_title\"]/a/@title')"
   ]
  },
  {
   "cell_type": "code",
   "execution_count": 17,
   "metadata": {},
   "outputs": [
    {
     "data": {
      "text/plain": [
       "['党总支开展“一对一、面对面” 学生党员谈话教育',\n",
       " '党总支学生支部2019年春季“预备党员转正暨接收预备党员通表大会”顺利完成',\n",
       " '陈天祥 ',\n",
       " '教授，系主任',\n",
       " '陈天祥 ',\n",
       " '教授，系主任',\n",
       " '陈天祥 ',\n",
       " '教授，系主任',\n",
       " '党总支开展“学习宪法精神，感受西塘蝶变，担当时代使命”主题党日活动',\n",
       " '党总支2019年春季确立发展对象工作顺利结束',\n",
       " '党总支“书记第一思想政治理论课”暨 第24期入党积极分子开班仪式顺利完成',\n",
       " '我校',\n",
       " '参赛队荣获“第二届中国大学生公共管理案例大赛”二等奖',\n",
       " '首届“新时代·南苑风”公共管理活动月系列活动之八：2018年',\n",
       " '第八届新生班际辩论赛决赛顺利举行',\n",
       " '青风不止，马不停蹄——',\n",
       " '第二期“青马工程”培训会暨第八届青蓝之星学生干部培训班闭幕式圆满举行',\n",
       " '第二期“青马工程”培训会暨第八届青蓝之星学生干部培训班第二场圆满结束']"
      ]
     },
     "execution_count": 17,
     "metadata": {},
     "output_type": "execute_result"
    }
   ],
   "source": [
    "# B-A-2 使用 文本\n",
    "解析后.xpath('//div[@class=\"news_title\"]/a/text()')"
   ]
  },
  {
   "cell_type": "code",
   "execution_count": 16,
   "metadata": {
    "collapsed": true
   },
   "outputs": [],
   "source": [
    "# B-A-3 該你了\n",
    "# 你是否能解釋為什麼 B1 和 B2 結果不一樣 ?\n",
    "\n",
    "\n",
    "# 解释： B-A-1选取的是选取名为 title的所有属性。B-A-2 选取文本，但是公共管理学系通过检查发现还有个\n",
    "# “font color属性”，所以文本取不到。"
   ]
  },
  {
   "cell_type": "markdown",
   "metadata": {},
   "source": [
    "## 数据科学家使用xpath的角度\n",
    "![](https://qxf2.com/blog/wp-content/uploads/2015/12/Table.png)\n",
    "* 不挑greedy的策略\n",
    "    * 求全求不漏\n",
    "    * 可能有垃圾\n",
    "    * 使用 // （后代descendant） 而不用  / 子女（children）\n",
    "    * 使用 **任意**元素/标签  而不用  **指定**元素/标签\n",
    "* 挑剔ungreedy的策略\n",
    "    * 求准求数据整齐\n",
    "    * 可能有漏数据\n",
    "    * 使用  / 子女（children） 而不用  // （后代descendant）\n",
    "    * 使用 **指定**元素/标签  而不用  **任意**元素/标签 "
   ]
  },
  {
   "cell_type": "markdown",
   "metadata": {},
   "source": [
    "### 不挑greedy"
   ]
  },
  {
   "cell_type": "code",
   "execution_count": 18,
   "metadata": {},
   "outputs": [
    {
     "data": {
      "text/plain": [
       "[<Element 'a' href='/index.php' target='_blank' title='中山大学南方学院'>,\n",
       " <Element 'a' href='http://oa.nfu.edu.cn/' target='_blank'>,\n",
       " <Element 'a' href='http://en.nfu.edu.cn/'>,\n",
       " <Element 'a' href='javascript:;' id='search_btn'>,\n",
       " <Element 'a' href='/index.php'>,\n",
       " <Element 'a' href='/index.php/home/article/index/cid/29.html' target='_blank'>,\n",
       " <Element 'a' href='/index.php/home/article/index/cid/29.html' target='_self'>,\n",
       " <Element 'a' href='/index.php/home/article/index/cid/30.html' target='_blank'>,\n",
       " <Element 'a' href='/index.php/home/article/index/cid/135.html' target='_self'>,\n",
       " <Element 'a' href='/index.php/home/article/index/cid/34.html' target='_blank'>,\n",
       " <Element 'a' href='/index.php/home/article/index/cid/104.html' target='_self'>,\n",
       " <Element 'a' href='/index.php/home/article/index/cid/2.html' target='_self'>,\n",
       " <Element 'a' href='/index.php/home/article/index/cid/61.html' target='_blank'>,\n",
       " <Element 'a' href='/index.php/home/article/index/cid/61.html' target='_self'>,\n",
       " <Element 'a' href='/index.php/home/article/index/cid/36.html' target='_self'>,\n",
       " <Element 'a' href='/index.php/home/article/index/cid/165.html' target='_self'>,\n",
       " <Element 'a' href='/index.php/home/article/index/cid/31.html' target='_blank'>,\n",
       " <Element 'a' href='/index.php/home/article/index/cid/31.html' target='_blank'>,\n",
       " <Element 'a' href='/index.php/home/article/index/cid/163.html' target='_self'>,\n",
       " <Element 'a' href='/index.php/home/article/index/cid/164.html' target='_self'>,\n",
       " <Element 'a' href='/index.php/home/article/index/cid/106.html' target='_blank'>,\n",
       " <Element 'a' href='/index.php/home/article/index/cid/106.html' target='_blank'>,\n",
       " <Element 'a' href='/index.php/home/article/index/cid/127.html' target='_blank'>,\n",
       " <Element 'a' href='/index.php/home/article/index/cid/107.html' target='_blank'>,\n",
       " <Element 'a' href='/index.php/home/article/index/cid/49.html' target='_blank'>,\n",
       " <Element 'a' href='/index.php/home/article/index/cid/49.html' target='_blank'>,\n",
       " <Element 'a' href='/index.php/home/article/index/cid/129.html' target='_self'>,\n",
       " <Element 'a' href='/index.php/home/article/index/cid/50.html' target='_blank'>,\n",
       " <Element 'a' href='/index.php/home/article/index/cid/79.html' target='_blank'>,\n",
       " <Element 'a' href='/index.php/home/article/index/cid/79.html' target='_blank'>,\n",
       " <Element 'a' href='/index.php/home/article/index/cid/80.html' target='_blank'>,\n",
       " <Element 'a' href='/index.php/home/article/index/cid/159.html' target='_blank'>,\n",
       " <Element 'a' href='/index.php/home/article/index/cid/159.html' target='_blank'>,\n",
       " <Element 'a' href='/index.php/home/article/index/cid/161.html' target='_blank'>,\n",
       " <Element 'a' href='/index.php/home/article/index/cid/44.html' target='_blank'>,\n",
       " <Element 'a' href='/index.php/home/article/index/cid/44.html' target='_blank'>,\n",
       " <Element 'a' href='/index.php/home/article/index/cid/45.html' target='_blank'>,\n",
       " <Element 'a' href='/index.php/home/article/index/cid/32.html' target='_blank'>,\n",
       " <Element 'a' href='/index.php/home/article/index/cid/32.html' target='_blank'>,\n",
       " <Element 'a' href='/index.php/home/article/index/cid/105.html' target='_self'>,\n",
       " <Element 'a' href='/index.php/home/article/index/cid/87.html' target='_self'>,\n",
       " <Element 'a' href='/index.php/home/article/index/cid/51.html' target='_blank'>,\n",
       " <Element 'a' href='/index.php/home/article/index/cid/82.html' target='_self'>,\n",
       " <Element 'a' href='/index.php'>,\n",
       " <Element 'a' href='/index.php/home/article/search_detail/id/5470.html' target='_blank' title='公共管理学系党总支开展“一对一、面对面” 学生党员谈话教育'>,\n",
       " <Element 'a' href='/index.php/home/article/search_detail/id/5431.html' target='_blank' title='公共管理学系党总支学生支部2019年春季“预备党员转正暨接收预备党员通表大会”顺利完成'>,\n",
       " <Element 'a' href='/index.php/home/article/search_detail/id/5422.html' target='_blank' title='陈天祥 公共管理学系教授，系主任'>,\n",
       " <Element 'a' href='/index.php/home/article/search_detail/id/5423.html' target='_blank' title='陈天祥 公共管理学系教授，系主任'>,\n",
       " <Element 'a' href='/index.php/home/article/search_detail/id/5426.html' target='_blank' title='陈天祥 公共管理学系教授，系主任'>,\n",
       " <Element 'a' href='/index.php/home/article/search_detail/id/5280.html' target='_blank' title='公共管理学系党总支开展“学习宪法精神，感受西塘蝶变，担当时代使命”主题党日活动'>,\n",
       " <Element 'a' href='/index.php/home/article/search_detail/id/5206.html' target='_blank' title='公共管理学系党总支2019年春季确立发展对象工作顺利结束'>,\n",
       " <Element 'a' href='/index.php/home/article/search_detail/id/5178.html' target='_blank' title='公共管理学系党总支“书记第一思想政治理论课”暨 第24期入党积极分子开班仪式顺利完成'>,\n",
       " <Element 'a' href='/index.php/home/article/search_detail/id/4919.html' target='_blank' title='我校公共管理学系参赛队荣获“第二届中国大学生公共管理案例大赛”二等奖'>,\n",
       " <Element 'a' href='/index.php/home/article/search_detail/id/4749.html' target='_blank' title='首届“新时代·南苑风”公共管理活动月系列活动之八：2018年公共管理学系第八届新生班际辩论赛决赛顺利举行'>,\n",
       " <Element 'a' href='/index.php/home/article/search_detail/id/4785.html' target='_blank' title='青风不止，马不停蹄——公共管理学系第二期“青马工程”培训会暨第八届青蓝之星学生干部培训班闭幕式圆满举行'>,\n",
       " <Element 'a' href='/index.php/home/article/search_detail/id/4783.html' target='_blank' title='公共管理学系第二期“青马工程”培训会暨第八届青蓝之星学生干部培训班第二场圆满结束'>,\n",
       " <Element 'a' class=('prev',) href='/index.php/home/article/search/keyword/%E5%85%AC%E5%85%B1%E7%AE%A1%E7%90%86%E5%AD%A6%E7%B3%BB/p/1.html'>,\n",
       " <Element 'a' class=('num',) href='/index.php/home/article/search/keyword/%E5%85%AC%E5%85%B1%E7%AE%A1%E7%90%86%E5%AD%A6%E7%B3%BB/p/1.html'>,\n",
       " <Element 'a' class=('num',) href='/index.php/home/article/search/keyword/%E5%85%AC%E5%85%B1%E7%AE%A1%E7%90%86%E5%AD%A6%E7%B3%BB/p/3.html'>,\n",
       " <Element 'a' class=('num',) href='/index.php/home/article/search/keyword/%E5%85%AC%E5%85%B1%E7%AE%A1%E7%90%86%E5%AD%A6%E7%B3%BB/p/4.html'>,\n",
       " <Element 'a' class=('num',) href='/index.php/home/article/search/keyword/%E5%85%AC%E5%85%B1%E7%AE%A1%E7%90%86%E5%AD%A6%E7%B3%BB/p/5.html'>,\n",
       " <Element 'a' class=('next',) href='/index.php/home/article/search/keyword/%E5%85%AC%E5%85%B1%E7%AE%A1%E7%90%86%E5%AD%A6%E7%B3%BB/p/3.html'>,\n",
       " <Element 'a' href='http://www.moe.gov.cn/' target='_blank' title='教育部'>,\n",
       " <Element 'a' href='http://www.gz.gov.cn/' target='_blank' title='广州市政府'>,\n",
       " <Element 'a' href='http://www.cnki.net/' target='_blank' title='中国知网'>,\n",
       " <Element 'a' href='http://edu.gd.gov.cn' target='_blank' title='广东省教育厅'>,\n",
       " <Element 'a' href='http://www.gdpr.com/' target='_blank' title='珠江投资'>,\n",
       " <Element 'a' href='http://journal.nfu.edu.cn/CN/volumn/home.shtml' target='_blank' title='南方论丛'>,\n",
       " <Element 'a' href='http://www.sysu.edu.cn/' target='_blank' title='中山大学 '>,\n",
       " <Element 'a' href='http://www.nfu.edu.cn/index.php/home/article/index/cid/136.html' target='_blank' title='珠江教育联盟'>,\n",
       " <Element 'a' href='/index.php/home/article/link.html'>,\n",
       " <Element 'a' href='http://www.unsun.net' target='_blank'>,\n",
       " <Element 'a' href='http://www.beian.miit.gov.cn' target='_blank'>,\n",
       " <Element 'a' href='/index.php/admin/index/login.html' target='_blank'>,\n",
       " <Element 'a' href='http://old.nfu.edu.cn/' target='_blank'>,\n",
       " <Element 'a' href='http://www.beian.gov.cn/portal/registerSystemInfo?recordcode=44011702000081' style='display:inline-block;text-decoration:none;height:20px;line-height:20px;' target='_blank'>]"
      ]
     },
     "execution_count": 18,
     "metadata": {},
     "output_type": "execute_result"
    }
   ],
   "source": [
    "# B-B-1 使用 xpath \n",
    "r.html.xpath('//a')  # greedy 不挑 所有 <a> 元素标签"
   ]
  },
  {
   "cell_type": "code",
   "execution_count": 19,
   "metadata": {},
   "outputs": [
    {
     "data": {
      "text/plain": [
       "['中山大学南方学院',\n",
       " '公共管理学系党总支开展“一对一、面对面” 学生党员谈话教育',\n",
       " '公共管理学系党总支学生支部2019年春季“预备党员转正暨接收预备党员通表大会”顺利完成',\n",
       " '陈天祥 公共管理学系教授，系主任',\n",
       " '陈天祥 公共管理学系教授，系主任',\n",
       " '陈天祥 公共管理学系教授，系主任',\n",
       " '公共管理学系党总支开展“学习宪法精神，感受西塘蝶变，担当时代使命”主题党日活动',\n",
       " '公共管理学系党总支2019年春季确立发展对象工作顺利结束',\n",
       " '公共管理学系党总支“书记第一思想政治理论课”暨 第24期入党积极分子开班仪式顺利完成',\n",
       " '我校公共管理学系参赛队荣获“第二届中国大学生公共管理案例大赛”二等奖',\n",
       " '首届“新时代·南苑风”公共管理活动月系列活动之八：2018年公共管理学系第八届新生班际辩论赛决赛顺利举行',\n",
       " '青风不止，马不停蹄——公共管理学系第二期“青马工程”培训会暨第八届青蓝之星学生干部培训班闭幕式圆满举行',\n",
       " '公共管理学系第二期“青马工程”培训会暨第八届青蓝之星学生干部培训班第二场圆满结束',\n",
       " '教育部',\n",
       " '广州市政府',\n",
       " '中国知网',\n",
       " '广东省教育厅',\n",
       " '珠江投资',\n",
       " '南方论丛',\n",
       " '中山大学 ',\n",
       " '珠江教育联盟']"
      ]
     },
     "execution_count": 19,
     "metadata": {},
     "output_type": "execute_result"
    }
   ],
   "source": [
    "# B-B-2 使用 xpath 限定 取特定属性\n",
    "# 注意和 B1 的内容相比, 是不是少了一些? \n",
    "# 没有特定属性title就不会被选到\n",
    "解析后.xpath('//a/@title')  # less greedy 有点挑 <a> 元素标签"
   ]
  },
  {
   "cell_type": "code",
   "execution_count": 20,
   "metadata": {},
   "outputs": [
    {
     "data": {
      "text/plain": [
       "['中山大学南方学院',\n",
       " '公共管理学系党总支开展“一对一、面对面” 学生党员谈话教育',\n",
       " '公共管理学系党总支学生支部2019年春季“预备党员转正暨接收预备党员通表大会”顺利完成',\n",
       " '陈天祥 公共管理学系教授，系主任',\n",
       " '陈天祥 公共管理学系教授，系主任',\n",
       " '陈天祥 公共管理学系教授，系主任',\n",
       " '公共管理学系党总支开展“学习宪法精神，感受西塘蝶变，担当时代使命”主题党日活动',\n",
       " '公共管理学系党总支2019年春季确立发展对象工作顺利结束',\n",
       " '公共管理学系党总支“书记第一思想政治理论课”暨 第24期入党积极分子开班仪式顺利完成',\n",
       " '我校公共管理学系参赛队荣获“第二届中国大学生公共管理案例大赛”二等奖',\n",
       " '首届“新时代·南苑风”公共管理活动月系列活动之八：2018年公共管理学系第八届新生班际辩论赛决赛顺利举行',\n",
       " '青风不止，马不停蹄——公共管理学系第二期“青马工程”培训会暨第八届青蓝之星学生干部培训班闭幕式圆满举行',\n",
       " '公共管理学系第二期“青马工程”培训会暨第八届青蓝之星学生干部培训班第二场圆满结束',\n",
       " '教育部',\n",
       " '广州市政府',\n",
       " '中国知网',\n",
       " '广东省教育厅',\n",
       " '珠江投资',\n",
       " '南方论丛',\n",
       " '中山大学 ',\n",
       " '珠江教育联盟']"
      ]
     },
     "execution_count": 20,
     "metadata": {},
     "output_type": "execute_result"
    }
   ],
   "source": [
    "# B-B-3 使用 xpath  \n",
    "# greedy 不挑元素/标签  只挑有特定属性title的所有元素\n",
    "r.html.xpath('//*/@title')  "
   ]
  },
  {
   "cell_type": "markdown",
   "metadata": {},
   "source": [
    "### 挑剔ungreedy"
   ]
  },
  {
   "cell_type": "code",
   "execution_count": 21,
   "metadata": {},
   "outputs": [
    {
     "data": {
      "text/plain": [
       "['公共管理学系党总支开展“一对一、面对面” 学生党员谈话教育',\n",
       " '公共管理学系党总支学生支部2019年春季“预备党员转正暨接收预备党员通表大会”顺利完成',\n",
       " '陈天祥 公共管理学系教授，系主任',\n",
       " '陈天祥 公共管理学系教授，系主任',\n",
       " '陈天祥 公共管理学系教授，系主任',\n",
       " '公共管理学系党总支开展“学习宪法精神，感受西塘蝶变，担当时代使命”主题党日活动',\n",
       " '公共管理学系党总支2019年春季确立发展对象工作顺利结束',\n",
       " '公共管理学系党总支“书记第一思想政治理论课”暨 第24期入党积极分子开班仪式顺利完成',\n",
       " '我校公共管理学系参赛队荣获“第二届中国大学生公共管理案例大赛”二等奖',\n",
       " '首届“新时代·南苑风”公共管理活动月系列活动之八：2018年公共管理学系第八届新生班际辩论赛决赛顺利举行',\n",
       " '青风不止，马不停蹄——公共管理学系第二期“青马工程”培训会暨第八届青蓝之星学生干部培训班闭幕式圆满举行',\n",
       " '公共管理学系第二期“青马工程”培训会暨第八届青蓝之星学生干部培训班第二场圆满结束']"
      ]
     },
     "execution_count": 21,
     "metadata": {},
     "output_type": "execute_result"
    }
   ],
   "source": [
    "# B-B-4 使用 xpath  # ungreedy 更精準\n",
    "r.html.xpath('//div[@class=\"news_title\"]/a/@title')"
   ]
  },
  {
   "cell_type": "code",
   "execution_count": 22,
   "metadata": {},
   "outputs": [
    {
     "data": {
      "text/plain": [
       "[<Element 'a' href='/index.php/home/article/search_detail/id/5470.html' target='_blank' title='公共管理学系党总支开展“一对一、面对面” 学生党员谈话教育'>,\n",
       " <Element 'a' href='/index.php/home/article/search_detail/id/5431.html' target='_blank' title='公共管理学系党总支学生支部2019年春季“预备党员转正暨接收预备党员通表大会”顺利完成'>,\n",
       " <Element 'a' href='/index.php/home/article/search_detail/id/5422.html' target='_blank' title='陈天祥 公共管理学系教授，系主任'>,\n",
       " <Element 'a' href='/index.php/home/article/search_detail/id/5423.html' target='_blank' title='陈天祥 公共管理学系教授，系主任'>,\n",
       " <Element 'a' href='/index.php/home/article/search_detail/id/5426.html' target='_blank' title='陈天祥 公共管理学系教授，系主任'>,\n",
       " <Element 'a' href='/index.php/home/article/search_detail/id/5280.html' target='_blank' title='公共管理学系党总支开展“学习宪法精神，感受西塘蝶变，担当时代使命”主题党日活动'>,\n",
       " <Element 'a' href='/index.php/home/article/search_detail/id/5206.html' target='_blank' title='公共管理学系党总支2019年春季确立发展对象工作顺利结束'>,\n",
       " <Element 'a' href='/index.php/home/article/search_detail/id/5178.html' target='_blank' title='公共管理学系党总支“书记第一思想政治理论课”暨 第24期入党积极分子开班仪式顺利完成'>,\n",
       " <Element 'a' href='/index.php/home/article/search_detail/id/4919.html' target='_blank' title='我校公共管理学系参赛队荣获“第二届中国大学生公共管理案例大赛”二等奖'>,\n",
       " <Element 'a' href='/index.php/home/article/search_detail/id/4749.html' target='_blank' title='首届“新时代·南苑风”公共管理活动月系列活动之八：2018年公共管理学系第八届新生班际辩论赛决赛顺利举行'>,\n",
       " <Element 'a' href='/index.php/home/article/search_detail/id/4785.html' target='_blank' title='青风不止，马不停蹄——公共管理学系第二期“青马工程”培训会暨第八届青蓝之星学生干部培训班闭幕式圆满举行'>,\n",
       " <Element 'a' href='/index.php/home/article/search_detail/id/4783.html' target='_blank' title='公共管理学系第二期“青马工程”培训会暨第八届青蓝之星学生干部培训班第二场圆满结束'>]"
      ]
     },
     "execution_count": 22,
     "metadata": {},
     "output_type": "execute_result"
    }
   ],
   "source": [
    "# B-B-5 使用 xpath  # ungreedy 最精准\n",
    "#   xpath 完全没有用 // 也没有用 * \n",
    "r.html.xpath('body/div[@class=\"lin-content\"]/div[@class=\"lin-neiye clearfix\"]/div[@class=\"search_list_right\"]/div[@class=\"ny_content\"]/ul[@class=\"list-ul\"]/li/div[@class=\"news_title\"]/a')"
   ]
  },
  {
   "cell_type": "markdown",
   "metadata": {},
   "source": [
    "![Xpath Axis](http://krum.rz.uni-mannheim.de/inet-2005/images/xpath-axis.gif)\n",
    "## 更多xpath\n",
    "xpath是一门在XML文档（包括html，以樹狀為主的純本文結構文檔）中查找信息的语言\n",
    "\n",
    "2. 熟悉 [xpath 语法](https://www.w3cschool.cn/xpath/xpath-syntax.html)丶[xpath 节点](https://www.w3cschool.cn/xpath/xpath-nodes.html)\n",
    "    * 节点\n",
    "        * 元素丶属性丶文本丶命名空间丶文档（根）结点\n",
    "    * 节点关系 \n",
    "        * 父母（parent） vs.先辈（ancestor）\n",
    "        * 子女（children） vs. 后代（descendant）\n",
    "        * 同胞（sibling）\n",
    "3. 使用 [xpath cheatsheet](https://devhints.io/xpath)\n",
    "  * 在 Chrome Inspector 使用\n",
    "  * 在 requests-html (Python) 使用"
   ]
  },
  {
   "cell_type": "code",
   "execution_count": 23,
   "metadata": {},
   "outputs": [
    {
     "name": "stdout",
     "output_type": "stream",
     "text": [
      "['公共管理学系党总支开展“一对一、面对面” 学生党员谈话教育', '公共管理学系党总支学生支部2019年春季“预备党员转正暨接收预备党员通表大会”顺利完成', '陈天祥 公共管理学系教授，系主任', '陈天祥 公共管理学系教授，系主任', '陈天祥 公共管理学系教授，系主任', '公共管理学系党总支开展“学习宪法精神，感受西塘蝶变，担当时代使命”主题党日活动', '公共管理学系党总支2019年春季确立发展对象工作顺利结束', '公共管理学系党总支“书记第一思想政治理论课”暨 第24期入党积极分子开班仪式顺利完成', '我校公共管理学系参赛队荣获“第二届中国大学生公共管理案例大赛”二等奖', '首届“新时代·南苑风”公共管理活动月系列活动之八：2018年公共管理学系第八届新生班际辩论赛决赛顺利举行', '青风不止，马不停蹄——公共管理学系第二期“青马工程”培训会暨第八届青蓝之星学生干部培训班闭幕式圆满举行', '公共管理学系第二期“青马工程”培训会暨第八届青蓝之星学生干部培训班第二场圆满结束']\n"
     ]
    }
   ],
   "source": [
    "# B-C-1 \n",
    "print (r.html.xpath('//div[@class=\"news_title\"]/a/@title'))"
   ]
  },
  {
   "cell_type": "code",
   "execution_count": 24,
   "metadata": {},
   "outputs": [
    {
     "name": "stdout",
     "output_type": "stream",
     "text": [
      "['/index.php/home/article/search_detail/id/5470.html', '/index.php/home/article/search_detail/id/5431.html', '/index.php/home/article/search_detail/id/5422.html', '/index.php/home/article/search_detail/id/5423.html', '/index.php/home/article/search_detail/id/5426.html', '/index.php/home/article/search_detail/id/5280.html', '/index.php/home/article/search_detail/id/5206.html', '/index.php/home/article/search_detail/id/5178.html', '/index.php/home/article/search_detail/id/4919.html', '/index.php/home/article/search_detail/id/4749.html', '/index.php/home/article/search_detail/id/4785.html', '/index.php/home/article/search_detail/id/4783.html']\n"
     ]
    }
   ],
   "source": [
    "# B-C-2\n",
    "print (r.html.xpath('//div[@class=\"news_title\"]/a/@href'))"
   ]
  },
  {
   "cell_type": "code",
   "execution_count": 25,
   "metadata": {},
   "outputs": [
    {
     "name": "stdout",
     "output_type": "stream",
     "text": [
      "['2019-05-21', '2019-05-15', '2019-05-14', '2019-05-14', '2019-05-14', '2019-04-17', '2019-04-02', '2019-03-26', '2018-12-10', '2018-11-07', '2018-11-06', '2018-10-25']\n"
     ]
    }
   ],
   "source": [
    "# B-C-3\n",
    "print (r.html.xpath('//font[@class=\"right-more\"]/text()'))"
   ]
  },
  {
   "cell_type": "code",
   "execution_count": 26,
   "metadata": {},
   "outputs": [
    {
     "name": "stdout",
     "output_type": "stream",
     "text": [
      "['2019-05-21', '2019-05-15', '2019-05-14', '2019-05-14', '2019-05-14', '2019-04-17', '2019-04-02', '2019-03-26', '2018-12-10', '2018-11-07', '2018-11-06', '2018-10-25']\n"
     ]
    }
   ],
   "source": [
    "# B-C-4\n",
    "print (r.html.xpath('//div[@class=\"news_title\"]/preceding-sibling::font/text()'))\n",
    "\n",
    "## 廖老师主张这个 B-C-4代码，会比B-C-3更好，你能不能从B-C-1, 及 B-C-2观察xpath语法，猜猜为什麽\n",
    "\n",
    "## B-C-3不是更简洁吗？难道B-C-4的理解性更强？"
   ]
  },
  {
   "cell_type": "markdown",
   "metadata": {},
   "source": [
    "## 使用pandas 輸出xlsx\n",
    "4. 简易使用 [pd.DataFrame](https://pandas.pydata.org/pandas-docs/stable/reference/api/pandas.DataFrame.to_excel.html)"
   ]
  },
  {
   "cell_type": "code",
   "execution_count": 27,
   "metadata": {},
   "outputs": [
    {
     "data": {
      "text/html": [
       "<div>\n",
       "<style scoped>\n",
       "    .dataframe tbody tr th:only-of-type {\n",
       "        vertical-align: middle;\n",
       "    }\n",
       "\n",
       "    .dataframe tbody tr th {\n",
       "        vertical-align: top;\n",
       "    }\n",
       "\n",
       "    .dataframe thead th {\n",
       "        text-align: right;\n",
       "    }\n",
       "</style>\n",
       "<table border=\"1\" class=\"dataframe\">\n",
       "  <thead>\n",
       "    <tr style=\"text-align: right;\">\n",
       "      <th></th>\n",
       "      <th>标题</th>\n",
       "      <th>链结</th>\n",
       "      <th>日期</th>\n",
       "    </tr>\n",
       "  </thead>\n",
       "  <tbody>\n",
       "    <tr>\n",
       "      <th>0</th>\n",
       "      <td>公共管理学系党总支开展“一对一、面对面” 学生党员谈话教育</td>\n",
       "      <td>/index.php/home/article/search_detail/id/5470....</td>\n",
       "      <td>2019-05-21</td>\n",
       "    </tr>\n",
       "    <tr>\n",
       "      <th>1</th>\n",
       "      <td>公共管理学系党总支学生支部2019年春季“预备党员转正暨接收预备党员通表大会”顺利完成</td>\n",
       "      <td>/index.php/home/article/search_detail/id/5431....</td>\n",
       "      <td>2019-05-15</td>\n",
       "    </tr>\n",
       "    <tr>\n",
       "      <th>2</th>\n",
       "      <td>陈天祥 公共管理学系教授，系主任</td>\n",
       "      <td>/index.php/home/article/search_detail/id/5422....</td>\n",
       "      <td>2019-05-14</td>\n",
       "    </tr>\n",
       "    <tr>\n",
       "      <th>3</th>\n",
       "      <td>陈天祥 公共管理学系教授，系主任</td>\n",
       "      <td>/index.php/home/article/search_detail/id/5423....</td>\n",
       "      <td>2019-05-14</td>\n",
       "    </tr>\n",
       "    <tr>\n",
       "      <th>4</th>\n",
       "      <td>陈天祥 公共管理学系教授，系主任</td>\n",
       "      <td>/index.php/home/article/search_detail/id/5426....</td>\n",
       "      <td>2019-05-14</td>\n",
       "    </tr>\n",
       "    <tr>\n",
       "      <th>5</th>\n",
       "      <td>公共管理学系党总支开展“学习宪法精神，感受西塘蝶变，担当时代使命”主题党日活动</td>\n",
       "      <td>/index.php/home/article/search_detail/id/5280....</td>\n",
       "      <td>2019-04-17</td>\n",
       "    </tr>\n",
       "    <tr>\n",
       "      <th>6</th>\n",
       "      <td>公共管理学系党总支2019年春季确立发展对象工作顺利结束</td>\n",
       "      <td>/index.php/home/article/search_detail/id/5206....</td>\n",
       "      <td>2019-04-02</td>\n",
       "    </tr>\n",
       "    <tr>\n",
       "      <th>7</th>\n",
       "      <td>公共管理学系党总支“书记第一思想政治理论课”暨 第24期入党积极分子开班仪式顺利完成</td>\n",
       "      <td>/index.php/home/article/search_detail/id/5178....</td>\n",
       "      <td>2019-03-26</td>\n",
       "    </tr>\n",
       "    <tr>\n",
       "      <th>8</th>\n",
       "      <td>我校公共管理学系参赛队荣获“第二届中国大学生公共管理案例大赛”二等奖</td>\n",
       "      <td>/index.php/home/article/search_detail/id/4919....</td>\n",
       "      <td>2018-12-10</td>\n",
       "    </tr>\n",
       "    <tr>\n",
       "      <th>9</th>\n",
       "      <td>首届“新时代·南苑风”公共管理活动月系列活动之八：2018年公共管理学系第八届新生班际辩论赛...</td>\n",
       "      <td>/index.php/home/article/search_detail/id/4749....</td>\n",
       "      <td>2018-11-07</td>\n",
       "    </tr>\n",
       "    <tr>\n",
       "      <th>10</th>\n",
       "      <td>青风不止，马不停蹄——公共管理学系第二期“青马工程”培训会暨第八届青蓝之星学生干部培训班闭幕...</td>\n",
       "      <td>/index.php/home/article/search_detail/id/4785....</td>\n",
       "      <td>2018-11-06</td>\n",
       "    </tr>\n",
       "    <tr>\n",
       "      <th>11</th>\n",
       "      <td>公共管理学系第二期“青马工程”培训会暨第八届青蓝之星学生干部培训班第二场圆满结束</td>\n",
       "      <td>/index.php/home/article/search_detail/id/4783....</td>\n",
       "      <td>2018-10-25</td>\n",
       "    </tr>\n",
       "  </tbody>\n",
       "</table>\n",
       "</div>"
      ],
      "text/plain": [
       "                                                   标题  \\\n",
       "0                       公共管理学系党总支开展“一对一、面对面” 学生党员谈话教育   \n",
       "1         公共管理学系党总支学生支部2019年春季“预备党员转正暨接收预备党员通表大会”顺利完成   \n",
       "2                                    陈天祥 公共管理学系教授，系主任   \n",
       "3                                    陈天祥 公共管理学系教授，系主任   \n",
       "4                                    陈天祥 公共管理学系教授，系主任   \n",
       "5             公共管理学系党总支开展“学习宪法精神，感受西塘蝶变，担当时代使命”主题党日活动   \n",
       "6                        公共管理学系党总支2019年春季确立发展对象工作顺利结束   \n",
       "7          公共管理学系党总支“书记第一思想政治理论课”暨 第24期入党积极分子开班仪式顺利完成   \n",
       "8                  我校公共管理学系参赛队荣获“第二届中国大学生公共管理案例大赛”二等奖   \n",
       "9   首届“新时代·南苑风”公共管理活动月系列活动之八：2018年公共管理学系第八届新生班际辩论赛...   \n",
       "10  青风不止，马不停蹄——公共管理学系第二期“青马工程”培训会暨第八届青蓝之星学生干部培训班闭幕...   \n",
       "11           公共管理学系第二期“青马工程”培训会暨第八届青蓝之星学生干部培训班第二场圆满结束   \n",
       "\n",
       "                                                   链结          日期  \n",
       "0   /index.php/home/article/search_detail/id/5470....  2019-05-21  \n",
       "1   /index.php/home/article/search_detail/id/5431....  2019-05-15  \n",
       "2   /index.php/home/article/search_detail/id/5422....  2019-05-14  \n",
       "3   /index.php/home/article/search_detail/id/5423....  2019-05-14  \n",
       "4   /index.php/home/article/search_detail/id/5426....  2019-05-14  \n",
       "5   /index.php/home/article/search_detail/id/5280....  2019-04-17  \n",
       "6   /index.php/home/article/search_detail/id/5206....  2019-04-02  \n",
       "7   /index.php/home/article/search_detail/id/5178....  2019-03-26  \n",
       "8   /index.php/home/article/search_detail/id/4919....  2018-12-10  \n",
       "9   /index.php/home/article/search_detail/id/4749....  2018-11-07  \n",
       "10  /index.php/home/article/search_detail/id/4785....  2018-11-06  \n",
       "11  /index.php/home/article/search_detail/id/4783....  2018-10-25  "
      ]
     },
     "execution_count": 27,
     "metadata": {},
     "output_type": "execute_result"
    }
   ],
   "source": [
    "# B-D-1 pd.DataFrame 建构，pandas课有教\n",
    "df = pd.DataFrame( {\n",
    "         \"标题\": r.html.xpath('//div[@class=\"news_title\"]/a/@title'),\n",
    "         \"链结\": r.html.xpath('//div[@class=\"news_title\"]/a/@href'),\n",
    "         \"日期\": r.html.xpath('//font[@class=\"right-more\"]/text()'),\n",
    "     } )\n",
    "df"
   ]
  },
  {
   "cell_type": "code",
   "execution_count": 32,
   "metadata": {},
   "outputs": [],
   "source": [
    "# B-D-2 pd.DataFrame 输出excel，pandas课有教\n",
    "df.to_excel(\"20春_Web数据挖掘_week02_nfu_文学与传媒学院.xlsx\", sheet_name=\"搜查结果\")"
   ]
  },
  {
   "cell_type": "markdown",
   "metadata": {},
   "source": [
    "# 本周小结内容\n",
    "\n"
   ]
  },
  {
   "cell_type": "markdown",
   "metadata": {},
   "source": [
    "## 打开Excel档看成果"
   ]
  },
  {
   "cell_type": "markdown",
   "metadata": {},
   "source": [
    "# 课后练习及下周项目m.liepin.com\n",
    "\n",
    "使用 xpath 应用 [m.liepin.com](https://m.liepin.com/zhaopin/)\n",
    "\n",
    "你是数据科学家，这m.liepin.com有什麽样的牛肉，你打算要怎麽抓？\n",
    "* 工作名称\n",
    "* 工作地点\n",
    "* 工作$"
   ]
  },
  {
   "cell_type": "code",
   "execution_count": 28,
   "metadata": {},
   "outputs": [],
   "source": [
    "# C-1   单一页面\n",
    "url = \"https://m.liepin.com/zhaopin/?keyword=pandas\"\n",
    "session = HTMLSession()\n",
    "r = session.get( url )"
   ]
  },
  {
   "cell_type": "code",
   "execution_count": 29,
   "metadata": {},
   "outputs": [],
   "source": [
    "# C-2 保存备用\n",
    "with open (\"20春_Web数据挖掘_week02_zhaopin_pandas.html\", encoding = \"utf8\", mode = \"w\") as fp:\n",
    "    fp.write(r.html.html)"
   ]
  },
  {
   "cell_type": "code",
   "execution_count": 66,
   "metadata": {},
   "outputs": [
    {
     "name": "stdout",
     "output_type": "stream",
     "text": [
      "['深圳市智灵时代科技有限公司', '天津恒程科技有限公司', '广东蔚海数问大数据科技有限公司', '赫基(中国)集团股份有限公司', '广州君思网络科技有限公司', '珠海钧誉资产管理有限公司', '广东南芯医疗科技有限公司', '某游戏公司', '某电子行业海外上市公司', '某知名外企', '新城科技', '酷狗音乐', '南芯智造(广州)医疗器械有限公司', '亚美信息科技', '欢聚集团', '唯品会(中国)', '中邮消费金融有限公司', '沈阳东软睿道教育服务有限公司', '友邦资讯科技', '恒安嘉新', '广州天汇资本管理有限公司', '北京传智播客教育科技有限公司', '玄武科技', '迪奥广州', '广州新博庭网络信息科技股份有限公司']\n",
      "['广州', '广州', '广州-天河区', '广州-天河区', '广州', '广州-天河区', '广州-黄埔区', '北京,广州,上海', '上海,深圳,广州', '广州,深圳', '深圳,广州', '广州', '广州-黄埔区', '广州', '广州-番禺区', '广州', '广州-天河区', '广州-黄埔区', '广州-越秀区', '广州-越秀区', '广州-珠江新城', '广州-天河区', '广州-天河区', '广州-天河区', '广州', '客户端', '反馈']\n"
     ]
    }
   ],
   "source": [
    "# C-4\n",
    "# 中: '公司地点', '公司名称'\n",
    "\n",
    "# 你的代码?\n",
    "print (r.html.xpath('//*[@class=\"ellipsis-1 company-name\"]/text()'))\n",
    "print (r.html.xpath('/html/body//li[3]/a/text()'))\n",
    "\n",
    "\n"
   ]
  },
  {
   "cell_type": "code",
   "execution_count": 76,
   "metadata": {},
   "outputs": [
    {
     "data": {
      "text/plain": [
       "{'公司名称': ['深圳市智灵时代科技有限公司',\n",
       "  '天津恒程科技有限公司',\n",
       "  '广东蔚海数问大数据科技有限公司',\n",
       "  '赫基(中国)集团股份有限公司',\n",
       "  '广州君思网络科技有限公司',\n",
       "  '珠海钧誉资产管理有限公司',\n",
       "  '广东南芯医疗科技有限公司',\n",
       "  '某游戏公司',\n",
       "  '某电子行业海外上市公司',\n",
       "  '某知名外企',\n",
       "  '新城科技',\n",
       "  '酷狗音乐',\n",
       "  '南芯智造(广州)医疗器械有限公司',\n",
       "  '亚美信息科技',\n",
       "  '欢聚集团',\n",
       "  '唯品会(中国)',\n",
       "  '中邮消费金融有限公司',\n",
       "  '沈阳东软睿道教育服务有限公司',\n",
       "  '友邦资讯科技',\n",
       "  '恒安嘉新',\n",
       "  '广州天汇资本管理有限公司',\n",
       "  '北京传智播客教育科技有限公司',\n",
       "  '玄武科技',\n",
       "  '迪奥广州',\n",
       "  '广州新博庭网络信息科技股份有限公司'],\n",
       " '公司地点': ['广州',\n",
       "  '广州',\n",
       "  '广州-天河区',\n",
       "  '广州-天河区',\n",
       "  '广州',\n",
       "  '广州-天河区',\n",
       "  '广州-黄埔区',\n",
       "  '北京,广州,上海',\n",
       "  '上海,深圳,广州',\n",
       "  '广州,深圳',\n",
       "  '深圳,广州',\n",
       "  '广州',\n",
       "  '广州-黄埔区',\n",
       "  '广州',\n",
       "  '广州-番禺区',\n",
       "  '广州',\n",
       "  '广州-天河区',\n",
       "  '广州-黄埔区',\n",
       "  '广州-越秀区',\n",
       "  '广州-越秀区',\n",
       "  '广州-珠江新城',\n",
       "  '广州-天河区',\n",
       "  '广州-天河区',\n",
       "  '广州-天河区',\n",
       "  '广州',\n",
       "  '客户端',\n",
       "  '反馈']}"
      ]
     },
     "execution_count": 76,
     "metadata": {},
     "output_type": "execute_result"
    }
   ],
   "source": [
    "# 将爬取到的数据存储为字典，再转化为表格\n",
    "\n",
    "d={  \"公司名称\": r.html.xpath('//*[@class=\"ellipsis-1 company-name\"]/text()'),\n",
    "         \"公司地点\": r.html.xpath('/html/body//li[3]/a/text()'),}\n",
    "d"
   ]
  },
  {
   "cell_type": "code",
   "execution_count": 77,
   "metadata": {},
   "outputs": [
    {
     "data": {
      "text/html": [
       "<div>\n",
       "<style scoped>\n",
       "    .dataframe tbody tr th:only-of-type {\n",
       "        vertical-align: middle;\n",
       "    }\n",
       "\n",
       "    .dataframe tbody tr th {\n",
       "        vertical-align: top;\n",
       "    }\n",
       "\n",
       "    .dataframe thead th {\n",
       "        text-align: right;\n",
       "    }\n",
       "</style>\n",
       "<table border=\"1\" class=\"dataframe\">\n",
       "  <thead>\n",
       "    <tr style=\"text-align: right;\">\n",
       "      <th></th>\n",
       "      <th>0</th>\n",
       "      <th>1</th>\n",
       "      <th>2</th>\n",
       "      <th>3</th>\n",
       "      <th>4</th>\n",
       "      <th>5</th>\n",
       "      <th>6</th>\n",
       "      <th>7</th>\n",
       "      <th>8</th>\n",
       "      <th>9</th>\n",
       "      <th>...</th>\n",
       "      <th>17</th>\n",
       "      <th>18</th>\n",
       "      <th>19</th>\n",
       "      <th>20</th>\n",
       "      <th>21</th>\n",
       "      <th>22</th>\n",
       "      <th>23</th>\n",
       "      <th>24</th>\n",
       "      <th>25</th>\n",
       "      <th>26</th>\n",
       "    </tr>\n",
       "  </thead>\n",
       "  <tbody>\n",
       "    <tr>\n",
       "      <th>公司名称</th>\n",
       "      <td>深圳市智灵时代科技有限公司</td>\n",
       "      <td>天津恒程科技有限公司</td>\n",
       "      <td>广东蔚海数问大数据科技有限公司</td>\n",
       "      <td>赫基(中国)集团股份有限公司</td>\n",
       "      <td>广州君思网络科技有限公司</td>\n",
       "      <td>珠海钧誉资产管理有限公司</td>\n",
       "      <td>广东南芯医疗科技有限公司</td>\n",
       "      <td>某游戏公司</td>\n",
       "      <td>某电子行业海外上市公司</td>\n",
       "      <td>某知名外企</td>\n",
       "      <td>...</td>\n",
       "      <td>沈阳东软睿道教育服务有限公司</td>\n",
       "      <td>友邦资讯科技</td>\n",
       "      <td>恒安嘉新</td>\n",
       "      <td>广州天汇资本管理有限公司</td>\n",
       "      <td>北京传智播客教育科技有限公司</td>\n",
       "      <td>玄武科技</td>\n",
       "      <td>迪奥广州</td>\n",
       "      <td>广州新博庭网络信息科技股份有限公司</td>\n",
       "      <td>None</td>\n",
       "      <td>None</td>\n",
       "    </tr>\n",
       "    <tr>\n",
       "      <th>公司地点</th>\n",
       "      <td>广州</td>\n",
       "      <td>广州</td>\n",
       "      <td>广州-天河区</td>\n",
       "      <td>广州-天河区</td>\n",
       "      <td>广州</td>\n",
       "      <td>广州-天河区</td>\n",
       "      <td>广州-黄埔区</td>\n",
       "      <td>北京,广州,上海</td>\n",
       "      <td>上海,深圳,广州</td>\n",
       "      <td>广州,深圳</td>\n",
       "      <td>...</td>\n",
       "      <td>广州-黄埔区</td>\n",
       "      <td>广州-越秀区</td>\n",
       "      <td>广州-越秀区</td>\n",
       "      <td>广州-珠江新城</td>\n",
       "      <td>广州-天河区</td>\n",
       "      <td>广州-天河区</td>\n",
       "      <td>广州-天河区</td>\n",
       "      <td>广州</td>\n",
       "      <td>客户端</td>\n",
       "      <td>反馈</td>\n",
       "    </tr>\n",
       "  </tbody>\n",
       "</table>\n",
       "<p>2 rows × 27 columns</p>\n",
       "</div>"
      ],
      "text/plain": [
       "                 0           1                2               3   \\\n",
       "公司名称  深圳市智灵时代科技有限公司  天津恒程科技有限公司  广东蔚海数问大数据科技有限公司  赫基(中国)集团股份有限公司   \n",
       "公司地点             广州          广州           广州-天河区          广州-天河区   \n",
       "\n",
       "                4             5             6         7            8      9   \\\n",
       "公司名称  广州君思网络科技有限公司  珠海钧誉资产管理有限公司  广东南芯医疗科技有限公司     某游戏公司  某电子行业海外上市公司  某知名外企   \n",
       "公司地点            广州        广州-天河区        广州-黄埔区  北京,广州,上海     上海,深圳,广州  广州,深圳   \n",
       "\n",
       "      ...              17      18      19            20              21  \\\n",
       "公司名称  ...  沈阳东软睿道教育服务有限公司  友邦资讯科技    恒安嘉新  广州天汇资本管理有限公司  北京传智播客教育科技有限公司   \n",
       "公司地点  ...          广州-黄埔区  广州-越秀区  广州-越秀区       广州-珠江新城          广州-天河区   \n",
       "\n",
       "          22      23                 24    25    26  \n",
       "公司名称    玄武科技    迪奥广州  广州新博庭网络信息科技股份有限公司  None  None  \n",
       "公司地点  广州-天河区  广州-天河区                 广州   客户端    反馈  \n",
       "\n",
       "[2 rows x 27 columns]"
      ]
     },
     "execution_count": 77,
     "metadata": {},
     "output_type": "execute_result"
    }
   ],
   "source": [
    "\n",
    "\n",
    "\n",
    "df = pd.DataFrame.from_dict(d, orient='index')#通过上网搜索解决了ValueError: arrays must all be same length的问题\n",
    "df\n",
    "\n",
    "# 解决难题的链接为https://www.wandouip.com/t5i417129/"
   ]
  },
  {
   "cell_type": "code",
   "execution_count": 75,
   "metadata": {},
   "outputs": [],
   "source": [
    "df.to_excel(\"猎聘pandas职位的数据.xlsx\", sheet_name=\"搜查结果\") "
   ]
  },
  {
   "cell_type": "code",
   "execution_count": null,
   "metadata": {
    "collapsed": true
   },
   "outputs": [],
   "source": []
  }
 ],
 "metadata": {
  "kernelspec": {
   "display_name": "Python 3",
   "language": "python",
   "name": "python3"
  },
  "language_info": {
   "codemirror_mode": {
    "name": "ipython",
    "version": 3
   },
   "file_extension": ".py",
   "mimetype": "text/x-python",
   "name": "python",
   "nbconvert_exporter": "python",
   "pygments_lexer": "ipython3",
   "version": "3.7.3"
  },
  "toc": {
   "base_numbering": 1,
   "nav_menu": {},
   "number_sections": true,
   "sideBar": true,
   "skip_h1_title": false,
   "title_cell": "Table of Contents",
   "title_sidebar": "Contents",
   "toc_cell": false,
   "toc_position": {
    "height": "749px",
    "left": "1125.609375px",
    "top": "110px",
    "width": "281.390625px"
   },
   "toc_section_display": true,
   "toc_window_display": true
  }
 },
 "nbformat": 4,
 "nbformat_minor": 2
}
